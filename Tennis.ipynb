{
 "cells": [
  {
   "cell_type": "markdown",
   "metadata": {},
   "source": [
    "# Collaboration and Competition\n",
    "\n",
    "---\n",
    "\n",
    "In this notebook, you will learn how to use the Unity ML-Agents environment for the third project of the [Deep Reinforcement Learning Nanodegree](https://www.udacity.com/course/deep-reinforcement-learning-nanodegree--nd893) program.\n",
    "\n",
    "### 1. Start the Environment\n",
    "\n",
    "We begin by importing the necessary packages.  If the code cell below returns an error, please revisit the project instructions to double-check that you have installed [Unity ML-Agents](https://github.com/Unity-Technologies/ml-agents/blob/master/docs/Installation.md) and [NumPy](http://www.numpy.org/)."
   ]
  },
  {
   "cell_type": "code",
   "execution_count": 3,
   "metadata": {},
   "outputs": [],
   "source": [
    "from unityagents import UnityEnvironment\n",
    "import numpy as np\n"
   ]
  },
  {
   "cell_type": "markdown",
   "metadata": {},
   "source": [
    "Next, we will start the environment!  **_Before running the code cell below_**, change the `file_name` parameter to match the location of the Unity environment that you downloaded.\n",
    "\n",
    "- **Mac**: `\"path/to/Tennis.app\"`\n",
    "- **Windows** (x86): `\"path/to/Tennis_Windows_x86/Tennis.exe\"`\n",
    "- **Windows** (x86_64): `\"path/to/Tennis_Windows_x86_64/Tennis.exe\"`\n",
    "- **Linux** (x86): `\"path/to/Tennis_Linux/Tennis.x86\"`\n",
    "- **Linux** (x86_64): `\"path/to/Tennis_Linux/Tennis.x86_64\"`\n",
    "- **Linux** (x86, headless): `\"path/to/Tennis_Linux_NoVis/Tennis.x86\"`\n",
    "- **Linux** (x86_64, headless): `\"path/to/Tennis_Linux_NoVis/Tennis.x86_64\"`\n",
    "\n",
    "For instance, if you are using a Mac, then you downloaded `Tennis.app`.  If this file is in the same folder as the notebook, then the line below should appear as follows:\n",
    "```\n",
    "env = UnityEnvironment(file_name=\"Tennis.app\")\n",
    "```"
   ]
  },
  {
   "cell_type": "code",
   "execution_count": 4,
   "metadata": {},
   "outputs": [
    {
     "name": "stderr",
     "output_type": "stream",
     "text": [
      "INFO:unityagents:\n'Academy' started successfully!\nUnity Academy name: Academy\n        Number of Brains: 1\n        Number of External Brains : 1\n        Lesson number : 0\n        Reset Parameters :\n\t\t\nUnity brain name: TennisBrain\n        Number of Visual Observations (per agent): 0\n        Vector Observation space type: continuous\n        Vector Observation space size (per agent): 8\n        Number of stacked Vector Observation: 3\n        Vector Action space type: continuous\n        Vector Action space size (per agent): 2\n        Vector Action descriptions: , \n"
     ]
    }
   ],
   "source": [
    "env = UnityEnvironment(file_name=\"Tennis_Linux/Tennis.x86_64\")"
   ]
  },
  {
   "cell_type": "markdown",
   "metadata": {},
   "source": [
    "Environments contain **_brains_** which are responsible for deciding the actions of their associated agents. Here we check for the first brain available, and set it as the default brain we will be controlling from Python."
   ]
  },
  {
   "cell_type": "code",
   "execution_count": 5,
   "metadata": {},
   "outputs": [],
   "source": [
    "# get the default brain\n",
    "brain_name = env.brain_names[0]\n",
    "brain = env.brains[brain_name]"
   ]
  },
  {
   "cell_type": "markdown",
   "metadata": {},
   "source": [
    "### 2. Examine the State and Action Spaces\n",
    "\n",
    "In this environment, two agents control rackets to bounce a ball over a net. If an agent hits the ball over the net, it receives a reward of +0.1.  If an agent lets a ball hit the ground or hits the ball out of bounds, it receives a reward of -0.01.  Thus, the goal of each agent is to keep the ball in play.\n",
    "\n",
    "The observation space consists of 8 variables corresponding to the position and velocity of the ball and racket. Two continuous actions are available, corresponding to movement toward (or away from) the net, and jumping. \n",
    "\n",
    "Run the code cell below to print some information about the environment."
   ]
  },
  {
   "cell_type": "code",
   "execution_count": 6,
   "metadata": {},
   "outputs": [
    {
     "name": "stdout",
     "output_type": "stream",
     "text": [
      "Number of agents: 2\nSize of each action: 2\nThere are 2 agents. Each observes a state with length: 24\nThe state for the first agent looks like: [ 0.          0.          0.          0.          0.          0.\n  0.          0.          0.          0.          0.          0.\n  0.          0.          0.          0.         -6.65278625 -1.5\n -0.          0.          6.83172083  6.         -0.          0.        ]\n"
     ]
    }
   ],
   "source": [
    "# reset the environment\n",
    "env_info = env.reset(train_mode=True)[brain_name]\n",
    "\n",
    "# number of agents \n",
    "num_agents = len(env_info.agents)\n",
    "print('Number of agents:', num_agents)\n",
    "\n",
    "# size of each action\n",
    "action_size = brain.vector_action_space_size\n",
    "print('Size of each action:', action_size)\n",
    "\n",
    "# examine the state space \n",
    "states = env_info.vector_observations\n",
    "state_size = states.shape[1]\n",
    "print('There are {} agents. Each observes a state with length: {}'.format(states.shape[0], state_size))\n",
    "print('The state for the first agent looks like:', states[0])"
   ]
  },
  {
   "cell_type": "markdown",
   "metadata": {},
   "source": [
    "### 3. Take Random Actions in the Environment\n",
    "\n",
    "In the next code cell, you will learn how to use the Python API to control the agents and receive feedback from the environment.\n",
    "\n",
    "Once this cell is executed, you will watch the agents' performance, if they select actions at random with each time step.  A window should pop up that allows you to observe the agents.\n",
    "\n",
    "Of course, as part of the project, you'll have to change the code so that the agents are able to use their experiences to gradually choose better actions when interacting with the environment!"
   ]
  },
  {
   "cell_type": "code",
   "execution_count": 7,
   "metadata": {},
   "outputs": [
    {
     "name": "stdout",
     "output_type": "stream",
     "text": [
      "Score (max over agents) from episode 1: 0.0\n"
     ]
    },
    {
     "name": "stdout",
     "output_type": "stream",
     "text": [
      "Score (max over agents) from episode 2: 0.0\nScore (max over agents) from episode 3: 0.0\nScore (max over agents) from episode 4: 0.0\n"
     ]
    },
    {
     "name": "stdout",
     "output_type": "stream",
     "text": [
      "Score (max over agents) from episode 5: 0.0\n"
     ]
    }
   ],
   "source": [
    "for i in range(1, 6):                                      # play game for 5 episodes\n",
    "    env_info = env.reset(train_mode=False)[brain_name]     # reset the environment    \n",
    "    states = env_info.vector_observations                  # get the current state (for each agent)\n",
    "    scores = np.zeros(num_agents)                          # initialize the score (for each agent)\n",
    "    while True:\n",
    "        actions = np.random.randn(num_agents, action_size) # select an action (for each agent)\n",
    "        actions = np.clip(actions, -1, 1)                  # all actions between -1 and 1\n",
    "        env_info = env.step(actions)[brain_name]           # send all actions to tne environment\n",
    "        next_states = env_info.vector_observations         # get next state (for each agent)\n",
    "        rewards = env_info.rewards                         # get reward (for each agent)\n",
    "        dones = env_info.local_done                        # see if episode finished\n",
    "        scores += env_info.rewards                         # update the score (for each agent)\n",
    "        states = next_states                               # roll over states to next time step\n",
    "        if np.any(dones):                                  # exit loop if episode finished\n",
    "            break\n",
    "    print('Score (max over agents) from episode {}: {}'.format(i, np.max(scores)))"
   ]
  },
  {
   "cell_type": "markdown",
   "metadata": {},
   "source": [
    "When finished, you can close the environment."
   ]
  },
  {
   "cell_type": "code",
   "execution_count": 15,
   "metadata": {},
   "outputs": [],
   "source": [
    "env.close()"
   ]
  },
  {
   "cell_type": "markdown",
   "metadata": {},
   "source": [
    "### 4. It's Your Turn!\n",
    "\n",
    "Now it's your turn to train your own agent to solve the environment!  When training the environment, set `train_mode=True`, so that the line for resetting the environment looks like the following:\n",
    "```python\n",
    "env_info = env.reset(train_mode=True)[brain_name]\n",
    "```"
   ]
  },
  {
   "cell_type": "code",
   "execution_count": 8,
   "metadata": {},
   "outputs": [],
   "source": [
    "\n",
    "# adding the model \n",
    "import torch\n",
    "import matplotlib.pyplot as plt\n",
    "from collections import deque\n",
    "from p3_collab_compet.ddpg_agent import Agent"
   ]
  },
  {
   "cell_type": "code",
   "execution_count": 9,
   "metadata": {},
   "outputs": [
    {
     "name": "stdout",
     "output_type": "stream",
     "text": [
      "\rEpisode 1\tAverage Score: 0.0000\rEpisode 2\tAverage Score: 0.0000\rEpisode 3\tAverage Score: 0.0000"
     ]
    },
    {
     "name": "stdout",
     "output_type": "stream",
     "text": [
      "\rEpisode 4\tAverage Score: 0.0000"
     ]
    },
    {
     "name": "stdout",
     "output_type": "stream",
     "text": [
      "\rEpisode 5\tAverage Score: 0.0000"
     ]
    },
    {
     "name": "stdout",
     "output_type": "stream",
     "text": [
      "\rEpisode 6\tAverage Score: 0.0000\rEpisode 7\tAverage Score: 0.0000"
     ]
    },
    {
     "name": "stdout",
     "output_type": "stream",
     "text": [
      "\rEpisode 8\tAverage Score: 0.0000\rEpisode 9\tAverage Score: 0.0000"
     ]
    },
    {
     "name": "stdout",
     "output_type": "stream",
     "text": [
      "\rEpisode 10\tAverage Score: 0.0000\rEpisode 11\tAverage Score: 0.0000"
     ]
    },
    {
     "name": "stdout",
     "output_type": "stream",
     "text": [
      "\rEpisode 12\tAverage Score: 0.0000\rEpisode 13\tAverage Score: 0.0000"
     ]
    },
    {
     "name": "stdout",
     "output_type": "stream",
     "text": [
      "\rEpisode 14\tAverage Score: 0.0000\rEpisode 15\tAverage Score: 0.0000"
     ]
    },
    {
     "name": "stdout",
     "output_type": "stream",
     "text": [
      "\rEpisode 16\tAverage Score: 0.0000\rEpisode 17\tAverage Score: 0.0000"
     ]
    },
    {
     "name": "stdout",
     "output_type": "stream",
     "text": [
      "\rEpisode 18\tAverage Score: 0.0000\rEpisode 19\tAverage Score: 0.0000"
     ]
    },
    {
     "name": "stdout",
     "output_type": "stream",
     "text": [
      "\rEpisode 20\tAverage Score: 0.0000\rEpisode 21\tAverage Score: 0.0000"
     ]
    },
    {
     "name": "stdout",
     "output_type": "stream",
     "text": [
      "\rEpisode 22\tAverage Score: 0.0000\rEpisode 23\tAverage Score: 0.0000"
     ]
    },
    {
     "name": "stdout",
     "output_type": "stream",
     "text": [
      "\rEpisode 24\tAverage Score: 0.0000\rEpisode 25\tAverage Score: 0.0000"
     ]
    },
    {
     "name": "stdout",
     "output_type": "stream",
     "text": [
      "\rEpisode 26\tAverage Score: 0.0000\rEpisode 27\tAverage Score: 0.0000"
     ]
    },
    {
     "name": "stdout",
     "output_type": "stream",
     "text": [
      "\rEpisode 28\tAverage Score: 0.0000\rEpisode 29\tAverage Score: 0.0000"
     ]
    },
    {
     "name": "stdout",
     "output_type": "stream",
     "text": [
      "\rEpisode 30\tAverage Score: 0.0000\rEpisode 31\tAverage Score: 0.0000"
     ]
    },
    {
     "name": "stdout",
     "output_type": "stream",
     "text": [
      "\rEpisode 32\tAverage Score: 0.0000\rEpisode 33\tAverage Score: 0.0000"
     ]
    },
    {
     "name": "stdout",
     "output_type": "stream",
     "text": [
      "\rEpisode 34\tAverage Score: 0.0000\rEpisode 35\tAverage Score: 0.0000"
     ]
    },
    {
     "name": "stdout",
     "output_type": "stream",
     "text": [
      "\rEpisode 36\tAverage Score: 0.0000\rEpisode 37\tAverage Score: 0.0000"
     ]
    },
    {
     "name": "stdout",
     "output_type": "stream",
     "text": [
      "\rEpisode 38\tAverage Score: 0.0000\rEpisode 39\tAverage Score: 0.0000"
     ]
    },
    {
     "name": "stdout",
     "output_type": "stream",
     "text": [
      "\rEpisode 40\tAverage Score: 0.0000\rEpisode 41\tAverage Score: 0.0000"
     ]
    },
    {
     "name": "stdout",
     "output_type": "stream",
     "text": [
      "\rEpisode 42\tAverage Score: 0.0000\rEpisode 43\tAverage Score: 0.0000"
     ]
    },
    {
     "name": "stdout",
     "output_type": "stream",
     "text": [
      "\rEpisode 44\tAverage Score: 0.0000\rEpisode 45\tAverage Score: 0.0000"
     ]
    },
    {
     "name": "stdout",
     "output_type": "stream",
     "text": [
      "\rEpisode 46\tAverage Score: 0.0000\rEpisode 47\tAverage Score: 0.0000"
     ]
    },
    {
     "name": "stdout",
     "output_type": "stream",
     "text": [
      "\rEpisode 48\tAverage Score: 0.0000\rEpisode 49\tAverage Score: 0.0000"
     ]
    },
    {
     "name": "stdout",
     "output_type": "stream",
     "text": [
      "\rEpisode 50\tAverage Score: 0.0000\rEpisode 51\tAverage Score: 0.0000"
     ]
    },
    {
     "name": "stdout",
     "output_type": "stream",
     "text": [
      "\rEpisode 52\tAverage Score: 0.0000\rEpisode 53\tAverage Score: 0.0000"
     ]
    },
    {
     "name": "stdout",
     "output_type": "stream",
     "text": [
      "\rEpisode 54\tAverage Score: 0.0000\rEpisode 55\tAverage Score: 0.0000"
     ]
    },
    {
     "name": "stdout",
     "output_type": "stream",
     "text": [
      "\rEpisode 56\tAverage Score: 0.0000\rEpisode 57\tAverage Score: 0.0000"
     ]
    },
    {
     "name": "stdout",
     "output_type": "stream",
     "text": [
      "\rEpisode 58\tAverage Score: 0.0000\rEpisode 59\tAverage Score: 0.0000"
     ]
    },
    {
     "name": "stdout",
     "output_type": "stream",
     "text": [
      "\rEpisode 60\tAverage Score: 0.0000\rEpisode 61\tAverage Score: 0.0000"
     ]
    },
    {
     "name": "stdout",
     "output_type": "stream",
     "text": [
      "\rEpisode 62\tAverage Score: 0.0000\rEpisode 63\tAverage Score: 0.0000"
     ]
    },
    {
     "name": "stdout",
     "output_type": "stream",
     "text": [
      "\rEpisode 64\tAverage Score: 0.0000\rEpisode 65\tAverage Score: 0.0000"
     ]
    },
    {
     "name": "stdout",
     "output_type": "stream",
     "text": [
      "\rEpisode 66\tAverage Score: 0.0000\rEpisode 67\tAverage Score: 0.0000"
     ]
    },
    {
     "name": "stdout",
     "output_type": "stream",
     "text": [
      "\rEpisode 68\tAverage Score: 0.0000\rEpisode 69\tAverage Score: 0.0000"
     ]
    },
    {
     "name": "stdout",
     "output_type": "stream",
     "text": [
      "\rEpisode 70\tAverage Score: 0.0000\rEpisode 71\tAverage Score: 0.0000"
     ]
    },
    {
     "name": "stdout",
     "output_type": "stream",
     "text": [
      "\rEpisode 72\tAverage Score: 0.0000\rEpisode 73\tAverage Score: 0.0000"
     ]
    },
    {
     "name": "stdout",
     "output_type": "stream",
     "text": [
      "\rEpisode 74\tAverage Score: 0.0000\rEpisode 75\tAverage Score: 0.0000"
     ]
    },
    {
     "name": "stdout",
     "output_type": "stream",
     "text": [
      "\rEpisode 76\tAverage Score: 0.0000\rEpisode 77\tAverage Score: 0.0000"
     ]
    },
    {
     "name": "stdout",
     "output_type": "stream",
     "text": [
      "\rEpisode 78\tAverage Score: 0.0000\rEpisode 79\tAverage Score: 0.0000"
     ]
    },
    {
     "name": "stdout",
     "output_type": "stream",
     "text": [
      "\rEpisode 80\tAverage Score: 0.0000\rEpisode 81\tAverage Score: 0.0000"
     ]
    },
    {
     "name": "stdout",
     "output_type": "stream",
     "text": [
      "\rEpisode 82\tAverage Score: 0.0000\rEpisode 83\tAverage Score: 0.0000"
     ]
    },
    {
     "name": "stdout",
     "output_type": "stream",
     "text": [
      "\rEpisode 84\tAverage Score: 0.0000\rEpisode 85\tAverage Score: 0.0000"
     ]
    },
    {
     "name": "stdout",
     "output_type": "stream",
     "text": [
      "\rEpisode 86\tAverage Score: 0.0000\rEpisode 87\tAverage Score: 0.0000"
     ]
    },
    {
     "name": "stdout",
     "output_type": "stream",
     "text": [
      "\rEpisode 88\tAverage Score: 0.0000\rEpisode 89\tAverage Score: 0.0000"
     ]
    },
    {
     "name": "stdout",
     "output_type": "stream",
     "text": [
      "\rEpisode 90\tAverage Score: 0.0000\rEpisode 91\tAverage Score: 0.0000"
     ]
    },
    {
     "name": "stdout",
     "output_type": "stream",
     "text": [
      "\rEpisode 92\tAverage Score: 0.0000\rEpisode 93\tAverage Score: 0.0000"
     ]
    },
    {
     "name": "stdout",
     "output_type": "stream",
     "text": [
      "\rEpisode 94\tAverage Score: 0.0000\rEpisode 95\tAverage Score: 0.0000"
     ]
    },
    {
     "name": "stdout",
     "output_type": "stream",
     "text": [
      "\rEpisode 96\tAverage Score: 0.0000\rEpisode 97\tAverage Score: 0.0000"
     ]
    },
    {
     "name": "stdout",
     "output_type": "stream",
     "text": [
      "\rEpisode 98\tAverage Score: 0.0000\rEpisode 99\tAverage Score: 0.0000"
     ]
    },
    {
     "name": "stdout",
     "output_type": "stream",
     "text": [
      "\rEpisode 100\tAverage Score: 0.0000\rEpisode 100\tAverage Score: 0.0000\n\rEpisode 101\tAverage Score: 0.0000"
     ]
    },
    {
     "name": "stdout",
     "output_type": "stream",
     "text": [
      "\rEpisode 102\tAverage Score: 0.0000\rEpisode 103\tAverage Score: 0.0000"
     ]
    },
    {
     "name": "stdout",
     "output_type": "stream",
     "text": [
      "\rEpisode 104\tAverage Score: 0.0000\rEpisode 105\tAverage Score: 0.0000"
     ]
    },
    {
     "name": "stdout",
     "output_type": "stream",
     "text": [
      "\rEpisode 106\tAverage Score: 0.0000"
     ]
    },
    {
     "name": "stdout",
     "output_type": "stream",
     "text": [
      "\rEpisode 107\tAverage Score: 0.0010\rEpisode 108\tAverage Score: 0.0010"
     ]
    },
    {
     "name": "stdout",
     "output_type": "stream",
     "text": [
      "\rEpisode 109\tAverage Score: 0.0010\rEpisode 110\tAverage Score: 0.0010"
     ]
    },
    {
     "name": "stdout",
     "output_type": "stream",
     "text": [
      "\rEpisode 111\tAverage Score: 0.0010\rEpisode 112\tAverage Score: 0.0010"
     ]
    },
    {
     "name": "stdout",
     "output_type": "stream",
     "text": [
      "\rEpisode 113\tAverage Score: 0.0010\rEpisode 114\tAverage Score: 0.0010"
     ]
    },
    {
     "name": "stdout",
     "output_type": "stream",
     "text": [
      "\rEpisode 115\tAverage Score: 0.0010\rEpisode 116\tAverage Score: 0.0010"
     ]
    },
    {
     "name": "stdout",
     "output_type": "stream",
     "text": [
      "\rEpisode 117\tAverage Score: 0.0010\rEpisode 118\tAverage Score: 0.0010"
     ]
    },
    {
     "name": "stdout",
     "output_type": "stream",
     "text": [
      "\rEpisode 119\tAverage Score: 0.0010\rEpisode 120\tAverage Score: 0.0010"
     ]
    },
    {
     "name": "stdout",
     "output_type": "stream",
     "text": [
      "\rEpisode 121\tAverage Score: 0.0010\rEpisode 122\tAverage Score: 0.0010"
     ]
    },
    {
     "name": "stdout",
     "output_type": "stream",
     "text": [
      "\rEpisode 123\tAverage Score: 0.0010\rEpisode 124\tAverage Score: 0.0010"
     ]
    },
    {
     "name": "stdout",
     "output_type": "stream",
     "text": [
      "\rEpisode 125\tAverage Score: 0.0010\rEpisode 126\tAverage Score: 0.0010"
     ]
    },
    {
     "name": "stdout",
     "output_type": "stream",
     "text": [
      "\rEpisode 127\tAverage Score: 0.0010\rEpisode 128\tAverage Score: 0.0010"
     ]
    },
    {
     "name": "stdout",
     "output_type": "stream",
     "text": [
      "\rEpisode 129\tAverage Score: 0.0010\rEpisode 130\tAverage Score: 0.0010"
     ]
    },
    {
     "name": "stdout",
     "output_type": "stream",
     "text": [
      "\rEpisode 131\tAverage Score: 0.0010\rEpisode 132\tAverage Score: 0.0010"
     ]
    },
    {
     "name": "stdout",
     "output_type": "stream",
     "text": [
      "\rEpisode 133\tAverage Score: 0.0010\rEpisode 134\tAverage Score: 0.0010"
     ]
    },
    {
     "name": "stdout",
     "output_type": "stream",
     "text": [
      "\rEpisode 135\tAverage Score: 0.0010\rEpisode 136\tAverage Score: 0.0010"
     ]
    },
    {
     "name": "stdout",
     "output_type": "stream",
     "text": [
      "\rEpisode 137\tAverage Score: 0.0010\rEpisode 138\tAverage Score: 0.0010"
     ]
    },
    {
     "name": "stdout",
     "output_type": "stream",
     "text": [
      "\rEpisode 139\tAverage Score: 0.0010\rEpisode 140\tAverage Score: 0.0010"
     ]
    },
    {
     "name": "stdout",
     "output_type": "stream",
     "text": [
      "\rEpisode 141\tAverage Score: 0.0010\rEpisode 142\tAverage Score: 0.0010"
     ]
    },
    {
     "name": "stdout",
     "output_type": "stream",
     "text": [
      "\rEpisode 143\tAverage Score: 0.0010\rEpisode 144\tAverage Score: 0.0010"
     ]
    },
    {
     "name": "stdout",
     "output_type": "stream",
     "text": [
      "\rEpisode 145\tAverage Score: 0.0010\rEpisode 146\tAverage Score: 0.0010"
     ]
    },
    {
     "name": "stdout",
     "output_type": "stream",
     "text": [
      "\rEpisode 147\tAverage Score: 0.0010\rEpisode 148\tAverage Score: 0.0010"
     ]
    },
    {
     "name": "stdout",
     "output_type": "stream",
     "text": [
      "\rEpisode 149\tAverage Score: 0.0010\rEpisode 150\tAverage Score: 0.0010"
     ]
    },
    {
     "name": "stdout",
     "output_type": "stream",
     "text": [
      "\rEpisode 151\tAverage Score: 0.0010\rEpisode 152\tAverage Score: 0.0010"
     ]
    },
    {
     "name": "stdout",
     "output_type": "stream",
     "text": [
      "\rEpisode 153\tAverage Score: 0.0010\rEpisode 154\tAverage Score: 0.0010"
     ]
    },
    {
     "name": "stdout",
     "output_type": "stream",
     "text": [
      "\rEpisode 155\tAverage Score: 0.0010\rEpisode 156\tAverage Score: 0.0010"
     ]
    },
    {
     "name": "stdout",
     "output_type": "stream",
     "text": [
      "\rEpisode 157\tAverage Score: 0.0010\rEpisode 158\tAverage Score: 0.0010"
     ]
    },
    {
     "name": "stdout",
     "output_type": "stream",
     "text": [
      "\rEpisode 159\tAverage Score: 0.0010\rEpisode 160\tAverage Score: 0.0010"
     ]
    },
    {
     "name": "stdout",
     "output_type": "stream",
     "text": [
      "\rEpisode 161\tAverage Score: 0.0010\rEpisode 162\tAverage Score: 0.0010"
     ]
    },
    {
     "name": "stdout",
     "output_type": "stream",
     "text": [
      "\rEpisode 163\tAverage Score: 0.0010\rEpisode 164\tAverage Score: 0.0010"
     ]
    },
    {
     "name": "stdout",
     "output_type": "stream",
     "text": [
      "\rEpisode 165\tAverage Score: 0.0010\rEpisode 166\tAverage Score: 0.0010"
     ]
    },
    {
     "name": "stdout",
     "output_type": "stream",
     "text": [
      "\rEpisode 167\tAverage Score: 0.0010\rEpisode 168\tAverage Score: 0.0010"
     ]
    },
    {
     "name": "stdout",
     "output_type": "stream",
     "text": [
      "\rEpisode 169\tAverage Score: 0.0010\rEpisode 170\tAverage Score: 0.0010"
     ]
    },
    {
     "name": "stdout",
     "output_type": "stream",
     "text": [
      "\rEpisode 171\tAverage Score: 0.0010\rEpisode 172\tAverage Score: 0.0010"
     ]
    },
    {
     "name": "stdout",
     "output_type": "stream",
     "text": [
      "\rEpisode 173\tAverage Score: 0.0010\rEpisode 174\tAverage Score: 0.0010"
     ]
    },
    {
     "name": "stdout",
     "output_type": "stream",
     "text": [
      "\rEpisode 175\tAverage Score: 0.0010\rEpisode 176\tAverage Score: 0.0010"
     ]
    },
    {
     "name": "stdout",
     "output_type": "stream",
     "text": [
      "\rEpisode 177\tAverage Score: 0.0010\rEpisode 178\tAverage Score: 0.0010"
     ]
    },
    {
     "name": "stdout",
     "output_type": "stream",
     "text": [
      "\rEpisode 179\tAverage Score: 0.0010\rEpisode 180\tAverage Score: 0.0010"
     ]
    },
    {
     "name": "stdout",
     "output_type": "stream",
     "text": [
      "\rEpisode 181\tAverage Score: 0.0010\rEpisode 182\tAverage Score: 0.0010"
     ]
    },
    {
     "name": "stdout",
     "output_type": "stream",
     "text": [
      "\rEpisode 183\tAverage Score: 0.0010\rEpisode 184\tAverage Score: 0.0010"
     ]
    },
    {
     "name": "stdout",
     "output_type": "stream",
     "text": [
      "\rEpisode 185\tAverage Score: 0.0010\rEpisode 186\tAverage Score: 0.0010"
     ]
    },
    {
     "name": "stdout",
     "output_type": "stream",
     "text": [
      "\rEpisode 187\tAverage Score: 0.0010\rEpisode 188\tAverage Score: 0.0010"
     ]
    },
    {
     "name": "stdout",
     "output_type": "stream",
     "text": [
      "\rEpisode 189\tAverage Score: 0.0010\rEpisode 190\tAverage Score: 0.0010"
     ]
    },
    {
     "name": "stdout",
     "output_type": "stream",
     "text": [
      "\rEpisode 191\tAverage Score: 0.0010\rEpisode 192\tAverage Score: 0.0010"
     ]
    },
    {
     "name": "stdout",
     "output_type": "stream",
     "text": [
      "\rEpisode 193\tAverage Score: 0.0010\rEpisode 194\tAverage Score: 0.0010"
     ]
    },
    {
     "name": "stdout",
     "output_type": "stream",
     "text": [
      "\rEpisode 195\tAverage Score: 0.0010\rEpisode 196\tAverage Score: 0.0010"
     ]
    },
    {
     "name": "stdout",
     "output_type": "stream",
     "text": [
      "\rEpisode 197\tAverage Score: 0.0010\rEpisode 198\tAverage Score: 0.0010"
     ]
    },
    {
     "name": "stdout",
     "output_type": "stream",
     "text": [
      "\rEpisode 199\tAverage Score: 0.0010\rEpisode 200\tAverage Score: 0.0010\rEpisode 200\tAverage Score: 0.0010\n"
     ]
    },
    {
     "name": "stdout",
     "output_type": "stream",
     "text": [
      "\rEpisode 201\tAverage Score: 0.0010\rEpisode 202\tAverage Score: 0.0010"
     ]
    },
    {
     "name": "stdout",
     "output_type": "stream",
     "text": [
      "\rEpisode 203\tAverage Score: 0.0010\rEpisode 204\tAverage Score: 0.0010"
     ]
    },
    {
     "name": "stdout",
     "output_type": "stream",
     "text": [
      "\rEpisode 205\tAverage Score: 0.0010\rEpisode 206\tAverage Score: 0.0010"
     ]
    },
    {
     "name": "stdout",
     "output_type": "stream",
     "text": [
      "\rEpisode 207\tAverage Score: 0.0000\rEpisode 208\tAverage Score: 0.0000"
     ]
    },
    {
     "name": "stdout",
     "output_type": "stream",
     "text": [
      "\rEpisode 209\tAverage Score: 0.0000\rEpisode 210\tAverage Score: 0.0000"
     ]
    },
    {
     "name": "stdout",
     "output_type": "stream",
     "text": [
      "\rEpisode 211\tAverage Score: 0.0000\rEpisode 212\tAverage Score: 0.0000"
     ]
    },
    {
     "name": "stdout",
     "output_type": "stream",
     "text": [
      "\rEpisode 213\tAverage Score: 0.0000\rEpisode 214\tAverage Score: 0.0000"
     ]
    },
    {
     "name": "stdout",
     "output_type": "stream",
     "text": [
      "\rEpisode 215\tAverage Score: 0.0000\rEpisode 216\tAverage Score: 0.0000"
     ]
    },
    {
     "name": "stdout",
     "output_type": "stream",
     "text": [
      "\rEpisode 217\tAverage Score: 0.0000\rEpisode 218\tAverage Score: 0.0000"
     ]
    },
    {
     "name": "stdout",
     "output_type": "stream",
     "text": [
      "\rEpisode 219\tAverage Score: 0.0000\rEpisode 220\tAverage Score: 0.0000"
     ]
    },
    {
     "name": "stdout",
     "output_type": "stream",
     "text": [
      "\rEpisode 221\tAverage Score: 0.0000"
     ]
    },
    {
     "name": "stdout",
     "output_type": "stream",
     "text": [
      "\rEpisode 222\tAverage Score: 0.0000"
     ]
    },
    {
     "name": "stdout",
     "output_type": "stream",
     "text": [
      "\rEpisode 223\tAverage Score: 0.0000\rEpisode 224\tAverage Score: 0.0000"
     ]
    },
    {
     "name": "stdout",
     "output_type": "stream",
     "text": [
      "\rEpisode 225\tAverage Score: 0.0000\rEpisode 226\tAverage Score: 0.0000"
     ]
    },
    {
     "name": "stdout",
     "output_type": "stream",
     "text": [
      "\rEpisode 227\tAverage Score: 0.0000\rEpisode 228\tAverage Score: 0.0000"
     ]
    },
    {
     "name": "stdout",
     "output_type": "stream",
     "text": [
      "\rEpisode 229\tAverage Score: 0.0000\rEpisode 230\tAverage Score: 0.0000"
     ]
    },
    {
     "name": "stdout",
     "output_type": "stream",
     "text": [
      "\rEpisode 231\tAverage Score: 0.0000\rEpisode 232\tAverage Score: 0.0000"
     ]
    },
    {
     "name": "stdout",
     "output_type": "stream",
     "text": [
      "\rEpisode 233\tAverage Score: 0.0000\rEpisode 234\tAverage Score: 0.0000"
     ]
    },
    {
     "name": "stdout",
     "output_type": "stream",
     "text": [
      "\rEpisode 235\tAverage Score: 0.0000\rEpisode 236\tAverage Score: 0.0000"
     ]
    },
    {
     "name": "stdout",
     "output_type": "stream",
     "text": [
      "\rEpisode 237\tAverage Score: 0.0000\rEpisode 238\tAverage Score: 0.0000"
     ]
    },
    {
     "name": "stdout",
     "output_type": "stream",
     "text": [
      "\rEpisode 239\tAverage Score: 0.0000\rEpisode 240\tAverage Score: 0.0000"
     ]
    },
    {
     "name": "stdout",
     "output_type": "stream",
     "text": [
      "\rEpisode 241\tAverage Score: 0.0000\rEpisode 242\tAverage Score: 0.0000"
     ]
    },
    {
     "name": "stdout",
     "output_type": "stream",
     "text": [
      "\rEpisode 243\tAverage Score: 0.0000\rEpisode 244\tAverage Score: 0.0000"
     ]
    },
    {
     "name": "stdout",
     "output_type": "stream",
     "text": [
      "\rEpisode 245\tAverage Score: 0.0000\rEpisode 246\tAverage Score: 0.0000"
     ]
    },
    {
     "name": "stdout",
     "output_type": "stream",
     "text": [
      "\rEpisode 247\tAverage Score: 0.0000\rEpisode 248\tAverage Score: 0.0000"
     ]
    },
    {
     "name": "stdout",
     "output_type": "stream",
     "text": [
      "\rEpisode 249\tAverage Score: 0.0000\rEpisode 250\tAverage Score: 0.0000"
     ]
    },
    {
     "name": "stdout",
     "output_type": "stream",
     "text": [
      "\rEpisode 251\tAverage Score: 0.0000\rEpisode 252\tAverage Score: 0.0000"
     ]
    },
    {
     "name": "stdout",
     "output_type": "stream",
     "text": [
      "\rEpisode 253\tAverage Score: 0.0000\rEpisode 254\tAverage Score: 0.0000"
     ]
    },
    {
     "name": "stdout",
     "output_type": "stream",
     "text": [
      "\rEpisode 255\tAverage Score: 0.0000\rEpisode 256\tAverage Score: 0.0000"
     ]
    },
    {
     "name": "stdout",
     "output_type": "stream",
     "text": [
      "\rEpisode 257\tAverage Score: 0.0000\rEpisode 258\tAverage Score: 0.0000"
     ]
    },
    {
     "name": "stdout",
     "output_type": "stream",
     "text": [
      "\rEpisode 259\tAverage Score: 0.0000\rEpisode 260\tAverage Score: 0.0000"
     ]
    },
    {
     "name": "stdout",
     "output_type": "stream",
     "text": [
      "\rEpisode 261\tAverage Score: 0.0000\rEpisode 262\tAverage Score: 0.0000"
     ]
    },
    {
     "name": "stdout",
     "output_type": "stream",
     "text": [
      "\rEpisode 263\tAverage Score: 0.0000\rEpisode 264\tAverage Score: 0.0000"
     ]
    },
    {
     "name": "stdout",
     "output_type": "stream",
     "text": [
      "\rEpisode 265\tAverage Score: 0.0000\rEpisode 266\tAverage Score: 0.0000"
     ]
    },
    {
     "name": "stdout",
     "output_type": "stream",
     "text": [
      "\rEpisode 267\tAverage Score: 0.0000\rEpisode 268\tAverage Score: 0.0000"
     ]
    },
    {
     "name": "stdout",
     "output_type": "stream",
     "text": [
      "\rEpisode 269\tAverage Score: 0.0000\rEpisode 270\tAverage Score: 0.0000"
     ]
    },
    {
     "name": "stdout",
     "output_type": "stream",
     "text": [
      "\rEpisode 271\tAverage Score: 0.0000\rEpisode 272\tAverage Score: 0.0000"
     ]
    },
    {
     "name": "stdout",
     "output_type": "stream",
     "text": [
      "\rEpisode 273\tAverage Score: 0.0000\rEpisode 274\tAverage Score: 0.0000"
     ]
    },
    {
     "name": "stdout",
     "output_type": "stream",
     "text": [
      "\rEpisode 275\tAverage Score: 0.0000\rEpisode 276\tAverage Score: 0.0000"
     ]
    },
    {
     "name": "stdout",
     "output_type": "stream",
     "text": [
      "\rEpisode 277\tAverage Score: 0.0000\rEpisode 278\tAverage Score: 0.0000"
     ]
    },
    {
     "name": "stdout",
     "output_type": "stream",
     "text": [
      "\rEpisode 279\tAverage Score: 0.0000"
     ]
    },
    {
     "name": "stdout",
     "output_type": "stream",
     "text": [
      "\rEpisode 280\tAverage Score: 0.0000\rEpisode 281\tAverage Score: 0.0000"
     ]
    },
    {
     "name": "stdout",
     "output_type": "stream",
     "text": [
      "\rEpisode 282\tAverage Score: 0.0000"
     ]
    },
    {
     "name": "stdout",
     "output_type": "stream",
     "text": [
      "\rEpisode 283\tAverage Score: 0.0000\rEpisode 284\tAverage Score: 0.0000"
     ]
    },
    {
     "name": "stdout",
     "output_type": "stream",
     "text": [
      "\rEpisode 285\tAverage Score: 0.0000\rEpisode 286\tAverage Score: 0.0000"
     ]
    },
    {
     "name": "stdout",
     "output_type": "stream",
     "text": [
      "\rEpisode 287\tAverage Score: 0.0000\rEpisode 288\tAverage Score: 0.0000"
     ]
    },
    {
     "name": "stdout",
     "output_type": "stream",
     "text": [
      "\rEpisode 289\tAverage Score: 0.0000\rEpisode 290\tAverage Score: 0.0000"
     ]
    },
    {
     "name": "stdout",
     "output_type": "stream",
     "text": [
      "\rEpisode 291\tAverage Score: 0.0000\rEpisode 292\tAverage Score: 0.0000"
     ]
    },
    {
     "name": "stdout",
     "output_type": "stream",
     "text": [
      "\rEpisode 293\tAverage Score: 0.0000\rEpisode 294\tAverage Score: 0.0000"
     ]
    },
    {
     "name": "stdout",
     "output_type": "stream",
     "text": [
      "\rEpisode 295\tAverage Score: 0.0000\rEpisode 296\tAverage Score: 0.0000"
     ]
    },
    {
     "name": "stdout",
     "output_type": "stream",
     "text": [
      "\rEpisode 297\tAverage Score: 0.0000\rEpisode 298\tAverage Score: 0.0000"
     ]
    },
    {
     "name": "stdout",
     "output_type": "stream",
     "text": [
      "\rEpisode 299\tAverage Score: 0.0000\rEpisode 300\tAverage Score: 0.0000\rEpisode 300\tAverage Score: 0.0000\n"
     ]
    },
    {
     "name": "stdout",
     "output_type": "stream",
     "text": [
      "\rEpisode 301\tAverage Score: 0.0000\rEpisode 302\tAverage Score: 0.0000"
     ]
    },
    {
     "name": "stdout",
     "output_type": "stream",
     "text": [
      "\rEpisode 303\tAverage Score: 0.0000\rEpisode 304\tAverage Score: 0.0000"
     ]
    },
    {
     "name": "stdout",
     "output_type": "stream",
     "text": [
      "\rEpisode 305\tAverage Score: 0.0000\rEpisode 306\tAverage Score: 0.0000"
     ]
    },
    {
     "name": "stdout",
     "output_type": "stream",
     "text": [
      "\rEpisode 307\tAverage Score: 0.0000\rEpisode 308\tAverage Score: 0.0000"
     ]
    },
    {
     "name": "stdout",
     "output_type": "stream",
     "text": [
      "\rEpisode 309\tAverage Score: 0.0000\rEpisode 310\tAverage Score: 0.0000"
     ]
    },
    {
     "name": "stdout",
     "output_type": "stream",
     "text": [
      "\rEpisode 311\tAverage Score: 0.0000\rEpisode 312\tAverage Score: 0.0000"
     ]
    },
    {
     "name": "stdout",
     "output_type": "stream",
     "text": [
      "\rEpisode 313\tAverage Score: 0.0000\rEpisode 314\tAverage Score: 0.0000"
     ]
    },
    {
     "name": "stdout",
     "output_type": "stream",
     "text": [
      "\rEpisode 315\tAverage Score: 0.0000\rEpisode 316\tAverage Score: 0.0000"
     ]
    },
    {
     "name": "stdout",
     "output_type": "stream",
     "text": [
      "\rEpisode 317\tAverage Score: 0.0000\rEpisode 318\tAverage Score: 0.0000"
     ]
    },
    {
     "name": "stdout",
     "output_type": "stream",
     "text": [
      "\rEpisode 319\tAverage Score: 0.0000\rEpisode 320\tAverage Score: 0.0000"
     ]
    },
    {
     "name": "stdout",
     "output_type": "stream",
     "text": [
      "\rEpisode 321\tAverage Score: 0.0000\rEpisode 322\tAverage Score: 0.0000"
     ]
    },
    {
     "name": "stdout",
     "output_type": "stream",
     "text": [
      "\rEpisode 323\tAverage Score: 0.0000\rEpisode 324\tAverage Score: 0.0000"
     ]
    },
    {
     "name": "stdout",
     "output_type": "stream",
     "text": [
      "\rEpisode 325\tAverage Score: 0.0000\rEpisode 326\tAverage Score: 0.0000"
     ]
    },
    {
     "name": "stdout",
     "output_type": "stream",
     "text": [
      "\rEpisode 327\tAverage Score: 0.0000\rEpisode 328\tAverage Score: 0.0000"
     ]
    },
    {
     "name": "stdout",
     "output_type": "stream",
     "text": [
      "\rEpisode 329\tAverage Score: 0.0000\rEpisode 330\tAverage Score: 0.0000"
     ]
    },
    {
     "name": "stdout",
     "output_type": "stream",
     "text": [
      "\rEpisode 331\tAverage Score: 0.0000\rEpisode 332\tAverage Score: 0.0000"
     ]
    },
    {
     "name": "stdout",
     "output_type": "stream",
     "text": [
      "\rEpisode 333\tAverage Score: 0.0000\rEpisode 334\tAverage Score: 0.0000"
     ]
    },
    {
     "name": "stdout",
     "output_type": "stream",
     "text": [
      "\rEpisode 335\tAverage Score: 0.0000\rEpisode 336\tAverage Score: 0.0000"
     ]
    },
    {
     "name": "stdout",
     "output_type": "stream",
     "text": [
      "\rEpisode 337\tAverage Score: 0.0000\rEpisode 338\tAverage Score: 0.0000"
     ]
    },
    {
     "name": "stdout",
     "output_type": "stream",
     "text": [
      "\rEpisode 339\tAverage Score: 0.0000\rEpisode 340\tAverage Score: 0.0000"
     ]
    },
    {
     "name": "stdout",
     "output_type": "stream",
     "text": [
      "\rEpisode 341\tAverage Score: 0.0000\rEpisode 342\tAverage Score: 0.0000"
     ]
    },
    {
     "name": "stdout",
     "output_type": "stream",
     "text": [
      "\rEpisode 343\tAverage Score: 0.0000\rEpisode 344\tAverage Score: 0.0000"
     ]
    },
    {
     "name": "stdout",
     "output_type": "stream",
     "text": [
      "\rEpisode 345\tAverage Score: 0.0000\rEpisode 346\tAverage Score: 0.0000"
     ]
    },
    {
     "name": "stdout",
     "output_type": "stream",
     "text": [
      "\rEpisode 347\tAverage Score: 0.0000\rEpisode 348\tAverage Score: 0.0000"
     ]
    },
    {
     "name": "stdout",
     "output_type": "stream",
     "text": [
      "\rEpisode 349\tAverage Score: 0.0000\rEpisode 350\tAverage Score: 0.0000"
     ]
    },
    {
     "name": "stdout",
     "output_type": "stream",
     "text": [
      "\rEpisode 351\tAverage Score: 0.0000\rEpisode 352\tAverage Score: 0.0000"
     ]
    },
    {
     "name": "stdout",
     "output_type": "stream",
     "text": [
      "\rEpisode 353\tAverage Score: 0.0000\rEpisode 354\tAverage Score: 0.0000"
     ]
    },
    {
     "name": "stdout",
     "output_type": "stream",
     "text": [
      "\rEpisode 355\tAverage Score: 0.0000\rEpisode 356\tAverage Score: 0.0000"
     ]
    },
    {
     "name": "stdout",
     "output_type": "stream",
     "text": [
      "\rEpisode 357\tAverage Score: 0.0000\rEpisode 358\tAverage Score: 0.0000"
     ]
    },
    {
     "name": "stdout",
     "output_type": "stream",
     "text": [
      "\rEpisode 359\tAverage Score: 0.0000\rEpisode 360\tAverage Score: 0.0000"
     ]
    },
    {
     "name": "stdout",
     "output_type": "stream",
     "text": [
      "\rEpisode 361\tAverage Score: 0.0000\rEpisode 362\tAverage Score: 0.0000"
     ]
    },
    {
     "name": "stdout",
     "output_type": "stream",
     "text": [
      "\rEpisode 363\tAverage Score: 0.0000\rEpisode 364\tAverage Score: 0.0000"
     ]
    },
    {
     "name": "stdout",
     "output_type": "stream",
     "text": [
      "\rEpisode 365\tAverage Score: 0.0000\rEpisode 366\tAverage Score: 0.0000"
     ]
    },
    {
     "name": "stdout",
     "output_type": "stream",
     "text": [
      "\rEpisode 367\tAverage Score: 0.0000\rEpisode 368\tAverage Score: 0.0000"
     ]
    },
    {
     "name": "stdout",
     "output_type": "stream",
     "text": [
      "\rEpisode 369\tAverage Score: 0.0000\rEpisode 370\tAverage Score: 0.0000"
     ]
    },
    {
     "name": "stdout",
     "output_type": "stream",
     "text": [
      "\rEpisode 371\tAverage Score: 0.0000\rEpisode 372\tAverage Score: 0.0000"
     ]
    },
    {
     "name": "stdout",
     "output_type": "stream",
     "text": [
      "\rEpisode 373\tAverage Score: 0.0000\rEpisode 374\tAverage Score: 0.0000"
     ]
    },
    {
     "name": "stdout",
     "output_type": "stream",
     "text": [
      "\rEpisode 375\tAverage Score: 0.0000\rEpisode 376\tAverage Score: 0.0000"
     ]
    },
    {
     "name": "stdout",
     "output_type": "stream",
     "text": [
      "\rEpisode 377\tAverage Score: 0.0000\rEpisode 378\tAverage Score: 0.0000"
     ]
    },
    {
     "name": "stdout",
     "output_type": "stream",
     "text": [
      "\rEpisode 379\tAverage Score: 0.0000\rEpisode 380\tAverage Score: 0.0000"
     ]
    },
    {
     "name": "stdout",
     "output_type": "stream",
     "text": [
      "\rEpisode 381\tAverage Score: 0.0000\rEpisode 382\tAverage Score: 0.0000"
     ]
    },
    {
     "name": "stdout",
     "output_type": "stream",
     "text": [
      "\rEpisode 383\tAverage Score: 0.0000\rEpisode 384\tAverage Score: 0.0000"
     ]
    },
    {
     "name": "stdout",
     "output_type": "stream",
     "text": [
      "\rEpisode 385\tAverage Score: 0.0000\rEpisode 386\tAverage Score: 0.0000"
     ]
    },
    {
     "name": "stdout",
     "output_type": "stream",
     "text": [
      "\rEpisode 387\tAverage Score: 0.0000\rEpisode 388\tAverage Score: 0.0000"
     ]
    },
    {
     "name": "stdout",
     "output_type": "stream",
     "text": [
      "\rEpisode 389\tAverage Score: 0.0000\rEpisode 390\tAverage Score: 0.0000"
     ]
    },
    {
     "name": "stdout",
     "output_type": "stream",
     "text": [
      "\rEpisode 391\tAverage Score: 0.0000\rEpisode 392\tAverage Score: 0.0000"
     ]
    },
    {
     "name": "stdout",
     "output_type": "stream",
     "text": [
      "\rEpisode 393\tAverage Score: 0.0000\rEpisode 394\tAverage Score: 0.0000"
     ]
    },
    {
     "name": "stdout",
     "output_type": "stream",
     "text": [
      "\rEpisode 395\tAverage Score: 0.0000\rEpisode 396\tAverage Score: 0.0000"
     ]
    },
    {
     "name": "stdout",
     "output_type": "stream",
     "text": [
      "\rEpisode 397\tAverage Score: 0.0000\rEpisode 398\tAverage Score: 0.0000"
     ]
    },
    {
     "name": "stdout",
     "output_type": "stream",
     "text": [
      "\rEpisode 399\tAverage Score: 0.0000\rEpisode 400\tAverage Score: 0.0000\rEpisode 400\tAverage Score: 0.0000\n"
     ]
    },
    {
     "name": "stdout",
     "output_type": "stream",
     "text": [
      "\rEpisode 401\tAverage Score: 0.0000\rEpisode 402\tAverage Score: 0.0000"
     ]
    },
    {
     "name": "stdout",
     "output_type": "stream",
     "text": [
      "\rEpisode 403\tAverage Score: 0.0000\rEpisode 404\tAverage Score: 0.0000"
     ]
    },
    {
     "name": "stdout",
     "output_type": "stream",
     "text": [
      "\rEpisode 405\tAverage Score: 0.0000\rEpisode 406\tAverage Score: 0.0000"
     ]
    },
    {
     "name": "stdout",
     "output_type": "stream",
     "text": [
      "\rEpisode 407\tAverage Score: 0.0000\rEpisode 408\tAverage Score: 0.0000"
     ]
    },
    {
     "name": "stdout",
     "output_type": "stream",
     "text": [
      "\rEpisode 409\tAverage Score: 0.0000\rEpisode 410\tAverage Score: 0.0000"
     ]
    },
    {
     "name": "stdout",
     "output_type": "stream",
     "text": [
      "\rEpisode 411\tAverage Score: 0.0000\rEpisode 412\tAverage Score: 0.0000"
     ]
    },
    {
     "name": "stdout",
     "output_type": "stream",
     "text": [
      "\rEpisode 413\tAverage Score: 0.0000\rEpisode 414\tAverage Score: 0.0000"
     ]
    },
    {
     "name": "stdout",
     "output_type": "stream",
     "text": [
      "\rEpisode 415\tAverage Score: 0.0000\rEpisode 416\tAverage Score: 0.0000"
     ]
    },
    {
     "name": "stdout",
     "output_type": "stream",
     "text": [
      "\rEpisode 417\tAverage Score: 0.0000\rEpisode 418\tAverage Score: 0.0000"
     ]
    },
    {
     "name": "stdout",
     "output_type": "stream",
     "text": [
      "\rEpisode 419\tAverage Score: 0.0000\rEpisode 420\tAverage Score: 0.0000"
     ]
    },
    {
     "name": "stdout",
     "output_type": "stream",
     "text": [
      "\rEpisode 421\tAverage Score: 0.0000\rEpisode 422\tAverage Score: 0.0000"
     ]
    },
    {
     "name": "stdout",
     "output_type": "stream",
     "text": [
      "\rEpisode 423\tAverage Score: 0.0000\rEpisode 424\tAverage Score: 0.0000"
     ]
    },
    {
     "name": "stdout",
     "output_type": "stream",
     "text": [
      "\rEpisode 425\tAverage Score: 0.0000\rEpisode 426\tAverage Score: 0.0000"
     ]
    },
    {
     "name": "stdout",
     "output_type": "stream",
     "text": [
      "\rEpisode 427\tAverage Score: 0.0000\rEpisode 428\tAverage Score: 0.0000"
     ]
    },
    {
     "name": "stdout",
     "output_type": "stream",
     "text": [
      "\rEpisode 429\tAverage Score: 0.0000\rEpisode 430\tAverage Score: 0.0000"
     ]
    },
    {
     "name": "stdout",
     "output_type": "stream",
     "text": [
      "\rEpisode 431\tAverage Score: 0.0000\rEpisode 432\tAverage Score: 0.0000"
     ]
    },
    {
     "name": "stdout",
     "output_type": "stream",
     "text": [
      "\rEpisode 433\tAverage Score: 0.0000\rEpisode 434\tAverage Score: 0.0000"
     ]
    },
    {
     "name": "stdout",
     "output_type": "stream",
     "text": [
      "\rEpisode 435\tAverage Score: 0.0000\rEpisode 436\tAverage Score: 0.0000"
     ]
    },
    {
     "name": "stdout",
     "output_type": "stream",
     "text": [
      "\rEpisode 437\tAverage Score: 0.0000\rEpisode 438\tAverage Score: 0.0000"
     ]
    },
    {
     "name": "stdout",
     "output_type": "stream",
     "text": [
      "\rEpisode 439\tAverage Score: 0.0000\rEpisode 440\tAverage Score: 0.0000"
     ]
    },
    {
     "name": "stdout",
     "output_type": "stream",
     "text": [
      "\rEpisode 441\tAverage Score: 0.0000\rEpisode 442\tAverage Score: 0.0000"
     ]
    },
    {
     "name": "stdout",
     "output_type": "stream",
     "text": [
      "\rEpisode 443\tAverage Score: 0.0000\rEpisode 444\tAverage Score: 0.0000"
     ]
    },
    {
     "name": "stdout",
     "output_type": "stream",
     "text": [
      "\rEpisode 445\tAverage Score: 0.0000\rEpisode 446\tAverage Score: 0.0000"
     ]
    },
    {
     "name": "stdout",
     "output_type": "stream",
     "text": [
      "\rEpisode 447\tAverage Score: 0.0000\rEpisode 448\tAverage Score: 0.0000"
     ]
    },
    {
     "name": "stdout",
     "output_type": "stream",
     "text": [
      "\rEpisode 449\tAverage Score: 0.0000\rEpisode 450\tAverage Score: 0.0000"
     ]
    },
    {
     "name": "stdout",
     "output_type": "stream",
     "text": [
      "\rEpisode 451\tAverage Score: 0.0000\rEpisode 452\tAverage Score: 0.0000"
     ]
    },
    {
     "name": "stdout",
     "output_type": "stream",
     "text": [
      "\rEpisode 453\tAverage Score: 0.0000\rEpisode 454\tAverage Score: 0.0000"
     ]
    },
    {
     "name": "stdout",
     "output_type": "stream",
     "text": [
      "\rEpisode 455\tAverage Score: 0.0000\rEpisode 456\tAverage Score: 0.0000"
     ]
    },
    {
     "name": "stdout",
     "output_type": "stream",
     "text": [
      "\rEpisode 457\tAverage Score: 0.0000\rEpisode 458\tAverage Score: 0.0000"
     ]
    },
    {
     "name": "stdout",
     "output_type": "stream",
     "text": [
      "\rEpisode 459\tAverage Score: 0.0000\rEpisode 460\tAverage Score: 0.0000"
     ]
    },
    {
     "name": "stdout",
     "output_type": "stream",
     "text": [
      "\rEpisode 461\tAverage Score: 0.0000\rEpisode 462\tAverage Score: 0.0000"
     ]
    },
    {
     "name": "stdout",
     "output_type": "stream",
     "text": [
      "\rEpisode 463\tAverage Score: 0.0000\rEpisode 464\tAverage Score: 0.0000"
     ]
    },
    {
     "name": "stdout",
     "output_type": "stream",
     "text": [
      "\rEpisode 465\tAverage Score: 0.0000\rEpisode 466\tAverage Score: 0.0000"
     ]
    },
    {
     "name": "stdout",
     "output_type": "stream",
     "text": [
      "\rEpisode 467\tAverage Score: 0.0000\rEpisode 468\tAverage Score: 0.0000"
     ]
    },
    {
     "name": "stdout",
     "output_type": "stream",
     "text": [
      "\rEpisode 469\tAverage Score: 0.0000\rEpisode 470\tAverage Score: 0.0000"
     ]
    },
    {
     "name": "stdout",
     "output_type": "stream",
     "text": [
      "\rEpisode 471\tAverage Score: 0.0000\rEpisode 472\tAverage Score: 0.0000"
     ]
    },
    {
     "name": "stdout",
     "output_type": "stream",
     "text": [
      "\rEpisode 473\tAverage Score: 0.0000\rEpisode 474\tAverage Score: 0.0000"
     ]
    },
    {
     "name": "stdout",
     "output_type": "stream",
     "text": [
      "\rEpisode 475\tAverage Score: 0.0000\rEpisode 476\tAverage Score: 0.0000"
     ]
    },
    {
     "name": "stdout",
     "output_type": "stream",
     "text": [
      "\rEpisode 477\tAverage Score: 0.0000\rEpisode 478\tAverage Score: 0.0000"
     ]
    },
    {
     "name": "stdout",
     "output_type": "stream",
     "text": [
      "\rEpisode 479\tAverage Score: 0.0000\rEpisode 480\tAverage Score: 0.0000"
     ]
    },
    {
     "name": "stdout",
     "output_type": "stream",
     "text": [
      "\rEpisode 481\tAverage Score: 0.0000\rEpisode 482\tAverage Score: 0.0000"
     ]
    },
    {
     "name": "stdout",
     "output_type": "stream",
     "text": [
      "\rEpisode 483\tAverage Score: 0.0000\rEpisode 484\tAverage Score: 0.0000"
     ]
    },
    {
     "name": "stdout",
     "output_type": "stream",
     "text": [
      "\rEpisode 485\tAverage Score: 0.0000\rEpisode 486\tAverage Score: 0.0000"
     ]
    },
    {
     "name": "stdout",
     "output_type": "stream",
     "text": [
      "\rEpisode 487\tAverage Score: 0.0000\rEpisode 488\tAverage Score: 0.0000"
     ]
    },
    {
     "name": "stdout",
     "output_type": "stream",
     "text": [
      "\rEpisode 489\tAverage Score: 0.0000\rEpisode 490\tAverage Score: 0.0000"
     ]
    },
    {
     "name": "stdout",
     "output_type": "stream",
     "text": [
      "\rEpisode 491\tAverage Score: 0.0000\rEpisode 492\tAverage Score: 0.0000"
     ]
    },
    {
     "name": "stdout",
     "output_type": "stream",
     "text": [
      "\rEpisode 493\tAverage Score: 0.0000\rEpisode 494\tAverage Score: 0.0000"
     ]
    },
    {
     "name": "stdout",
     "output_type": "stream",
     "text": [
      "\rEpisode 495\tAverage Score: 0.0000\rEpisode 496\tAverage Score: 0.0000"
     ]
    },
    {
     "name": "stdout",
     "output_type": "stream",
     "text": [
      "\rEpisode 497\tAverage Score: 0.0000\rEpisode 498\tAverage Score: 0.0000"
     ]
    },
    {
     "name": "stdout",
     "output_type": "stream",
     "text": [
      "\rEpisode 499\tAverage Score: 0.0000\rEpisode 500\tAverage Score: 0.0000\rEpisode 500\tAverage Score: 0.0000\n"
     ]
    },
    {
     "name": "stdout",
     "output_type": "stream",
     "text": [
      "\rEpisode 501\tAverage Score: 0.0000\rEpisode 502\tAverage Score: 0.0000"
     ]
    },
    {
     "name": "stdout",
     "output_type": "stream",
     "text": [
      "\rEpisode 503\tAverage Score: 0.0000\rEpisode 504\tAverage Score: 0.0000"
     ]
    },
    {
     "name": "stdout",
     "output_type": "stream",
     "text": [
      "\rEpisode 505\tAverage Score: 0.0000\rEpisode 506\tAverage Score: 0.0000"
     ]
    },
    {
     "name": "stdout",
     "output_type": "stream",
     "text": [
      "\rEpisode 507\tAverage Score: 0.0000\rEpisode 508\tAverage Score: 0.0000"
     ]
    },
    {
     "name": "stdout",
     "output_type": "stream",
     "text": [
      "\rEpisode 509\tAverage Score: 0.0000"
     ]
    },
    {
     "name": "stdout",
     "output_type": "stream",
     "text": [
      "\rEpisode 510\tAverage Score: 0.0000\rEpisode 511\tAverage Score: 0.0000"
     ]
    },
    {
     "name": "stdout",
     "output_type": "stream",
     "text": [
      "\rEpisode 512\tAverage Score: 0.0000\rEpisode 513\tAverage Score: 0.0000"
     ]
    },
    {
     "name": "stdout",
     "output_type": "stream",
     "text": [
      "\rEpisode 514\tAverage Score: 0.0000\rEpisode 515\tAverage Score: 0.0000"
     ]
    },
    {
     "name": "stdout",
     "output_type": "stream",
     "text": [
      "\rEpisode 516\tAverage Score: 0.0000\rEpisode 517\tAverage Score: 0.0000"
     ]
    },
    {
     "name": "stdout",
     "output_type": "stream",
     "text": [
      "\rEpisode 518\tAverage Score: 0.0000"
     ]
    },
    {
     "name": "stdout",
     "output_type": "stream",
     "text": [
      "\rEpisode 519\tAverage Score: 0.0000"
     ]
    },
    {
     "name": "stdout",
     "output_type": "stream",
     "text": [
      "\rEpisode 520\tAverage Score: 0.0000\rEpisode 521\tAverage Score: 0.0000"
     ]
    },
    {
     "name": "stdout",
     "output_type": "stream",
     "text": [
      "\rEpisode 522\tAverage Score: 0.0000"
     ]
    },
    {
     "name": "stdout",
     "output_type": "stream",
     "text": [
      "\rEpisode 523\tAverage Score: 0.0000\rEpisode 524\tAverage Score: 0.0000"
     ]
    },
    {
     "name": "stdout",
     "output_type": "stream",
     "text": [
      "\rEpisode 525\tAverage Score: 0.0000\rEpisode 526\tAverage Score: 0.0000"
     ]
    },
    {
     "name": "stdout",
     "output_type": "stream",
     "text": [
      "\rEpisode 527\tAverage Score: 0.0000\rEpisode 528\tAverage Score: 0.0000"
     ]
    },
    {
     "name": "stdout",
     "output_type": "stream",
     "text": [
      "\rEpisode 529\tAverage Score: 0.0000\rEpisode 530\tAverage Score: 0.0000"
     ]
    },
    {
     "name": "stdout",
     "output_type": "stream",
     "text": [
      "\rEpisode 531\tAverage Score: 0.0000\rEpisode 532\tAverage Score: 0.0000"
     ]
    },
    {
     "name": "stdout",
     "output_type": "stream",
     "text": [
      "\rEpisode 533\tAverage Score: 0.0000\rEpisode 534\tAverage Score: 0.0000"
     ]
    },
    {
     "name": "stdout",
     "output_type": "stream",
     "text": [
      "\rEpisode 535\tAverage Score: 0.0000\rEpisode 536\tAverage Score: 0.0000"
     ]
    },
    {
     "name": "stdout",
     "output_type": "stream",
     "text": [
      "\rEpisode 537\tAverage Score: 0.0000\rEpisode 538\tAverage Score: 0.0000"
     ]
    },
    {
     "name": "stdout",
     "output_type": "stream",
     "text": [
      "\rEpisode 539\tAverage Score: 0.0000\rEpisode 540\tAverage Score: 0.0000"
     ]
    },
    {
     "name": "stdout",
     "output_type": "stream",
     "text": [
      "\rEpisode 541\tAverage Score: 0.0000\rEpisode 542\tAverage Score: 0.0000"
     ]
    },
    {
     "name": "stdout",
     "output_type": "stream",
     "text": [
      "\rEpisode 543\tAverage Score: 0.0000\rEpisode 544\tAverage Score: 0.0000"
     ]
    },
    {
     "name": "stdout",
     "output_type": "stream",
     "text": [
      "\rEpisode 545\tAverage Score: 0.0000\rEpisode 546\tAverage Score: 0.0000"
     ]
    },
    {
     "name": "stdout",
     "output_type": "stream",
     "text": [
      "\rEpisode 547\tAverage Score: 0.0000\rEpisode 548\tAverage Score: 0.0000"
     ]
    },
    {
     "name": "stdout",
     "output_type": "stream",
     "text": [
      "\rEpisode 549\tAverage Score: 0.0000\rEpisode 550\tAverage Score: 0.0000"
     ]
    },
    {
     "name": "stdout",
     "output_type": "stream",
     "text": [
      "\rEpisode 551\tAverage Score: 0.0000\rEpisode 552\tAverage Score: 0.0000"
     ]
    },
    {
     "name": "stdout",
     "output_type": "stream",
     "text": [
      "\rEpisode 553\tAverage Score: 0.0000\rEpisode 554\tAverage Score: 0.0000"
     ]
    },
    {
     "name": "stdout",
     "output_type": "stream",
     "text": [
      "\rEpisode 555\tAverage Score: 0.0000\rEpisode 556\tAverage Score: 0.0000"
     ]
    },
    {
     "name": "stdout",
     "output_type": "stream",
     "text": [
      "\rEpisode 557\tAverage Score: 0.0000\rEpisode 558\tAverage Score: 0.0000"
     ]
    },
    {
     "name": "stdout",
     "output_type": "stream",
     "text": [
      "\rEpisode 559\tAverage Score: 0.0000\rEpisode 560\tAverage Score: 0.0000"
     ]
    },
    {
     "name": "stdout",
     "output_type": "stream",
     "text": [
      "\rEpisode 561\tAverage Score: 0.0000\rEpisode 562\tAverage Score: 0.0000"
     ]
    },
    {
     "name": "stdout",
     "output_type": "stream",
     "text": [
      "\rEpisode 563\tAverage Score: 0.0000\rEpisode 564\tAverage Score: 0.0000"
     ]
    },
    {
     "name": "stdout",
     "output_type": "stream",
     "text": [
      "\rEpisode 565\tAverage Score: 0.0000\rEpisode 566\tAverage Score: 0.0000"
     ]
    },
    {
     "name": "stdout",
     "output_type": "stream",
     "text": [
      "\rEpisode 567\tAverage Score: 0.0000\rEpisode 568\tAverage Score: 0.0000"
     ]
    },
    {
     "name": "stdout",
     "output_type": "stream",
     "text": [
      "\rEpisode 569\tAverage Score: 0.0000\rEpisode 570\tAverage Score: 0.0000"
     ]
    },
    {
     "name": "stdout",
     "output_type": "stream",
     "text": [
      "\rEpisode 571\tAverage Score: 0.0000\rEpisode 572\tAverage Score: 0.0000"
     ]
    },
    {
     "name": "stdout",
     "output_type": "stream",
     "text": [
      "\rEpisode 573\tAverage Score: 0.0000\rEpisode 574\tAverage Score: 0.0000"
     ]
    },
    {
     "name": "stdout",
     "output_type": "stream",
     "text": [
      "\rEpisode 575\tAverage Score: 0.0000\rEpisode 576\tAverage Score: 0.0000"
     ]
    },
    {
     "name": "stdout",
     "output_type": "stream",
     "text": [
      "\rEpisode 577\tAverage Score: 0.0000"
     ]
    },
    {
     "name": "stdout",
     "output_type": "stream",
     "text": [
      "\rEpisode 578\tAverage Score: 0.0010\rEpisode 579\tAverage Score: 0.0010"
     ]
    },
    {
     "name": "stdout",
     "output_type": "stream",
     "text": [
      "\rEpisode 580\tAverage Score: 0.0010\rEpisode 581\tAverage Score: 0.0010"
     ]
    },
    {
     "name": "stdout",
     "output_type": "stream",
     "text": [
      "\rEpisode 582\tAverage Score: 0.0010\rEpisode 583\tAverage Score: 0.0010"
     ]
    },
    {
     "name": "stdout",
     "output_type": "stream",
     "text": [
      "\rEpisode 584\tAverage Score: 0.0010\rEpisode 585\tAverage Score: 0.0010"
     ]
    },
    {
     "name": "stdout",
     "output_type": "stream",
     "text": [
      "\rEpisode 586\tAverage Score: 0.0010\rEpisode 587\tAverage Score: 0.0010"
     ]
    },
    {
     "name": "stdout",
     "output_type": "stream",
     "text": [
      "\rEpisode 588\tAverage Score: 0.0010\rEpisode 589\tAverage Score: 0.0010"
     ]
    },
    {
     "name": "stdout",
     "output_type": "stream",
     "text": [
      "\rEpisode 590\tAverage Score: 0.0010\rEpisode 591\tAverage Score: 0.0010"
     ]
    },
    {
     "name": "stdout",
     "output_type": "stream",
     "text": [
      "\rEpisode 592\tAverage Score: 0.0010\rEpisode 593\tAverage Score: 0.0010"
     ]
    },
    {
     "name": "stdout",
     "output_type": "stream",
     "text": [
      "\rEpisode 594\tAverage Score: 0.0010\rEpisode 595\tAverage Score: 0.0010"
     ]
    },
    {
     "name": "stdout",
     "output_type": "stream",
     "text": [
      "\rEpisode 596\tAverage Score: 0.0010\rEpisode 597\tAverage Score: 0.0010"
     ]
    },
    {
     "name": "stdout",
     "output_type": "stream",
     "text": [
      "\rEpisode 598\tAverage Score: 0.0010\rEpisode 599\tAverage Score: 0.0010"
     ]
    },
    {
     "name": "stdout",
     "output_type": "stream",
     "text": [
      "\rEpisode 600\tAverage Score: 0.0010\rEpisode 600\tAverage Score: 0.0010\n\rEpisode 601\tAverage Score: 0.0010"
     ]
    },
    {
     "name": "stdout",
     "output_type": "stream",
     "text": [
      "\rEpisode 602\tAverage Score: 0.0010"
     ]
    },
    {
     "name": "stdout",
     "output_type": "stream",
     "text": [
      "\rEpisode 603\tAverage Score: 0.0010\rEpisode 604\tAverage Score: 0.0010"
     ]
    },
    {
     "name": "stdout",
     "output_type": "stream",
     "text": [
      "\rEpisode 605\tAverage Score: 0.0010\rEpisode 606\tAverage Score: 0.0010"
     ]
    },
    {
     "name": "stdout",
     "output_type": "stream",
     "text": [
      "\rEpisode 607\tAverage Score: 0.0010\rEpisode 608\tAverage Score: 0.0010"
     ]
    },
    {
     "name": "stdout",
     "output_type": "stream",
     "text": [
      "\rEpisode 609\tAverage Score: 0.0010\rEpisode 610\tAverage Score: 0.0010"
     ]
    },
    {
     "name": "stdout",
     "output_type": "stream",
     "text": [
      "\rEpisode 611\tAverage Score: 0.0010\rEpisode 612\tAverage Score: 0.0010"
     ]
    },
    {
     "name": "stdout",
     "output_type": "stream",
     "text": [
      "\rEpisode 613\tAverage Score: 0.0010"
     ]
    },
    {
     "name": "stdout",
     "output_type": "stream",
     "text": [
      "\rEpisode 614\tAverage Score: 0.0019\rEpisode 615\tAverage Score: 0.0019"
     ]
    },
    {
     "name": "stdout",
     "output_type": "stream",
     "text": [
      "\rEpisode 616\tAverage Score: 0.0019\rEpisode 617\tAverage Score: 0.0019"
     ]
    },
    {
     "name": "stdout",
     "output_type": "stream",
     "text": [
      "\rEpisode 618\tAverage Score: 0.0019\rEpisode 619\tAverage Score: 0.0019"
     ]
    },
    {
     "name": "stdout",
     "output_type": "stream",
     "text": [
      "\rEpisode 620\tAverage Score: 0.0019\rEpisode 621\tAverage Score: 0.0019"
     ]
    },
    {
     "name": "stdout",
     "output_type": "stream",
     "text": [
      "\rEpisode 622\tAverage Score: 0.0019\rEpisode 623\tAverage Score: 0.0019"
     ]
    },
    {
     "name": "stdout",
     "output_type": "stream",
     "text": [
      "\rEpisode 624\tAverage Score: 0.0019\rEpisode 625\tAverage Score: 0.0019"
     ]
    },
    {
     "name": "stdout",
     "output_type": "stream",
     "text": [
      "\rEpisode 626\tAverage Score: 0.0019\rEpisode 627\tAverage Score: 0.0019"
     ]
    },
    {
     "name": "stdout",
     "output_type": "stream",
     "text": [
      "\rEpisode 628\tAverage Score: 0.0019\rEpisode 629\tAverage Score: 0.0019"
     ]
    },
    {
     "name": "stdout",
     "output_type": "stream",
     "text": [
      "\rEpisode 630\tAverage Score: 0.0019"
     ]
    },
    {
     "name": "stdout",
     "output_type": "stream",
     "text": [
      "\rEpisode 631\tAverage Score: 0.0029\rEpisode 632\tAverage Score: 0.0029"
     ]
    },
    {
     "name": "stdout",
     "output_type": "stream",
     "text": [
      "\rEpisode 633\tAverage Score: 0.0029\rEpisode 634\tAverage Score: 0.0029"
     ]
    },
    {
     "name": "stdout",
     "output_type": "stream",
     "text": [
      "\rEpisode 635\tAverage Score: 0.0029\rEpisode 636\tAverage Score: 0.0029"
     ]
    },
    {
     "name": "stdout",
     "output_type": "stream",
     "text": [
      "\rEpisode 637\tAverage Score: 0.0029\rEpisode 638\tAverage Score: 0.0029"
     ]
    },
    {
     "name": "stdout",
     "output_type": "stream",
     "text": [
      "\rEpisode 639\tAverage Score: 0.0029\rEpisode 640\tAverage Score: 0.0029"
     ]
    },
    {
     "name": "stdout",
     "output_type": "stream",
     "text": [
      "\rEpisode 641\tAverage Score: 0.0029"
     ]
    },
    {
     "name": "stdout",
     "output_type": "stream",
     "text": [
      "\rEpisode 642\tAverage Score: 0.0038\rEpisode 643\tAverage Score: 0.0038"
     ]
    },
    {
     "name": "stdout",
     "output_type": "stream",
     "text": [
      "\rEpisode 644\tAverage Score: 0.0038\rEpisode 645\tAverage Score: 0.0038"
     ]
    },
    {
     "name": "stdout",
     "output_type": "stream",
     "text": [
      "\rEpisode 646\tAverage Score: 0.0038\rEpisode 647\tAverage Score: 0.0038"
     ]
    },
    {
     "name": "stdout",
     "output_type": "stream",
     "text": [
      "\rEpisode 648\tAverage Score: 0.0038\rEpisode 649\tAverage Score: 0.0038"
     ]
    },
    {
     "name": "stdout",
     "output_type": "stream",
     "text": [
      "\rEpisode 650\tAverage Score: 0.0038\rEpisode 651\tAverage Score: 0.0038"
     ]
    },
    {
     "name": "stdout",
     "output_type": "stream",
     "text": [
      "\rEpisode 652\tAverage Score: 0.0038\rEpisode 653\tAverage Score: 0.0038"
     ]
    },
    {
     "name": "stdout",
     "output_type": "stream",
     "text": [
      "\rEpisode 654\tAverage Score: 0.0038\rEpisode 655\tAverage Score: 0.0038"
     ]
    },
    {
     "name": "stdout",
     "output_type": "stream",
     "text": [
      "\rEpisode 656\tAverage Score: 0.0038\rEpisode 657\tAverage Score: 0.0038"
     ]
    },
    {
     "name": "stdout",
     "output_type": "stream",
     "text": [
      "\rEpisode 658\tAverage Score: 0.0038\rEpisode 659\tAverage Score: 0.0038"
     ]
    },
    {
     "name": "stdout",
     "output_type": "stream",
     "text": [
      "\rEpisode 660\tAverage Score: 0.0038\rEpisode 661\tAverage Score: 0.0038"
     ]
    },
    {
     "name": "stdout",
     "output_type": "stream",
     "text": [
      "\rEpisode 662\tAverage Score: 0.0038\rEpisode 663\tAverage Score: 0.0038"
     ]
    },
    {
     "name": "stdout",
     "output_type": "stream",
     "text": [
      "\rEpisode 664\tAverage Score: 0.0038\rEpisode 665\tAverage Score: 0.0038"
     ]
    },
    {
     "name": "stdout",
     "output_type": "stream",
     "text": [
      "\rEpisode 666\tAverage Score: 0.0038\rEpisode 667\tAverage Score: 0.0038"
     ]
    },
    {
     "name": "stdout",
     "output_type": "stream",
     "text": [
      "\rEpisode 668\tAverage Score: 0.0038\rEpisode 669\tAverage Score: 0.0038"
     ]
    },
    {
     "name": "stdout",
     "output_type": "stream",
     "text": [
      "\rEpisode 670\tAverage Score: 0.0038\rEpisode 671\tAverage Score: 0.0038"
     ]
    },
    {
     "name": "stdout",
     "output_type": "stream",
     "text": [
      "\rEpisode 672\tAverage Score: 0.0038\rEpisode 673\tAverage Score: 0.0038"
     ]
    },
    {
     "name": "stdout",
     "output_type": "stream",
     "text": [
      "\rEpisode 674\tAverage Score: 0.0038\rEpisode 675\tAverage Score: 0.0038"
     ]
    },
    {
     "name": "stdout",
     "output_type": "stream",
     "text": [
      "\rEpisode 676\tAverage Score: 0.0038\rEpisode 677\tAverage Score: 0.0038"
     ]
    },
    {
     "name": "stdout",
     "output_type": "stream",
     "text": [
      "\rEpisode 678\tAverage Score: 0.0028\rEpisode 679\tAverage Score: 0.0028"
     ]
    },
    {
     "name": "stdout",
     "output_type": "stream",
     "text": [
      "\rEpisode 680\tAverage Score: 0.0028"
     ]
    },
    {
     "name": "stdout",
     "output_type": "stream",
     "text": [
      "\rEpisode 681\tAverage Score: 0.0028\rEpisode 682\tAverage Score: 0.0028"
     ]
    },
    {
     "name": "stdout",
     "output_type": "stream",
     "text": [
      "\rEpisode 683\tAverage Score: 0.0028"
     ]
    },
    {
     "name": "stdout",
     "output_type": "stream",
     "text": [
      "\rEpisode 684\tAverage Score: 0.0038\rEpisode 685\tAverage Score: 0.0038"
     ]
    },
    {
     "name": "stdout",
     "output_type": "stream",
     "text": [
      "\rEpisode 686\tAverage Score: 0.0038\rEpisode 687\tAverage Score: 0.0038"
     ]
    },
    {
     "name": "stdout",
     "output_type": "stream",
     "text": [
      "\rEpisode 688\tAverage Score: 0.0038\rEpisode 689\tAverage Score: 0.0038"
     ]
    },
    {
     "name": "stdout",
     "output_type": "stream",
     "text": [
      "\rEpisode 690\tAverage Score: 0.0038\rEpisode 691\tAverage Score: 0.0038"
     ]
    },
    {
     "name": "stdout",
     "output_type": "stream",
     "text": [
      "\rEpisode 692\tAverage Score: 0.0038\rEpisode 693\tAverage Score: 0.0038"
     ]
    },
    {
     "name": "stdout",
     "output_type": "stream",
     "text": [
      "\rEpisode 694\tAverage Score: 0.0038"
     ]
    },
    {
     "name": "stdout",
     "output_type": "stream",
     "text": [
      "\rEpisode 695\tAverage Score: 0.0048"
     ]
    },
    {
     "name": "stdout",
     "output_type": "stream",
     "text": [
      "\rEpisode 696\tAverage Score: 0.0048\rEpisode 697\tAverage Score: 0.0048"
     ]
    },
    {
     "name": "stdout",
     "output_type": "stream",
     "text": [
      "\rEpisode 698\tAverage Score: 0.0048\rEpisode 699\tAverage Score: 0.0048"
     ]
    },
    {
     "name": "stdout",
     "output_type": "stream",
     "text": [
      "\rEpisode 700\tAverage Score: 0.0048\rEpisode 700\tAverage Score: 0.0048\n"
     ]
    },
    {
     "name": "stdout",
     "output_type": "stream",
     "text": [
      "\rEpisode 701\tAverage Score: 0.0058\rEpisode 702\tAverage Score: 0.0058"
     ]
    },
    {
     "name": "stdout",
     "output_type": "stream",
     "text": [
      "\rEpisode 703\tAverage Score: 0.0058\rEpisode 704\tAverage Score: 0.0058"
     ]
    },
    {
     "name": "stdout",
     "output_type": "stream",
     "text": [
      "\rEpisode 705\tAverage Score: 0.0058\rEpisode 706\tAverage Score: 0.0058"
     ]
    },
    {
     "name": "stdout",
     "output_type": "stream",
     "text": [
      "\rEpisode 707\tAverage Score: 0.0058\rEpisode 708\tAverage Score: 0.0058"
     ]
    },
    {
     "name": "stdout",
     "output_type": "stream",
     "text": [
      "\rEpisode 709\tAverage Score: 0.0058\rEpisode 710\tAverage Score: 0.0058"
     ]
    },
    {
     "name": "stdout",
     "output_type": "stream",
     "text": [
      "\rEpisode 711\tAverage Score: 0.0068"
     ]
    },
    {
     "name": "stdout",
     "output_type": "stream",
     "text": [
      "\rEpisode 712\tAverage Score: 0.0078\rEpisode 713\tAverage Score: 0.0078"
     ]
    },
    {
     "name": "stdout",
     "output_type": "stream",
     "text": [
      "\rEpisode 714\tAverage Score: 0.0069\rEpisode 715\tAverage Score: 0.0069"
     ]
    },
    {
     "name": "stdout",
     "output_type": "stream",
     "text": [
      "\rEpisode 716\tAverage Score: 0.0069\rEpisode 717\tAverage Score: 0.0069"
     ]
    },
    {
     "name": "stdout",
     "output_type": "stream",
     "text": [
      "\rEpisode 718\tAverage Score: 0.0069\rEpisode 719\tAverage Score: 0.0069"
     ]
    },
    {
     "name": "stdout",
     "output_type": "stream",
     "text": [
      "\rEpisode 720\tAverage Score: 0.0078\rEpisode 721\tAverage Score: 0.0078"
     ]
    },
    {
     "name": "stdout",
     "output_type": "stream",
     "text": [
      "\rEpisode 722\tAverage Score: 0.0087"
     ]
    },
    {
     "name": "stdout",
     "output_type": "stream",
     "text": [
      "\rEpisode 723\tAverage Score: 0.0097"
     ]
    },
    {
     "name": "stdout",
     "output_type": "stream",
     "text": [
      "\rEpisode 724\tAverage Score: 0.0107\rEpisode 725\tAverage Score: 0.0107"
     ]
    },
    {
     "name": "stdout",
     "output_type": "stream",
     "text": [
      "\rEpisode 726\tAverage Score: 0.0117\rEpisode 727\tAverage Score: 0.0117"
     ]
    },
    {
     "name": "stdout",
     "output_type": "stream",
     "text": [
      "\rEpisode 728\tAverage Score: 0.0117\rEpisode 729\tAverage Score: 0.0117"
     ]
    },
    {
     "name": "stdout",
     "output_type": "stream",
     "text": [
      "\rEpisode 730\tAverage Score: 0.0117\rEpisode 731\tAverage Score: 0.0107"
     ]
    },
    {
     "name": "stdout",
     "output_type": "stream",
     "text": [
      "\rEpisode 732\tAverage Score: 0.0107\rEpisode 733\tAverage Score: 0.0107"
     ]
    },
    {
     "name": "stdout",
     "output_type": "stream",
     "text": [
      "\rEpisode 734\tAverage Score: 0.0107\rEpisode 735\tAverage Score: 0.0107"
     ]
    },
    {
     "name": "stdout",
     "output_type": "stream",
     "text": [
      "\rEpisode 736\tAverage Score: 0.0107\rEpisode 737\tAverage Score: 0.0107"
     ]
    },
    {
     "name": "stdout",
     "output_type": "stream",
     "text": [
      "\rEpisode 738\tAverage Score: 0.0107"
     ]
    },
    {
     "name": "stdout",
     "output_type": "stream",
     "text": [
      "\rEpisode 739\tAverage Score: 0.0107\rEpisode 740\tAverage Score: 0.0107"
     ]
    },
    {
     "name": "stdout",
     "output_type": "stream",
     "text": [
      "\rEpisode 741\tAverage Score: 0.0107"
     ]
    },
    {
     "name": "stdout",
     "output_type": "stream",
     "text": [
      "\rEpisode 742\tAverage Score: 0.0098\rEpisode 743\tAverage Score: 0.0098"
     ]
    },
    {
     "name": "stdout",
     "output_type": "stream",
     "text": [
      "\rEpisode 744\tAverage Score: 0.0098\rEpisode 745\tAverage Score: 0.0098"
     ]
    },
    {
     "name": "stdout",
     "output_type": "stream",
     "text": [
      "\rEpisode 746\tAverage Score: 0.0098\rEpisode 747\tAverage Score: 0.0098"
     ]
    },
    {
     "name": "stdout",
     "output_type": "stream",
     "text": [
      "\rEpisode 748\tAverage Score: 0.0098\rEpisode 749\tAverage Score: 0.0098"
     ]
    },
    {
     "name": "stdout",
     "output_type": "stream",
     "text": [
      "\rEpisode 750\tAverage Score: 0.0098\rEpisode 751\tAverage Score: 0.0098"
     ]
    },
    {
     "name": "stdout",
     "output_type": "stream",
     "text": [
      "\rEpisode 752\tAverage Score: 0.0098\rEpisode 753\tAverage Score: 0.0098"
     ]
    },
    {
     "name": "stdout",
     "output_type": "stream",
     "text": [
      "\rEpisode 754\tAverage Score: 0.0098\rEpisode 755\tAverage Score: 0.0098"
     ]
    },
    {
     "name": "stdout",
     "output_type": "stream",
     "text": [
      "\rEpisode 756\tAverage Score: 0.0098\rEpisode 757\tAverage Score: 0.0098"
     ]
    },
    {
     "name": "stdout",
     "output_type": "stream",
     "text": [
      "\rEpisode 758\tAverage Score: 0.0098\rEpisode 759\tAverage Score: 0.0098"
     ]
    },
    {
     "name": "stdout",
     "output_type": "stream",
     "text": [
      "\rEpisode 760\tAverage Score: 0.0098\rEpisode 761\tAverage Score: 0.0098"
     ]
    },
    {
     "name": "stdout",
     "output_type": "stream",
     "text": [
      "\rEpisode 762\tAverage Score: 0.0098\rEpisode 763\tAverage Score: 0.0098"
     ]
    },
    {
     "name": "stdout",
     "output_type": "stream",
     "text": [
      "\rEpisode 764\tAverage Score: 0.0098\rEpisode 765\tAverage Score: 0.0098"
     ]
    },
    {
     "name": "stdout",
     "output_type": "stream",
     "text": [
      "\rEpisode 766\tAverage Score: 0.0098\rEpisode 767\tAverage Score: 0.0098"
     ]
    },
    {
     "name": "stdout",
     "output_type": "stream",
     "text": [
      "\rEpisode 768\tAverage Score: 0.0098\rEpisode 769\tAverage Score: 0.0098"
     ]
    },
    {
     "name": "stdout",
     "output_type": "stream",
     "text": [
      "\rEpisode 770\tAverage Score: 0.0098\rEpisode 771\tAverage Score: 0.0098"
     ]
    },
    {
     "name": "stdout",
     "output_type": "stream",
     "text": [
      "\rEpisode 772\tAverage Score: 0.0098\rEpisode 773\tAverage Score: 0.0098"
     ]
    },
    {
     "name": "stdout",
     "output_type": "stream",
     "text": [
      "\rEpisode 774\tAverage Score: 0.0098\rEpisode 775\tAverage Score: 0.0098"
     ]
    },
    {
     "name": "stdout",
     "output_type": "stream",
     "text": [
      "\rEpisode 776\tAverage Score: 0.0098\rEpisode 777\tAverage Score: 0.0098"
     ]
    },
    {
     "name": "stdout",
     "output_type": "stream",
     "text": [
      "\rEpisode 778\tAverage Score: 0.0098\rEpisode 779\tAverage Score: 0.0098"
     ]
    },
    {
     "name": "stdout",
     "output_type": "stream",
     "text": [
      "\rEpisode 780\tAverage Score: 0.0098\rEpisode 781\tAverage Score: 0.0098"
     ]
    },
    {
     "name": "stdout",
     "output_type": "stream",
     "text": [
      "\rEpisode 782\tAverage Score: 0.0098\rEpisode 783\tAverage Score: 0.0098"
     ]
    },
    {
     "name": "stdout",
     "output_type": "stream",
     "text": [
      "\rEpisode 784\tAverage Score: 0.0088\rEpisode 785\tAverage Score: 0.0088"
     ]
    },
    {
     "name": "stdout",
     "output_type": "stream",
     "text": [
      "\rEpisode 786\tAverage Score: 0.0088\rEpisode 787\tAverage Score: 0.0088"
     ]
    },
    {
     "name": "stdout",
     "output_type": "stream",
     "text": [
      "\rEpisode 788\tAverage Score: 0.0088\rEpisode 789\tAverage Score: 0.0088"
     ]
    },
    {
     "name": "stdout",
     "output_type": "stream",
     "text": [
      "\rEpisode 790\tAverage Score: 0.0088\rEpisode 791\tAverage Score: 0.0088"
     ]
    },
    {
     "name": "stdout",
     "output_type": "stream",
     "text": [
      "\rEpisode 792\tAverage Score: 0.0088\rEpisode 793\tAverage Score: 0.0088"
     ]
    },
    {
     "name": "stdout",
     "output_type": "stream",
     "text": [
      "\rEpisode 794\tAverage Score: 0.0088\rEpisode 795\tAverage Score: 0.0078"
     ]
    },
    {
     "name": "stdout",
     "output_type": "stream",
     "text": [
      "\rEpisode 796\tAverage Score: 0.0078\rEpisode 797\tAverage Score: 0.0078"
     ]
    },
    {
     "name": "stdout",
     "output_type": "stream",
     "text": [
      "\rEpisode 798\tAverage Score: 0.0078"
     ]
    },
    {
     "name": "stdout",
     "output_type": "stream",
     "text": [
      "\rEpisode 799\tAverage Score: 0.0088\rEpisode 800\tAverage Score: 0.0088\rEpisode 800\tAverage Score: 0.0088\n"
     ]
    },
    {
     "name": "stdout",
     "output_type": "stream",
     "text": [
      "\rEpisode 801\tAverage Score: 0.0078"
     ]
    },
    {
     "name": "stdout",
     "output_type": "stream",
     "text": [
      "\rEpisode 802\tAverage Score: 0.0078\rEpisode 803\tAverage Score: 0.0078"
     ]
    },
    {
     "name": "stdout",
     "output_type": "stream",
     "text": [
      "\rEpisode 804\tAverage Score: 0.0078\rEpisode 805\tAverage Score: 0.0078"
     ]
    },
    {
     "name": "stdout",
     "output_type": "stream",
     "text": [
      "\rEpisode 806\tAverage Score: 0.0078\rEpisode 807\tAverage Score: 0.0078"
     ]
    },
    {
     "name": "stdout",
     "output_type": "stream",
     "text": [
      "\rEpisode 808\tAverage Score: 0.0078\rEpisode 809\tAverage Score: 0.0078"
     ]
    },
    {
     "name": "stdout",
     "output_type": "stream",
     "text": [
      "\rEpisode 810\tAverage Score: 0.0078\rEpisode 811\tAverage Score: 0.0068"
     ]
    },
    {
     "name": "stdout",
     "output_type": "stream",
     "text": [
      "\rEpisode 812\tAverage Score: 0.0058\rEpisode 813\tAverage Score: 0.0058"
     ]
    },
    {
     "name": "stdout",
     "output_type": "stream",
     "text": [
      "\rEpisode 814\tAverage Score: 0.0058"
     ]
    },
    {
     "name": "stdout",
     "output_type": "stream",
     "text": [
      "\rEpisode 815\tAverage Score: 0.0058\rEpisode 816\tAverage Score: 0.0058"
     ]
    },
    {
     "name": "stdout",
     "output_type": "stream",
     "text": [
      "\rEpisode 817\tAverage Score: 0.0058\rEpisode 818\tAverage Score: 0.0058"
     ]
    },
    {
     "name": "stdout",
     "output_type": "stream",
     "text": [
      "\rEpisode 819\tAverage Score: 0.0058\rEpisode 820\tAverage Score: 0.0049"
     ]
    },
    {
     "name": "stdout",
     "output_type": "stream",
     "text": [
      "\rEpisode 821\tAverage Score: 0.0049\rEpisode 822\tAverage Score: 0.0040"
     ]
    },
    {
     "name": "stdout",
     "output_type": "stream",
     "text": [
      "\rEpisode 823\tAverage Score: 0.0030\rEpisode 824\tAverage Score: 0.0020"
     ]
    },
    {
     "name": "stdout",
     "output_type": "stream",
     "text": [
      "\rEpisode 825\tAverage Score: 0.0020\rEpisode 826\tAverage Score: 0.0010"
     ]
    },
    {
     "name": "stdout",
     "output_type": "stream",
     "text": [
      "\rEpisode 827\tAverage Score: 0.0010\rEpisode 828\tAverage Score: 0.0010"
     ]
    },
    {
     "name": "stdout",
     "output_type": "stream",
     "text": [
      "\rEpisode 829\tAverage Score: 0.0010"
     ]
    },
    {
     "name": "stdout",
     "output_type": "stream",
     "text": [
      "\rEpisode 830\tAverage Score: 0.0019\rEpisode 831\tAverage Score: 0.0019"
     ]
    },
    {
     "name": "stdout",
     "output_type": "stream",
     "text": [
      "\rEpisode 832\tAverage Score: 0.0019\rEpisode 833\tAverage Score: 0.0019"
     ]
    },
    {
     "name": "stdout",
     "output_type": "stream",
     "text": [
      "\rEpisode 834\tAverage Score: 0.0019\rEpisode 835\tAverage Score: 0.0019"
     ]
    },
    {
     "name": "stdout",
     "output_type": "stream",
     "text": [
      "\rEpisode 836\tAverage Score: 0.0019\rEpisode 837\tAverage Score: 0.0019"
     ]
    },
    {
     "name": "stdout",
     "output_type": "stream",
     "text": [
      "\rEpisode 838\tAverage Score: 0.0019\rEpisode 839\tAverage Score: 0.0019"
     ]
    },
    {
     "name": "stdout",
     "output_type": "stream",
     "text": [
      "\rEpisode 840\tAverage Score: 0.0019\rEpisode 841\tAverage Score: 0.0019"
     ]
    },
    {
     "name": "stdout",
     "output_type": "stream",
     "text": [
      "\rEpisode 842\tAverage Score: 0.0029\rEpisode 843\tAverage Score: 0.0029"
     ]
    },
    {
     "name": "stdout",
     "output_type": "stream",
     "text": [
      "\rEpisode 844\tAverage Score: 0.0029\rEpisode 845\tAverage Score: 0.0029"
     ]
    },
    {
     "name": "stdout",
     "output_type": "stream",
     "text": [
      "\rEpisode 846\tAverage Score: 0.0029\rEpisode 847\tAverage Score: 0.0029"
     ]
    },
    {
     "name": "stdout",
     "output_type": "stream",
     "text": [
      "\rEpisode 848\tAverage Score: 0.0029\rEpisode 849\tAverage Score: 0.0029"
     ]
    },
    {
     "name": "stdout",
     "output_type": "stream",
     "text": [
      "\rEpisode 850\tAverage Score: 0.0029\rEpisode 851\tAverage Score: 0.0029"
     ]
    },
    {
     "name": "stdout",
     "output_type": "stream",
     "text": [
      "\rEpisode 852\tAverage Score: 0.0029"
     ]
    },
    {
     "name": "stdout",
     "output_type": "stream",
     "text": [
      "\rEpisode 853\tAverage Score: 0.0038\rEpisode 854\tAverage Score: 0.0038"
     ]
    },
    {
     "name": "stdout",
     "output_type": "stream",
     "text": [
      "\rEpisode 855\tAverage Score: 0.0038\rEpisode 856\tAverage Score: 0.0038"
     ]
    },
    {
     "name": "stdout",
     "output_type": "stream",
     "text": [
      "\rEpisode 857\tAverage Score: 0.0038"
     ]
    },
    {
     "name": "stdout",
     "output_type": "stream",
     "text": [
      "\rEpisode 858\tAverage Score: 0.0048"
     ]
    },
    {
     "name": "stdout",
     "output_type": "stream",
     "text": [
      "\rEpisode 859\tAverage Score: 0.0058\rEpisode 860\tAverage Score: 0.0058"
     ]
    },
    {
     "name": "stdout",
     "output_type": "stream",
     "text": [
      "\rEpisode 861\tAverage Score: 0.0068\rEpisode 862\tAverage Score: 0.0068"
     ]
    },
    {
     "name": "stdout",
     "output_type": "stream",
     "text": [
      "\rEpisode 863\tAverage Score: 0.0068\rEpisode 864\tAverage Score: 0.0068"
     ]
    },
    {
     "name": "stdout",
     "output_type": "stream",
     "text": [
      "\rEpisode 865\tAverage Score: 0.0068\rEpisode 866\tAverage Score: 0.0068"
     ]
    },
    {
     "name": "stdout",
     "output_type": "stream",
     "text": [
      "\rEpisode 867\tAverage Score: 0.0068\rEpisode 868\tAverage Score: 0.0068"
     ]
    },
    {
     "name": "stdout",
     "output_type": "stream",
     "text": [
      "\rEpisode 869\tAverage Score: 0.0068\rEpisode 870\tAverage Score: 0.0068"
     ]
    },
    {
     "name": "stdout",
     "output_type": "stream",
     "text": [
      "\rEpisode 871\tAverage Score: 0.0068"
     ]
    },
    {
     "name": "stdout",
     "output_type": "stream",
     "text": [
      "\rEpisode 872\tAverage Score: 0.0068\rEpisode 873\tAverage Score: 0.0068"
     ]
    },
    {
     "name": "stdout",
     "output_type": "stream",
     "text": [
      "\rEpisode 874\tAverage Score: 0.0068\rEpisode 875\tAverage Score: 0.0068"
     ]
    },
    {
     "name": "stdout",
     "output_type": "stream",
     "text": [
      "\rEpisode 876\tAverage Score: 0.0068\rEpisode 877\tAverage Score: 0.0068"
     ]
    },
    {
     "name": "stdout",
     "output_type": "stream",
     "text": [
      "\rEpisode 878\tAverage Score: 0.0068\rEpisode 879\tAverage Score: 0.0068"
     ]
    },
    {
     "name": "stdout",
     "output_type": "stream",
     "text": [
      "\rEpisode 880\tAverage Score: 0.0068\rEpisode 881\tAverage Score: 0.0068"
     ]
    },
    {
     "name": "stdout",
     "output_type": "stream",
     "text": [
      "\rEpisode 882\tAverage Score: 0.0077\rEpisode 883\tAverage Score: 0.0077"
     ]
    },
    {
     "name": "stdout",
     "output_type": "stream",
     "text": [
      "\rEpisode 884\tAverage Score: 0.0077\rEpisode 885\tAverage Score: 0.0077"
     ]
    },
    {
     "name": "stdout",
     "output_type": "stream",
     "text": [
      "\rEpisode 886\tAverage Score: 0.0077\rEpisode 887\tAverage Score: 0.0077"
     ]
    },
    {
     "name": "stdout",
     "output_type": "stream",
     "text": [
      "\rEpisode 888\tAverage Score: 0.0077\rEpisode 889\tAverage Score: 0.0077"
     ]
    },
    {
     "name": "stdout",
     "output_type": "stream",
     "text": [
      "\rEpisode 890\tAverage Score: 0.0077\rEpisode 891\tAverage Score: 0.0077"
     ]
    },
    {
     "name": "stdout",
     "output_type": "stream",
     "text": [
      "\rEpisode 892\tAverage Score: 0.0077\rEpisode 893\tAverage Score: 0.0077"
     ]
    },
    {
     "name": "stdout",
     "output_type": "stream",
     "text": [
      "\rEpisode 894\tAverage Score: 0.0077\rEpisode 895\tAverage Score: 0.0077"
     ]
    },
    {
     "name": "stdout",
     "output_type": "stream",
     "text": [
      "\rEpisode 896\tAverage Score: 0.0086"
     ]
    },
    {
     "name": "stdout",
     "output_type": "stream",
     "text": [
      "\rEpisode 897\tAverage Score: 0.0096"
     ]
    },
    {
     "name": "stdout",
     "output_type": "stream",
     "text": [
      "\rEpisode 898\tAverage Score: 0.0105"
     ]
    },
    {
     "name": "stdout",
     "output_type": "stream",
     "text": [
      "\rEpisode 899\tAverage Score: 0.0105\rEpisode 900\tAverage Score: 0.0105\rEpisode 900\tAverage Score: 0.0105\n"
     ]
    },
    {
     "name": "stdout",
     "output_type": "stream",
     "text": [
      "\rEpisode 901\tAverage Score: 0.0105"
     ]
    },
    {
     "name": "stdout",
     "output_type": "stream",
     "text": [
      "\rEpisode 902\tAverage Score: 0.0114\rEpisode 903\tAverage Score: 0.0114"
     ]
    },
    {
     "name": "stdout",
     "output_type": "stream",
     "text": [
      "\rEpisode 904\tAverage Score: 0.0114"
     ]
    },
    {
     "name": "stdout",
     "output_type": "stream",
     "text": [
      "\rEpisode 905\tAverage Score: 0.0123\rEpisode 906\tAverage Score: 0.0123"
     ]
    },
    {
     "name": "stdout",
     "output_type": "stream",
     "text": [
      "\rEpisode 907\tAverage Score: 0.0123"
     ]
    },
    {
     "name": "stdout",
     "output_type": "stream",
     "text": [
      "\rEpisode 908\tAverage Score: 0.0133\rEpisode 909\tAverage Score: 0.0133"
     ]
    },
    {
     "name": "stdout",
     "output_type": "stream",
     "text": [
      "\rEpisode 910\tAverage Score: 0.0133"
     ]
    },
    {
     "name": "stdout",
     "output_type": "stream",
     "text": [
      "\rEpisode 911\tAverage Score: 0.0143\rEpisode 912\tAverage Score: 0.0143"
     ]
    },
    {
     "name": "stdout",
     "output_type": "stream",
     "text": [
      "\rEpisode 913\tAverage Score: 0.0152"
     ]
    },
    {
     "name": "stdout",
     "output_type": "stream",
     "text": [
      "\rEpisode 914\tAverage Score: 0.0162\rEpisode 915\tAverage Score: 0.0162"
     ]
    },
    {
     "name": "stdout",
     "output_type": "stream",
     "text": [
      "\rEpisode 916\tAverage Score: 0.0172\rEpisode 917\tAverage Score: 0.0172"
     ]
    },
    {
     "name": "stdout",
     "output_type": "stream",
     "text": [
      "\rEpisode 918\tAverage Score: 0.0172\rEpisode 919\tAverage Score: 0.0172"
     ]
    },
    {
     "name": "stdout",
     "output_type": "stream",
     "text": [
      "\rEpisode 920\tAverage Score: 0.0172\rEpisode 921\tAverage Score: 0.0172"
     ]
    },
    {
     "name": "stdout",
     "output_type": "stream",
     "text": [
      "\rEpisode 922\tAverage Score: 0.0172\rEpisode 923\tAverage Score: 0.0172"
     ]
    },
    {
     "name": "stdout",
     "output_type": "stream",
     "text": [
      "\rEpisode 924\tAverage Score: 0.0172"
     ]
    },
    {
     "name": "stdout",
     "output_type": "stream",
     "text": [
      "\rEpisode 925\tAverage Score: 0.0172\rEpisode 926\tAverage Score: 0.0172"
     ]
    },
    {
     "name": "stdout",
     "output_type": "stream",
     "text": [
      "\rEpisode 927\tAverage Score: 0.0182\rEpisode 928\tAverage Score: 0.0182"
     ]
    },
    {
     "name": "stdout",
     "output_type": "stream",
     "text": [
      "\rEpisode 929\tAverage Score: 0.0182\rEpisode 930\tAverage Score: 0.0173"
     ]
    },
    {
     "name": "stdout",
     "output_type": "stream",
     "text": [
      "\rEpisode 931\tAverage Score: 0.0173\rEpisode 932\tAverage Score: 0.0173"
     ]
    },
    {
     "name": "stdout",
     "output_type": "stream",
     "text": [
      "\rEpisode 933\tAverage Score: 0.0173\rEpisode 934\tAverage Score: 0.0173"
     ]
    },
    {
     "name": "stdout",
     "output_type": "stream",
     "text": [
      "\rEpisode 935\tAverage Score: 0.0173"
     ]
    },
    {
     "name": "stdout",
     "output_type": "stream",
     "text": [
      "\rEpisode 936\tAverage Score: 0.0183\rEpisode 937\tAverage Score: 0.0183"
     ]
    },
    {
     "name": "stdout",
     "output_type": "stream",
     "text": [
      "\rEpisode 938\tAverage Score: 0.0183\rEpisode 939\tAverage Score: 0.0183"
     ]
    },
    {
     "name": "stdout",
     "output_type": "stream",
     "text": [
      "\rEpisode 940\tAverage Score: 0.0183"
     ]
    },
    {
     "name": "stdout",
     "output_type": "stream",
     "text": [
      "\rEpisode 941\tAverage Score: 0.0193"
     ]
    },
    {
     "name": "stdout",
     "output_type": "stream",
     "text": [
      "\rEpisode 942\tAverage Score: 0.0193\rEpisode 943\tAverage Score: 0.0193"
     ]
    },
    {
     "name": "stdout",
     "output_type": "stream",
     "text": [
      "\rEpisode 944\tAverage Score: 0.0193\rEpisode 945\tAverage Score: 0.0193"
     ]
    },
    {
     "name": "stdout",
     "output_type": "stream",
     "text": [
      "\rEpisode 946\tAverage Score: 0.0203\rEpisode 947\tAverage Score: 0.0203"
     ]
    },
    {
     "name": "stdout",
     "output_type": "stream",
     "text": [
      "\rEpisode 948\tAverage Score: 0.0203\rEpisode 949\tAverage Score: 0.0203"
     ]
    },
    {
     "name": "stdout",
     "output_type": "stream",
     "text": [
      "\rEpisode 950\tAverage Score: 0.0203\rEpisode 951\tAverage Score: 0.0203"
     ]
    },
    {
     "name": "stdout",
     "output_type": "stream",
     "text": [
      "\rEpisode 952\tAverage Score: 0.0203\rEpisode 953\tAverage Score: 0.0194"
     ]
    },
    {
     "name": "stdout",
     "output_type": "stream",
     "text": [
      "\rEpisode 954\tAverage Score: 0.0194\rEpisode 955\tAverage Score: 0.0194"
     ]
    },
    {
     "name": "stdout",
     "output_type": "stream",
     "text": [
      "\rEpisode 956\tAverage Score: 0.0194\rEpisode 957\tAverage Score: 0.0194"
     ]
    },
    {
     "name": "stdout",
     "output_type": "stream",
     "text": [
      "\rEpisode 958\tAverage Score: 0.0184"
     ]
    },
    {
     "name": "stdout",
     "output_type": "stream",
     "text": [
      "\rEpisode 959\tAverage Score: 0.0184\rEpisode 960\tAverage Score: 0.0184"
     ]
    },
    {
     "name": "stdout",
     "output_type": "stream",
     "text": [
      "\rEpisode 961\tAverage Score: 0.0174"
     ]
    },
    {
     "name": "stdout",
     "output_type": "stream",
     "text": [
      "\rEpisode 962\tAverage Score: 0.0194"
     ]
    },
    {
     "name": "stdout",
     "output_type": "stream",
     "text": [
      "\rEpisode 963\tAverage Score: 0.0204\rEpisode 964\tAverage Score: 0.0204"
     ]
    },
    {
     "name": "stdout",
     "output_type": "stream",
     "text": [
      "\rEpisode 965\tAverage Score: 0.0214"
     ]
    },
    {
     "name": "stdout",
     "output_type": "stream",
     "text": [
      "\rEpisode 966\tAverage Score: 0.0234\rEpisode 967\tAverage Score: 0.0234"
     ]
    },
    {
     "name": "stdout",
     "output_type": "stream",
     "text": [
      "\rEpisode 968\tAverage Score: 0.0234\rEpisode 969\tAverage Score: 0.0234"
     ]
    },
    {
     "name": "stdout",
     "output_type": "stream",
     "text": [
      "\rEpisode 970\tAverage Score: 0.0244"
     ]
    },
    {
     "name": "stdout",
     "output_type": "stream",
     "text": [
      "\rEpisode 971\tAverage Score: 0.0254\rEpisode 972\tAverage Score: 0.0254"
     ]
    },
    {
     "name": "stdout",
     "output_type": "stream",
     "text": [
      "\rEpisode 973\tAverage Score: 0.0254\rEpisode 974\tAverage Score: 0.0254"
     ]
    },
    {
     "name": "stdout",
     "output_type": "stream",
     "text": [
      "\rEpisode 975\tAverage Score: 0.0254"
     ]
    },
    {
     "name": "stdout",
     "output_type": "stream",
     "text": [
      "\rEpisode 976\tAverage Score: 0.0264\rEpisode 977\tAverage Score: 0.0264"
     ]
    },
    {
     "name": "stdout",
     "output_type": "stream",
     "text": [
      "\rEpisode 978\tAverage Score: 0.0264"
     ]
    },
    {
     "name": "stdout",
     "output_type": "stream",
     "text": [
      "\rEpisode 979\tAverage Score: 0.0264"
     ]
    },
    {
     "name": "stdout",
     "output_type": "stream",
     "text": [
      "\rEpisode 980\tAverage Score: 0.0264\rEpisode 981\tAverage Score: 0.0264"
     ]
    },
    {
     "name": "stdout",
     "output_type": "stream",
     "text": [
      "\rEpisode 982\tAverage Score: 0.0255\rEpisode 983\tAverage Score: 0.0255"
     ]
    },
    {
     "name": "stdout",
     "output_type": "stream",
     "text": [
      "\rEpisode 984\tAverage Score: 0.0255\rEpisode 985\tAverage Score: 0.0255"
     ]
    },
    {
     "name": "stdout",
     "output_type": "stream",
     "text": [
      "\rEpisode 986\tAverage Score: 0.0255"
     ]
    },
    {
     "name": "stdout",
     "output_type": "stream",
     "text": [
      "\rEpisode 987\tAverage Score: 0.0265"
     ]
    },
    {
     "name": "stdout",
     "output_type": "stream",
     "text": [
      "\rEpisode 988\tAverage Score: 0.0285\rEpisode 989\tAverage Score: 0.0285"
     ]
    },
    {
     "name": "stdout",
     "output_type": "stream",
     "text": [
      "\rEpisode 990\tAverage Score: 0.0285"
     ]
    },
    {
     "name": "stdout",
     "output_type": "stream",
     "text": [
      "\rEpisode 991\tAverage Score: 0.0295\rEpisode 992\tAverage Score: 0.0295"
     ]
    },
    {
     "name": "stdout",
     "output_type": "stream",
     "text": [
      "\rEpisode 993\tAverage Score: 0.0295\rEpisode 994\tAverage Score: 0.0295"
     ]
    },
    {
     "name": "stdout",
     "output_type": "stream",
     "text": [
      "\rEpisode 995\tAverage Score: 0.0295\rEpisode 996\tAverage Score: 0.0286"
     ]
    },
    {
     "name": "stdout",
     "output_type": "stream",
     "text": [
      "\rEpisode 997\tAverage Score: 0.0276\rEpisode 998\tAverage Score: 0.0267"
     ]
    },
    {
     "name": "stdout",
     "output_type": "stream",
     "text": [
      "\rEpisode 999\tAverage Score: 0.0257\rEpisode 1000\tAverage Score: 0.0257\rEpisode 1000\tAverage Score: 0.0257\n"
     ]
    },
    {
     "name": "stdout",
     "output_type": "stream",
     "text": [
      "\rEpisode 1001\tAverage Score: 0.0257\rEpisode 1002\tAverage Score: 0.0248"
     ]
    },
    {
     "name": "stdout",
     "output_type": "stream",
     "text": [
      "\rEpisode 1003\tAverage Score: 0.0248\rEpisode 1004\tAverage Score: 0.0248"
     ]
    },
    {
     "name": "stdout",
     "output_type": "stream",
     "text": [
      "\rEpisode 1005\tAverage Score: 0.0239\rEpisode 1006\tAverage Score: 0.0239"
     ]
    },
    {
     "name": "stdout",
     "output_type": "stream",
     "text": [
      "\rEpisode 1007\tAverage Score: 0.0239"
     ]
    },
    {
     "name": "stdout",
     "output_type": "stream",
     "text": [
      "\rEpisode 1008\tAverage Score: 0.0239\rEpisode 1009\tAverage Score: 0.0239"
     ]
    },
    {
     "name": "stdout",
     "output_type": "stream",
     "text": [
      "\rEpisode 1010\tAverage Score: 0.0239"
     ]
    },
    {
     "name": "stdout",
     "output_type": "stream",
     "text": [
      "\rEpisode 1011\tAverage Score: 0.0259\rEpisode 1012\tAverage Score: 0.0259"
     ]
    },
    {
     "name": "stdout",
     "output_type": "stream",
     "text": [
      "\rEpisode 1013\tAverage Score: 0.0250\rEpisode 1014\tAverage Score: 0.0240"
     ]
    },
    {
     "name": "stdout",
     "output_type": "stream",
     "text": [
      "\rEpisode 1015\tAverage Score: 0.0240\rEpisode 1016\tAverage Score: 0.0230"
     ]
    },
    {
     "name": "stdout",
     "output_type": "stream",
     "text": [
      "\rEpisode 1017\tAverage Score: 0.0230\rEpisode 1018\tAverage Score: 0.0230"
     ]
    },
    {
     "name": "stdout",
     "output_type": "stream",
     "text": [
      "\rEpisode 1019\tAverage Score: 0.0230\rEpisode 1020\tAverage Score: 0.0230"
     ]
    },
    {
     "name": "stdout",
     "output_type": "stream",
     "text": [
      "\rEpisode 1021\tAverage Score: 0.0230"
     ]
    },
    {
     "name": "stdout",
     "output_type": "stream",
     "text": [
      "\rEpisode 1022\tAverage Score: 0.0240\rEpisode 1023\tAverage Score: 0.0240"
     ]
    },
    {
     "name": "stdout",
     "output_type": "stream",
     "text": [
      "\rEpisode 1024\tAverage Score: 0.0240\rEpisode 1025\tAverage Score: 0.0240"
     ]
    },
    {
     "name": "stdout",
     "output_type": "stream",
     "text": [
      "\rEpisode 1026\tAverage Score: 0.0240\rEpisode 1027\tAverage Score: 0.0230"
     ]
    },
    {
     "name": "stdout",
     "output_type": "stream",
     "text": [
      "\rEpisode 1028\tAverage Score: 0.0230\rEpisode 1029\tAverage Score: 0.0230"
     ]
    },
    {
     "name": "stdout",
     "output_type": "stream",
     "text": [
      "\rEpisode 1030\tAverage Score: 0.0230\rEpisode 1031\tAverage Score: 0.0230"
     ]
    },
    {
     "name": "stdout",
     "output_type": "stream",
     "text": [
      "\rEpisode 1032\tAverage Score: 0.0230\rEpisode 1033\tAverage Score: 0.0230"
     ]
    },
    {
     "name": "stdout",
     "output_type": "stream",
     "text": [
      "\rEpisode 1034\tAverage Score: 0.0230"
     ]
    },
    {
     "name": "stdout",
     "output_type": "stream",
     "text": [
      "\rEpisode 1035\tAverage Score: 0.0240\rEpisode 1036\tAverage Score: 0.0230"
     ]
    },
    {
     "name": "stdout",
     "output_type": "stream",
     "text": [
      "\rEpisode 1037\tAverage Score: 0.0240\rEpisode 1038\tAverage Score: 0.0240"
     ]
    },
    {
     "name": "stdout",
     "output_type": "stream",
     "text": [
      "\rEpisode 1039\tAverage Score: 0.0240\rEpisode 1040\tAverage Score: 0.0240"
     ]
    },
    {
     "name": "stdout",
     "output_type": "stream",
     "text": [
      "\rEpisode 1041\tAverage Score: 0.0240\rEpisode 1042\tAverage Score: 0.0230"
     ]
    },
    {
     "name": "stdout",
     "output_type": "stream",
     "text": [
      "\rEpisode 1043\tAverage Score: 0.0230\rEpisode 1044\tAverage Score: 0.0230"
     ]
    },
    {
     "name": "stdout",
     "output_type": "stream",
     "text": [
      "\rEpisode 1045\tAverage Score: 0.0230\rEpisode 1046\tAverage Score: 0.0220"
     ]
    },
    {
     "name": "stdout",
     "output_type": "stream",
     "text": [
      "\rEpisode 1047\tAverage Score: 0.0220\rEpisode 1048\tAverage Score: 0.0220"
     ]
    },
    {
     "name": "stdout",
     "output_type": "stream",
     "text": [
      "\rEpisode 1049\tAverage Score: 0.0230\rEpisode 1050\tAverage Score: 0.0230"
     ]
    },
    {
     "name": "stdout",
     "output_type": "stream",
     "text": [
      "\rEpisode 1051\tAverage Score: 0.0230\rEpisode 1052\tAverage Score: 0.0230"
     ]
    },
    {
     "name": "stdout",
     "output_type": "stream",
     "text": [
      "\rEpisode 1053\tAverage Score: 0.0230\rEpisode 1054\tAverage Score: 0.0230"
     ]
    },
    {
     "name": "stdout",
     "output_type": "stream",
     "text": [
      "\rEpisode 1055\tAverage Score: 0.0230\rEpisode 1056\tAverage Score: 0.0230"
     ]
    },
    {
     "name": "stdout",
     "output_type": "stream",
     "text": [
      "\rEpisode 1057\tAverage Score: 0.0240\rEpisode 1058\tAverage Score: 0.0240"
     ]
    },
    {
     "name": "stdout",
     "output_type": "stream",
     "text": [
      "\rEpisode 1059\tAverage Score: 0.0230\rEpisode 1060\tAverage Score: 0.0230"
     ]
    },
    {
     "name": "stdout",
     "output_type": "stream",
     "text": [
      "\rEpisode 1061\tAverage Score: 0.0230\rEpisode 1062\tAverage Score: 0.0210"
     ]
    },
    {
     "name": "stdout",
     "output_type": "stream",
     "text": [
      "\rEpisode 1063\tAverage Score: 0.0200\rEpisode 1064\tAverage Score: 0.0200"
     ]
    },
    {
     "name": "stdout",
     "output_type": "stream",
     "text": [
      "\rEpisode 1065\tAverage Score: 0.0190\rEpisode 1066\tAverage Score: 0.0170"
     ]
    },
    {
     "name": "stdout",
     "output_type": "stream",
     "text": [
      "\rEpisode 1067\tAverage Score: 0.0170\rEpisode 1068\tAverage Score: 0.0170"
     ]
    },
    {
     "name": "stdout",
     "output_type": "stream",
     "text": [
      "\rEpisode 1069\tAverage Score: 0.0170"
     ]
    },
    {
     "name": "stdout",
     "output_type": "stream",
     "text": [
      "\rEpisode 1070\tAverage Score: 0.0170\rEpisode 1071\tAverage Score: 0.0160"
     ]
    },
    {
     "name": "stdout",
     "output_type": "stream",
     "text": [
      "\rEpisode 1072\tAverage Score: 0.0160\rEpisode 1073\tAverage Score: 0.0160"
     ]
    },
    {
     "name": "stdout",
     "output_type": "stream",
     "text": [
      "\rEpisode 1074\tAverage Score: 0.0160\rEpisode 1075\tAverage Score: 0.0160"
     ]
    },
    {
     "name": "stdout",
     "output_type": "stream",
     "text": [
      "\rEpisode 1076\tAverage Score: 0.0150\rEpisode 1077\tAverage Score: 0.0150"
     ]
    },
    {
     "name": "stdout",
     "output_type": "stream",
     "text": [
      "\rEpisode 1078\tAverage Score: 0.0150\rEpisode 1079\tAverage Score: 0.0150"
     ]
    },
    {
     "name": "stdout",
     "output_type": "stream",
     "text": [
      "\rEpisode 1080\tAverage Score: 0.0150\rEpisode 1081\tAverage Score: 0.0150"
     ]
    },
    {
     "name": "stdout",
     "output_type": "stream",
     "text": [
      "\rEpisode 1082\tAverage Score: 0.0150"
     ]
    },
    {
     "name": "stdout",
     "output_type": "stream",
     "text": [
      "\rEpisode 1083\tAverage Score: 0.0160\rEpisode 1084\tAverage Score: 0.0160"
     ]
    },
    {
     "name": "stdout",
     "output_type": "stream",
     "text": [
      "\rEpisode 1085\tAverage Score: 0.0160\rEpisode 1086\tAverage Score: 0.0160"
     ]
    },
    {
     "name": "stdout",
     "output_type": "stream",
     "text": [
      "\rEpisode 1087\tAverage Score: 0.0150\rEpisode 1088\tAverage Score: 0.0130"
     ]
    },
    {
     "name": "stdout",
     "output_type": "stream",
     "text": [
      "\rEpisode 1089\tAverage Score: 0.0130"
     ]
    },
    {
     "name": "stdout",
     "output_type": "stream",
     "text": [
      "\rEpisode 1090\tAverage Score: 0.0140\rEpisode 1091\tAverage Score: 0.0130"
     ]
    },
    {
     "name": "stdout",
     "output_type": "stream",
     "text": [
      "\rEpisode 1092\tAverage Score: 0.0140"
     ]
    },
    {
     "name": "stdout",
     "output_type": "stream",
     "text": [
      "\rEpisode 1093\tAverage Score: 0.0180"
     ]
    },
    {
     "name": "stdout",
     "output_type": "stream",
     "text": [
      "\rEpisode 1094\tAverage Score: 0.0190\rEpisode 1095\tAverage Score: 0.0190"
     ]
    },
    {
     "name": "stdout",
     "output_type": "stream",
     "text": [
      "\rEpisode 1096\tAverage Score: 0.0190\rEpisode 1097\tAverage Score: 0.0190"
     ]
    },
    {
     "name": "stdout",
     "output_type": "stream",
     "text": [
      "\rEpisode 1098\tAverage Score: 0.0190\rEpisode 1099\tAverage Score: 0.0190"
     ]
    },
    {
     "name": "stdout",
     "output_type": "stream",
     "text": [
      "\rEpisode 1100\tAverage Score: 0.0190\rEpisode 1100\tAverage Score: 0.0190\n"
     ]
    },
    {
     "name": "stdout",
     "output_type": "stream",
     "text": [
      "\rEpisode 1101\tAverage Score: 0.0210\rEpisode 1102\tAverage Score: 0.0210"
     ]
    },
    {
     "name": "stdout",
     "output_type": "stream",
     "text": [
      "\rEpisode 1103\tAverage Score: 0.0210"
     ]
    },
    {
     "name": "stdout",
     "output_type": "stream",
     "text": [
      "\rEpisode 1104\tAverage Score: 0.0220\rEpisode 1105\tAverage Score: 0.0220"
     ]
    },
    {
     "name": "stdout",
     "output_type": "stream",
     "text": [
      "\rEpisode 1106\tAverage Score: 0.0230\rEpisode 1107\tAverage Score: 0.0230"
     ]
    },
    {
     "name": "stdout",
     "output_type": "stream",
     "text": [
      "\rEpisode 1108\tAverage Score: 0.0220\rEpisode 1109\tAverage Score: 0.0220"
     ]
    },
    {
     "name": "stdout",
     "output_type": "stream",
     "text": [
      "\rEpisode 1110\tAverage Score: 0.0220\rEpisode 1111\tAverage Score: 0.0190"
     ]
    },
    {
     "name": "stdout",
     "output_type": "stream",
     "text": [
      "\rEpisode 1112\tAverage Score: 0.0190\rEpisode 1113\tAverage Score: 0.0190"
     ]
    },
    {
     "name": "stdout",
     "output_type": "stream",
     "text": [
      "\rEpisode 1114\tAverage Score: 0.0190\rEpisode 1115\tAverage Score: 0.0190"
     ]
    },
    {
     "name": "stdout",
     "output_type": "stream",
     "text": [
      "\rEpisode 1116\tAverage Score: 0.0190\rEpisode 1117\tAverage Score: 0.0190"
     ]
    },
    {
     "name": "stdout",
     "output_type": "stream",
     "text": [
      "\rEpisode 1118\tAverage Score: 0.0190\rEpisode 1119\tAverage Score: 0.0190"
     ]
    },
    {
     "name": "stdout",
     "output_type": "stream",
     "text": [
      "\rEpisode 1120\tAverage Score: 0.0190\rEpisode 1121\tAverage Score: 0.0190"
     ]
    },
    {
     "name": "stdout",
     "output_type": "stream",
     "text": [
      "\rEpisode 1122\tAverage Score: 0.0180\rEpisode 1123\tAverage Score: 0.0180"
     ]
    },
    {
     "name": "stdout",
     "output_type": "stream",
     "text": [
      "\rEpisode 1124\tAverage Score: 0.0180\rEpisode 1125\tAverage Score: 0.0180"
     ]
    },
    {
     "name": "stdout",
     "output_type": "stream",
     "text": [
      "\rEpisode 1126\tAverage Score: 0.0180\rEpisode 1127\tAverage Score: 0.0180"
     ]
    },
    {
     "name": "stdout",
     "output_type": "stream",
     "text": [
      "\rEpisode 1128\tAverage Score: 0.0180\rEpisode 1129\tAverage Score: 0.0180"
     ]
    },
    {
     "name": "stdout",
     "output_type": "stream",
     "text": [
      "\rEpisode 1130\tAverage Score: 0.0180\rEpisode 1131\tAverage Score: 0.0180"
     ]
    },
    {
     "name": "stdout",
     "output_type": "stream",
     "text": [
      "\rEpisode 1132\tAverage Score: 0.0180\rEpisode 1133\tAverage Score: 0.0180"
     ]
    },
    {
     "name": "stdout",
     "output_type": "stream",
     "text": [
      "\rEpisode 1134\tAverage Score: 0.0180\rEpisode 1135\tAverage Score: 0.0170"
     ]
    },
    {
     "name": "stdout",
     "output_type": "stream",
     "text": [
      "\rEpisode 1136\tAverage Score: 0.0170\rEpisode 1137\tAverage Score: 0.0160"
     ]
    },
    {
     "name": "stdout",
     "output_type": "stream",
     "text": [
      "\rEpisode 1138\tAverage Score: 0.0160\rEpisode 1139\tAverage Score: 0.0160"
     ]
    },
    {
     "name": "stdout",
     "output_type": "stream",
     "text": [
      "\rEpisode 1140\tAverage Score: 0.0160\rEpisode 1141\tAverage Score: 0.0150"
     ]
    },
    {
     "name": "stdout",
     "output_type": "stream",
     "text": [
      "\rEpisode 1142\tAverage Score: 0.0150\rEpisode 1143\tAverage Score: 0.0150"
     ]
    },
    {
     "name": "stdout",
     "output_type": "stream",
     "text": [
      "\rEpisode 1144\tAverage Score: 0.0150\rEpisode 1145\tAverage Score: 0.0150"
     ]
    },
    {
     "name": "stdout",
     "output_type": "stream",
     "text": [
      "\rEpisode 1146\tAverage Score: 0.0150\rEpisode 1147\tAverage Score: 0.0150"
     ]
    },
    {
     "name": "stdout",
     "output_type": "stream",
     "text": [
      "\rEpisode 1148\tAverage Score: 0.0150\rEpisode 1149\tAverage Score: 0.0140"
     ]
    },
    {
     "name": "stdout",
     "output_type": "stream",
     "text": [
      "\rEpisode 1150\tAverage Score: 0.0140"
     ]
    },
    {
     "name": "stdout",
     "output_type": "stream",
     "text": [
      "\rEpisode 1151\tAverage Score: 0.0150"
     ]
    },
    {
     "name": "stdout",
     "output_type": "stream",
     "text": [
      "\rEpisode 1152\tAverage Score: 0.0160\rEpisode 1153\tAverage Score: 0.0160"
     ]
    },
    {
     "name": "stdout",
     "output_type": "stream",
     "text": [
      "\rEpisode 1154\tAverage Score: 0.0160\rEpisode 1155\tAverage Score: 0.0160"
     ]
    },
    {
     "name": "stdout",
     "output_type": "stream",
     "text": [
      "\rEpisode 1156\tAverage Score: 0.0160"
     ]
    },
    {
     "name": "stdout",
     "output_type": "stream",
     "text": [
      "\rEpisode 1157\tAverage Score: 0.0190\rEpisode 1158\tAverage Score: 0.0190"
     ]
    },
    {
     "name": "stdout",
     "output_type": "stream",
     "text": [
      "\rEpisode 1159\tAverage Score: 0.0190\rEpisode 1160\tAverage Score: 0.0190"
     ]
    },
    {
     "name": "stdout",
     "output_type": "stream",
     "text": [
      "\rEpisode 1161\tAverage Score: 0.0190"
     ]
    },
    {
     "name": "stdout",
     "output_type": "stream",
     "text": [
      "\rEpisode 1162\tAverage Score: 0.0200\rEpisode 1163\tAverage Score: 0.0200"
     ]
    },
    {
     "name": "stdout",
     "output_type": "stream",
     "text": [
      "\rEpisode 1164\tAverage Score: 0.0200\rEpisode 1165\tAverage Score: 0.0200"
     ]
    },
    {
     "name": "stdout",
     "output_type": "stream",
     "text": [
      "\rEpisode 1166\tAverage Score: 0.0200\rEpisode 1167\tAverage Score: 0.0200"
     ]
    },
    {
     "name": "stdout",
     "output_type": "stream",
     "text": [
      "\rEpisode 1168\tAverage Score: 0.0200"
     ]
    },
    {
     "name": "stdout",
     "output_type": "stream",
     "text": [
      "\rEpisode 1169\tAverage Score: 0.0209\rEpisode 1170\tAverage Score: 0.0199"
     ]
    },
    {
     "name": "stdout",
     "output_type": "stream",
     "text": [
      "\rEpisode 1171\tAverage Score: 0.0208\rEpisode 1172\tAverage Score: 0.0208"
     ]
    },
    {
     "name": "stdout",
     "output_type": "stream",
     "text": [
      "\rEpisode 1173\tAverage Score: 0.0208\rEpisode 1174\tAverage Score: 0.0208"
     ]
    },
    {
     "name": "stdout",
     "output_type": "stream",
     "text": [
      "\rEpisode 1175\tAverage Score: 0.0208\rEpisode 1176\tAverage Score: 0.0208"
     ]
    },
    {
     "name": "stdout",
     "output_type": "stream",
     "text": [
      "\rEpisode 1177\tAverage Score: 0.0208\rEpisode 1178\tAverage Score: 0.0208"
     ]
    },
    {
     "name": "stdout",
     "output_type": "stream",
     "text": [
      "\rEpisode 1179\tAverage Score: 0.0208\rEpisode 1180\tAverage Score: 0.0208"
     ]
    },
    {
     "name": "stdout",
     "output_type": "stream",
     "text": [
      "\rEpisode 1181\tAverage Score: 0.0208"
     ]
    },
    {
     "name": "stdout",
     "output_type": "stream",
     "text": [
      "\rEpisode 1182\tAverage Score: 0.0217\rEpisode 1183\tAverage Score: 0.0207"
     ]
    },
    {
     "name": "stdout",
     "output_type": "stream",
     "text": [
      "\rEpisode 1184\tAverage Score: 0.0207\rEpisode 1185\tAverage Score: 0.0207"
     ]
    },
    {
     "name": "stdout",
     "output_type": "stream",
     "text": [
      "\rEpisode 1186\tAverage Score: 0.0207\rEpisode 1187\tAverage Score: 0.0207"
     ]
    },
    {
     "name": "stdout",
     "output_type": "stream",
     "text": [
      "\rEpisode 1188\tAverage Score: 0.0207\rEpisode 1189\tAverage Score: 0.0207"
     ]
    },
    {
     "name": "stdout",
     "output_type": "stream",
     "text": [
      "\rEpisode 1190\tAverage Score: 0.0197\rEpisode 1191\tAverage Score: 0.0197"
     ]
    },
    {
     "name": "stdout",
     "output_type": "stream",
     "text": [
      "\rEpisode 1192\tAverage Score: 0.0187\rEpisode 1193\tAverage Score: 0.0147"
     ]
    },
    {
     "name": "stdout",
     "output_type": "stream",
     "text": [
      "\rEpisode 1194\tAverage Score: 0.0137\rEpisode 1195\tAverage Score: 0.0137"
     ]
    },
    {
     "name": "stdout",
     "output_type": "stream",
     "text": [
      "\rEpisode 1196\tAverage Score: 0.0137\rEpisode 1197\tAverage Score: 0.0137"
     ]
    },
    {
     "name": "stdout",
     "output_type": "stream",
     "text": [
      "\rEpisode 1198\tAverage Score: 0.0137\rEpisode 1199\tAverage Score: 0.0137"
     ]
    },
    {
     "name": "stdout",
     "output_type": "stream",
     "text": [
      "\rEpisode 1200\tAverage Score: 0.0137\rEpisode 1200\tAverage Score: 0.0137\n\rEpisode 1201\tAverage Score: 0.0117"
     ]
    },
    {
     "name": "stdout",
     "output_type": "stream",
     "text": [
      "\rEpisode 1202\tAverage Score: 0.0127\rEpisode 1203\tAverage Score: 0.0127"
     ]
    },
    {
     "name": "stdout",
     "output_type": "stream",
     "text": [
      "\rEpisode 1204\tAverage Score: 0.0147"
     ]
    },
    {
     "name": "stdout",
     "output_type": "stream",
     "text": [
      "\rEpisode 1205\tAverage Score: 0.0157\rEpisode 1206\tAverage Score: 0.0147"
     ]
    },
    {
     "name": "stdout",
     "output_type": "stream",
     "text": [
      "\rEpisode 1207\tAverage Score: 0.0177"
     ]
    },
    {
     "name": "stdout",
     "output_type": "stream",
     "text": [
      "\rEpisode 1208\tAverage Score: 0.0187"
     ]
    },
    {
     "name": "stdout",
     "output_type": "stream",
     "text": [
      "\rEpisode 1209\tAverage Score: 0.0196"
     ]
    },
    {
     "name": "stdout",
     "output_type": "stream",
     "text": [
      "\rEpisode 1210\tAverage Score: 0.0205"
     ]
    },
    {
     "name": "stdout",
     "output_type": "stream",
     "text": [
      "\rEpisode 1211\tAverage Score: 0.0235"
     ]
    },
    {
     "name": "stdout",
     "output_type": "stream",
     "text": [
      "\rEpisode 1212\tAverage Score: 0.0255\rEpisode 1213\tAverage Score: 0.0255"
     ]
    },
    {
     "name": "stdout",
     "output_type": "stream",
     "text": [
      "\rEpisode 1214\tAverage Score: 0.0255\rEpisode 1215\tAverage Score: 0.0255"
     ]
    },
    {
     "name": "stdout",
     "output_type": "stream",
     "text": [
      "\rEpisode 1216\tAverage Score: 0.0255\rEpisode 1217\tAverage Score: 0.0255"
     ]
    },
    {
     "name": "stdout",
     "output_type": "stream",
     "text": [
      "\rEpisode 1218\tAverage Score: 0.0255"
     ]
    },
    {
     "name": "stdout",
     "output_type": "stream",
     "text": [
      "\rEpisode 1219\tAverage Score: 0.0265\rEpisode 1220\tAverage Score: 0.0265"
     ]
    },
    {
     "name": "stdout",
     "output_type": "stream",
     "text": [
      "\rEpisode 1221\tAverage Score: 0.0285"
     ]
    },
    {
     "name": "stdout",
     "output_type": "stream",
     "text": [
      "\rEpisode 1222\tAverage Score: 0.0295"
     ]
    },
    {
     "name": "stdout",
     "output_type": "stream",
     "text": [
      "\rEpisode 1223\tAverage Score: 0.0305"
     ]
    },
    {
     "name": "stdout",
     "output_type": "stream",
     "text": [
      "\rEpisode 1224\tAverage Score: 0.0314\rEpisode 1225\tAverage Score: 0.0314"
     ]
    },
    {
     "name": "stdout",
     "output_type": "stream",
     "text": [
      "\rEpisode 1226\tAverage Score: 0.0324"
     ]
    },
    {
     "name": "stdout",
     "output_type": "stream",
     "text": [
      "\rEpisode 1227\tAverage Score: 0.0333"
     ]
    },
    {
     "name": "stdout",
     "output_type": "stream",
     "text": [
      "\rEpisode 1228\tAverage Score: 0.0342"
     ]
    },
    {
     "name": "stdout",
     "output_type": "stream",
     "text": [
      "\rEpisode 1229\tAverage Score: 0.0352\rEpisode 1230\tAverage Score: 0.0352"
     ]
    },
    {
     "name": "stdout",
     "output_type": "stream",
     "text": [
      "\rEpisode 1231\tAverage Score: 0.0352"
     ]
    },
    {
     "name": "stdout",
     "output_type": "stream",
     "text": [
      "\rEpisode 1232\tAverage Score: 0.0361"
     ]
    },
    {
     "name": "stdout",
     "output_type": "stream",
     "text": [
      "\rEpisode 1233\tAverage Score: 0.0371"
     ]
    },
    {
     "name": "stdout",
     "output_type": "stream",
     "text": [
      "\rEpisode 1234\tAverage Score: 0.0380"
     ]
    },
    {
     "name": "stdout",
     "output_type": "stream",
     "text": [
      "\rEpisode 1235\tAverage Score: 0.0390"
     ]
    },
    {
     "name": "stdout",
     "output_type": "stream",
     "text": [
      "\rEpisode 1236\tAverage Score: 0.0399"
     ]
    },
    {
     "name": "stdout",
     "output_type": "stream",
     "text": [
      "\rEpisode 1237\tAverage Score: 0.0408\rEpisode 1238\tAverage Score: 0.0408"
     ]
    },
    {
     "name": "stdout",
     "output_type": "stream",
     "text": [
      "\rEpisode 1239\tAverage Score: 0.0417\rEpisode 1240\tAverage Score: 0.0417"
     ]
    },
    {
     "name": "stdout",
     "output_type": "stream",
     "text": [
      "\rEpisode 1241\tAverage Score: 0.0417\rEpisode 1242\tAverage Score: 0.0417"
     ]
    },
    {
     "name": "stdout",
     "output_type": "stream",
     "text": [
      "\rEpisode 1243\tAverage Score: 0.0427"
     ]
    },
    {
     "name": "stdout",
     "output_type": "stream",
     "text": [
      "\rEpisode 1244\tAverage Score: 0.0437"
     ]
    },
    {
     "name": "stdout",
     "output_type": "stream",
     "text": [
      "\rEpisode 1245\tAverage Score: 0.0447"
     ]
    },
    {
     "name": "stdout",
     "output_type": "stream",
     "text": [
      "\rEpisode 1246\tAverage Score: 0.0457"
     ]
    },
    {
     "name": "stdout",
     "output_type": "stream",
     "text": [
      "\rEpisode 1247\tAverage Score: 0.0467"
     ]
    },
    {
     "name": "stdout",
     "output_type": "stream",
     "text": [
      "\rEpisode 1248\tAverage Score: 0.0477"
     ]
    },
    {
     "name": "stdout",
     "output_type": "stream",
     "text": [
      "\rEpisode 1249\tAverage Score: 0.0486"
     ]
    },
    {
     "name": "stdout",
     "output_type": "stream",
     "text": [
      "\rEpisode 1250\tAverage Score: 0.0496"
     ]
    },
    {
     "name": "stdout",
     "output_type": "stream",
     "text": [
      "\rEpisode 1251\tAverage Score: 0.0495"
     ]
    },
    {
     "name": "stdout",
     "output_type": "stream",
     "text": [
      "\rEpisode 1252\tAverage Score: 0.0494"
     ]
    },
    {
     "name": "stdout",
     "output_type": "stream",
     "text": [
      "\rEpisode 1253\tAverage Score: 0.0503"
     ]
    },
    {
     "name": "stdout",
     "output_type": "stream",
     "text": [
      "\rEpisode 1254\tAverage Score: 0.0513"
     ]
    },
    {
     "name": "stdout",
     "output_type": "stream",
     "text": [
      "\rEpisode 1255\tAverage Score: 0.0523"
     ]
    },
    {
     "name": "stdout",
     "output_type": "stream",
     "text": [
      "\rEpisode 1256\tAverage Score: 0.0533"
     ]
    },
    {
     "name": "stdout",
     "output_type": "stream",
     "text": [
      "\rEpisode 1257\tAverage Score: 0.0493"
     ]
    },
    {
     "name": "stdout",
     "output_type": "stream",
     "text": [
      "\rEpisode 1258\tAverage Score: 0.0503\rEpisode 1259\tAverage Score: 0.0503"
     ]
    },
    {
     "name": "stdout",
     "output_type": "stream",
     "text": [
      "\rEpisode 1260\tAverage Score: 0.0512"
     ]
    },
    {
     "name": "stdout",
     "output_type": "stream",
     "text": [
      "\rEpisode 1261\tAverage Score: 0.0521"
     ]
    },
    {
     "name": "stdout",
     "output_type": "stream",
     "text": [
      "\rEpisode 1262\tAverage Score: 0.0520"
     ]
    },
    {
     "name": "stdout",
     "output_type": "stream",
     "text": [
      "\rEpisode 1263\tAverage Score: 0.0530\rEpisode 1264\tAverage Score: 0.0530"
     ]
    },
    {
     "name": "stdout",
     "output_type": "stream",
     "text": [
      "\rEpisode 1265\tAverage Score: 0.0540"
     ]
    },
    {
     "name": "stdout",
     "output_type": "stream",
     "text": [
      "\rEpisode 1266\tAverage Score: 0.0550"
     ]
    },
    {
     "name": "stdout",
     "output_type": "stream",
     "text": [
      "\rEpisode 1267\tAverage Score: 0.0560"
     ]
    },
    {
     "name": "stdout",
     "output_type": "stream",
     "text": [
      "\rEpisode 1268\tAverage Score: 0.0570"
     ]
    },
    {
     "name": "stdout",
     "output_type": "stream",
     "text": [
      "\rEpisode 1269\tAverage Score: 0.0571"
     ]
    },
    {
     "name": "stdout",
     "output_type": "stream",
     "text": [
      "\rEpisode 1270\tAverage Score: 0.0580\rEpisode 1271\tAverage Score: 0.0571"
     ]
    },
    {
     "name": "stdout",
     "output_type": "stream",
     "text": [
      "\rEpisode 1272\tAverage Score: 0.0580\rEpisode 1273\tAverage Score: 0.0580"
     ]
    },
    {
     "name": "stdout",
     "output_type": "stream",
     "text": [
      "\rEpisode 1274\tAverage Score: 0.0580"
     ]
    },
    {
     "name": "stdout",
     "output_type": "stream",
     "text": [
      "\rEpisode 1275\tAverage Score: 0.0590"
     ]
    },
    {
     "name": "stdout",
     "output_type": "stream",
     "text": [
      "\rEpisode 1276\tAverage Score: 0.0600"
     ]
    },
    {
     "name": "stdout",
     "output_type": "stream",
     "text": [
      "\rEpisode 1277\tAverage Score: 0.0600"
     ]
    },
    {
     "name": "stdout",
     "output_type": "stream",
     "text": [
      "\rEpisode 1278\tAverage Score: 0.0610"
     ]
    },
    {
     "name": "stdout",
     "output_type": "stream",
     "text": [
      "\rEpisode 1279\tAverage Score: 0.0619"
     ]
    },
    {
     "name": "stdout",
     "output_type": "stream",
     "text": [
      "\rEpisode 1280\tAverage Score: 0.0629"
     ]
    },
    {
     "name": "stdout",
     "output_type": "stream",
     "text": [
      "\rEpisode 1281\tAverage Score: 0.0639"
     ]
    },
    {
     "name": "stdout",
     "output_type": "stream",
     "text": [
      "\rEpisode 1282\tAverage Score: 0.0640"
     ]
    },
    {
     "name": "stdout",
     "output_type": "stream",
     "text": [
      "\rEpisode 1283\tAverage Score: 0.0649"
     ]
    },
    {
     "name": "stdout",
     "output_type": "stream",
     "text": [
      "\rEpisode 1284\tAverage Score: 0.0659"
     ]
    },
    {
     "name": "stdout",
     "output_type": "stream",
     "text": [
      "\rEpisode 1285\tAverage Score: 0.0669"
     ]
    },
    {
     "name": "stdout",
     "output_type": "stream",
     "text": [
      "\rEpisode 1286\tAverage Score: 0.0679"
     ]
    },
    {
     "name": "stdout",
     "output_type": "stream",
     "text": [
      "\rEpisode 1287\tAverage Score: 0.0688"
     ]
    },
    {
     "name": "stdout",
     "output_type": "stream",
     "text": [
      "\rEpisode 1288\tAverage Score: 0.0697\rEpisode 1289\tAverage Score: 0.0697"
     ]
    },
    {
     "name": "stdout",
     "output_type": "stream",
     "text": [
      "\rEpisode 1290\tAverage Score: 0.0706"
     ]
    },
    {
     "name": "stdout",
     "output_type": "stream",
     "text": [
      "\rEpisode 1291\tAverage Score: 0.0715"
     ]
    },
    {
     "name": "stdout",
     "output_type": "stream",
     "text": [
      "\rEpisode 1292\tAverage Score: 0.0724"
     ]
    },
    {
     "name": "stdout",
     "output_type": "stream",
     "text": [
      "\rEpisode 1293\tAverage Score: 0.0734\rEpisode 1294\tAverage Score: 0.0734"
     ]
    },
    {
     "name": "stdout",
     "output_type": "stream",
     "text": [
      "\rEpisode 1295\tAverage Score: 0.0744"
     ]
    },
    {
     "name": "stdout",
     "output_type": "stream",
     "text": [
      "\rEpisode 1296\tAverage Score: 0.0754\rEpisode 1297\tAverage Score: 0.0754"
     ]
    },
    {
     "name": "stdout",
     "output_type": "stream",
     "text": [
      "\rEpisode 1298\tAverage Score: 0.0763"
     ]
    },
    {
     "name": "stdout",
     "output_type": "stream",
     "text": [
      "\rEpisode 1299\tAverage Score: 0.0773"
     ]
    },
    {
     "name": "stdout",
     "output_type": "stream",
     "text": [
      "\rEpisode 1300\tAverage Score: 0.0783\rEpisode 1300\tAverage Score: 0.0783\n"
     ]
    },
    {
     "name": "stdout",
     "output_type": "stream",
     "text": [
      "\rEpisode 1301\tAverage Score: 0.0793"
     ]
    },
    {
     "name": "stdout",
     "output_type": "stream",
     "text": [
      "\rEpisode 1302\tAverage Score: 0.0793\rEpisode 1303\tAverage Score: 0.0793"
     ]
    },
    {
     "name": "stdout",
     "output_type": "stream",
     "text": [
      "\rEpisode 1304\tAverage Score: 0.0763"
     ]
    },
    {
     "name": "stdout",
     "output_type": "stream",
     "text": [
      "\rEpisode 1305\tAverage Score: 0.0762"
     ]
    },
    {
     "name": "stdout",
     "output_type": "stream",
     "text": [
      "\rEpisode 1306\tAverage Score: 0.0771"
     ]
    },
    {
     "name": "stdout",
     "output_type": "stream",
     "text": [
      "\rEpisode 1307\tAverage Score: 0.0750\rEpisode 1308\tAverage Score: 0.0740"
     ]
    },
    {
     "name": "stdout",
     "output_type": "stream",
     "text": [
      "\rEpisode 1309\tAverage Score: 0.0740"
     ]
    },
    {
     "name": "stdout",
     "output_type": "stream",
     "text": [
      "\rEpisode 1310\tAverage Score: 0.0741"
     ]
    },
    {
     "name": "stdout",
     "output_type": "stream",
     "text": [
      "\rEpisode 1311\tAverage Score: 0.0721"
     ]
    },
    {
     "name": "stdout",
     "output_type": "stream",
     "text": [
      "\rEpisode 1312\tAverage Score: 0.0711"
     ]
    },
    {
     "name": "stdout",
     "output_type": "stream",
     "text": [
      "\rEpisode 1313\tAverage Score: 0.0721\rEpisode 1314\tAverage Score: 0.0721"
     ]
    },
    {
     "name": "stdout",
     "output_type": "stream",
     "text": [
      "\rEpisode 1315\tAverage Score: 0.0731"
     ]
    },
    {
     "name": "stdout",
     "output_type": "stream",
     "text": [
      "\rEpisode 1316\tAverage Score: 0.0741"
     ]
    },
    {
     "name": "stdout",
     "output_type": "stream",
     "text": [
      "\rEpisode 1317\tAverage Score: 0.0751"
     ]
    },
    {
     "name": "stdout",
     "output_type": "stream",
     "text": [
      "\rEpisode 1318\tAverage Score: 0.0760"
     ]
    },
    {
     "name": "stdout",
     "output_type": "stream",
     "text": [
      "\rEpisode 1319\tAverage Score: 0.0759\rEpisode 1320\tAverage Score: 0.0759"
     ]
    },
    {
     "name": "stdout",
     "output_type": "stream",
     "text": [
      "\rEpisode 1321\tAverage Score: 0.0749"
     ]
    },
    {
     "name": "stdout",
     "output_type": "stream",
     "text": [
      "\rEpisode 1322\tAverage Score: 0.0749\rEpisode 1323\tAverage Score: 0.0739"
     ]
    },
    {
     "name": "stdout",
     "output_type": "stream",
     "text": [
      "\rEpisode 1324\tAverage Score: 0.0730"
     ]
    },
    {
     "name": "stdout",
     "output_type": "stream",
     "text": [
      "\rEpisode 1325\tAverage Score: 0.0740"
     ]
    },
    {
     "name": "stdout",
     "output_type": "stream",
     "text": [
      "\rEpisode 1326\tAverage Score: 0.0740"
     ]
    },
    {
     "name": "stdout",
     "output_type": "stream",
     "text": [
      "\rEpisode 1327\tAverage Score: 0.0741"
     ]
    },
    {
     "name": "stdout",
     "output_type": "stream",
     "text": [
      "\rEpisode 1328\tAverage Score: 0.0741"
     ]
    },
    {
     "name": "stdout",
     "output_type": "stream",
     "text": [
      "\rEpisode 1329\tAverage Score: 0.0740\rEpisode 1330\tAverage Score: 0.0740"
     ]
    },
    {
     "name": "stdout",
     "output_type": "stream",
     "text": [
      "\rEpisode 1331\tAverage Score: 0.0749"
     ]
    },
    {
     "name": "stdout",
     "output_type": "stream",
     "text": [
      "\rEpisode 1332\tAverage Score: 0.0749"
     ]
    },
    {
     "name": "stdout",
     "output_type": "stream",
     "text": [
      "\rEpisode 1333\tAverage Score: 0.0748"
     ]
    },
    {
     "name": "stdout",
     "output_type": "stream",
     "text": [
      "\rEpisode 1334\tAverage Score: 0.0749"
     ]
    },
    {
     "name": "stdout",
     "output_type": "stream",
     "text": [
      "\rEpisode 1335\tAverage Score: 0.0749"
     ]
    },
    {
     "name": "stdout",
     "output_type": "stream",
     "text": [
      "\rEpisode 1336\tAverage Score: 0.0750\rEpisode 1337\tAverage Score: 0.0741"
     ]
    },
    {
     "name": "stdout",
     "output_type": "stream",
     "text": [
      "\rEpisode 1338\tAverage Score: 0.0751"
     ]
    },
    {
     "name": "stdout",
     "output_type": "stream",
     "text": [
      "\rEpisode 1339\tAverage Score: 0.0752"
     ]
    },
    {
     "name": "stdout",
     "output_type": "stream",
     "text": [
      "\rEpisode 1340\tAverage Score: 0.0762"
     ]
    },
    {
     "name": "stdout",
     "output_type": "stream",
     "text": [
      "\rEpisode 1341\tAverage Score: 0.0772"
     ]
    },
    {
     "name": "stdout",
     "output_type": "stream",
     "text": [
      "\rEpisode 1342\tAverage Score: 0.0772"
     ]
    },
    {
     "name": "stdout",
     "output_type": "stream",
     "text": [
      "\rEpisode 1343\tAverage Score: 0.0772\rEpisode 1344\tAverage Score: 0.0762"
     ]
    },
    {
     "name": "stdout",
     "output_type": "stream",
     "text": [
      "\rEpisode 1345\tAverage Score: 0.0761"
     ]
    },
    {
     "name": "stdout",
     "output_type": "stream",
     "text": [
      "\rEpisode 1346\tAverage Score: 0.0761"
     ]
    },
    {
     "name": "stdout",
     "output_type": "stream",
     "text": [
      "\rEpisode 1347\tAverage Score: 0.0761"
     ]
    },
    {
     "name": "stdout",
     "output_type": "stream",
     "text": [
      "\rEpisode 1348\tAverage Score: 0.0761\rEpisode 1349\tAverage Score: 0.0752"
     ]
    },
    {
     "name": "stdout",
     "output_type": "stream",
     "text": [
      "\rEpisode 1350\tAverage Score: 0.0752"
     ]
    },
    {
     "name": "stdout",
     "output_type": "stream",
     "text": [
      "\rEpisode 1351\tAverage Score: 0.0753"
     ]
    },
    {
     "name": "stdout",
     "output_type": "stream",
     "text": [
      "\rEpisode 1352\tAverage Score: 0.0754"
     ]
    },
    {
     "name": "stdout",
     "output_type": "stream",
     "text": [
      "\rEpisode 1353\tAverage Score: 0.0755"
     ]
    },
    {
     "name": "stdout",
     "output_type": "stream",
     "text": [
      "\rEpisode 1354\tAverage Score: 0.0754"
     ]
    },
    {
     "name": "stdout",
     "output_type": "stream",
     "text": [
      "\rEpisode 1355\tAverage Score: 0.0754"
     ]
    },
    {
     "name": "stdout",
     "output_type": "stream",
     "text": [
      "\rEpisode 1356\tAverage Score: 0.0754"
     ]
    },
    {
     "name": "stdout",
     "output_type": "stream",
     "text": [
      "\rEpisode 1357\tAverage Score: 0.0763"
     ]
    },
    {
     "name": "stdout",
     "output_type": "stream",
     "text": [
      "\rEpisode 1358\tAverage Score: 0.0763"
     ]
    },
    {
     "name": "stdout",
     "output_type": "stream",
     "text": [
      "\rEpisode 1359\tAverage Score: 0.0763"
     ]
    },
    {
     "name": "stdout",
     "output_type": "stream",
     "text": [
      "\rEpisode 1360\tAverage Score: 0.0764"
     ]
    },
    {
     "name": "stdout",
     "output_type": "stream",
     "text": [
      "\rEpisode 1361\tAverage Score: 0.0764"
     ]
    },
    {
     "name": "stdout",
     "output_type": "stream",
     "text": [
      "\rEpisode 1362\tAverage Score: 0.0765"
     ]
    },
    {
     "name": "stdout",
     "output_type": "stream",
     "text": [
      "\rEpisode 1363\tAverage Score: 0.0764"
     ]
    },
    {
     "name": "stdout",
     "output_type": "stream",
     "text": [
      "\rEpisode 1364\tAverage Score: 0.0774"
     ]
    },
    {
     "name": "stdout",
     "output_type": "stream",
     "text": [
      "\rEpisode 1365\tAverage Score: 0.0764"
     ]
    },
    {
     "name": "stdout",
     "output_type": "stream",
     "text": [
      "\rEpisode 1366\tAverage Score: 0.0763"
     ]
    },
    {
     "name": "stdout",
     "output_type": "stream",
     "text": [
      "\rEpisode 1367\tAverage Score: 0.0763"
     ]
    },
    {
     "name": "stdout",
     "output_type": "stream",
     "text": [
      "\rEpisode 1368\tAverage Score: 0.0763"
     ]
    },
    {
     "name": "stdout",
     "output_type": "stream",
     "text": [
      "\rEpisode 1369\tAverage Score: 0.0763"
     ]
    },
    {
     "name": "stdout",
     "output_type": "stream",
     "text": [
      "\rEpisode 1370\tAverage Score: 0.0764\rEpisode 1371\tAverage Score: 0.0764"
     ]
    },
    {
     "name": "stdout",
     "output_type": "stream",
     "text": [
      "\rEpisode 1372\tAverage Score: 0.0765"
     ]
    },
    {
     "name": "stdout",
     "output_type": "stream",
     "text": [
      "\rEpisode 1373\tAverage Score: 0.0775"
     ]
    },
    {
     "name": "stdout",
     "output_type": "stream",
     "text": [
      "\rEpisode 1374\tAverage Score: 0.0785"
     ]
    },
    {
     "name": "stdout",
     "output_type": "stream",
     "text": [
      "\rEpisode 1375\tAverage Score: 0.0795"
     ]
    },
    {
     "name": "stdout",
     "output_type": "stream",
     "text": [
      "\rEpisode 1376\tAverage Score: 0.0794"
     ]
    },
    {
     "name": "stdout",
     "output_type": "stream",
     "text": [
      "\rEpisode 1377\tAverage Score: 0.0804"
     ]
    },
    {
     "name": "stdout",
     "output_type": "stream",
     "text": [
      "\rEpisode 1378\tAverage Score: 0.0804"
     ]
    },
    {
     "name": "stdout",
     "output_type": "stream",
     "text": [
      "\rEpisode 1379\tAverage Score: 0.0805"
     ]
    },
    {
     "name": "stdout",
     "output_type": "stream",
     "text": [
      "\rEpisode 1380\tAverage Score: 0.0805"
     ]
    },
    {
     "name": "stdout",
     "output_type": "stream",
     "text": [
      "\rEpisode 1381\tAverage Score: 0.0805\rEpisode 1382\tAverage Score: 0.0795"
     ]
    },
    {
     "name": "stdout",
     "output_type": "stream",
     "text": [
      "\rEpisode 1383\tAverage Score: 0.0796"
     ]
    },
    {
     "name": "stdout",
     "output_type": "stream",
     "text": [
      "\rEpisode 1384\tAverage Score: 0.0806\rEpisode 1385\tAverage Score: 0.0796"
     ]
    },
    {
     "name": "stdout",
     "output_type": "stream",
     "text": [
      "\rEpisode 1386\tAverage Score: 0.0816"
     ]
    },
    {
     "name": "stdout",
     "output_type": "stream",
     "text": [
      "\rEpisode 1387\tAverage Score: 0.0817"
     ]
    },
    {
     "name": "stdout",
     "output_type": "stream",
     "text": [
      "\rEpisode 1388\tAverage Score: 0.0818"
     ]
    },
    {
     "name": "stdout",
     "output_type": "stream",
     "text": [
      "\rEpisode 1389\tAverage Score: 0.0827"
     ]
    },
    {
     "name": "stdout",
     "output_type": "stream",
     "text": [
      "\rEpisode 1390\tAverage Score: 0.0828"
     ]
    },
    {
     "name": "stdout",
     "output_type": "stream",
     "text": [
      "\rEpisode 1391\tAverage Score: 0.0829"
     ]
    },
    {
     "name": "stdout",
     "output_type": "stream",
     "text": [
      "\rEpisode 1392\tAverage Score: 0.0830"
     ]
    },
    {
     "name": "stdout",
     "output_type": "stream",
     "text": [
      "\rEpisode 1393\tAverage Score: 0.0840"
     ]
    },
    {
     "name": "stdout",
     "output_type": "stream",
     "text": [
      "\rEpisode 1394\tAverage Score: 0.0860"
     ]
    },
    {
     "name": "stdout",
     "output_type": "stream",
     "text": [
      "\rEpisode 1395\tAverage Score: 0.0860\rEpisode 1396\tAverage Score: 0.0850"
     ]
    },
    {
     "name": "stdout",
     "output_type": "stream",
     "text": [
      "\rEpisode 1397\tAverage Score: 0.0860"
     ]
    },
    {
     "name": "stdout",
     "output_type": "stream",
     "text": [
      "\rEpisode 1398\tAverage Score: 0.0861"
     ]
    },
    {
     "name": "stdout",
     "output_type": "stream",
     "text": [
      "\rEpisode 1399\tAverage Score: 0.0861"
     ]
    },
    {
     "name": "stdout",
     "output_type": "stream",
     "text": [
      "\rEpisode 1400\tAverage Score: 0.0861\rEpisode 1400\tAverage Score: 0.0861\n"
     ]
    },
    {
     "name": "stdout",
     "output_type": "stream",
     "text": [
      "\rEpisode 1401\tAverage Score: 0.0860"
     ]
    },
    {
     "name": "stdout",
     "output_type": "stream",
     "text": [
      "\rEpisode 1402\tAverage Score: 0.0860"
     ]
    },
    {
     "name": "stdout",
     "output_type": "stream",
     "text": [
      "\rEpisode 1403\tAverage Score: 0.0869\rEpisode 1404\tAverage Score: 0.0869"
     ]
    },
    {
     "name": "stdout",
     "output_type": "stream",
     "text": [
      "\rEpisode 1405\tAverage Score: 0.0880"
     ]
    },
    {
     "name": "stdout",
     "output_type": "stream",
     "text": [
      "\rEpisode 1406\tAverage Score: 0.0881"
     ]
    },
    {
     "name": "stdout",
     "output_type": "stream",
     "text": [
      "\rEpisode 1407\tAverage Score: 0.0882"
     ]
    },
    {
     "name": "stdout",
     "output_type": "stream",
     "text": [
      "\rEpisode 1408\tAverage Score: 0.0882"
     ]
    },
    {
     "name": "stdout",
     "output_type": "stream",
     "text": [
      "\rEpisode 1409\tAverage Score: 0.0883"
     ]
    },
    {
     "name": "stdout",
     "output_type": "stream",
     "text": [
      "\rEpisode 1410\tAverage Score: 0.0893\rEpisode 1411\tAverage Score: 0.0883"
     ]
    },
    {
     "name": "stdout",
     "output_type": "stream",
     "text": [
      "\rEpisode 1412\tAverage Score: 0.0893\rEpisode 1413\tAverage Score: 0.0883"
     ]
    },
    {
     "name": "stdout",
     "output_type": "stream",
     "text": [
      "\rEpisode 1414\tAverage Score: 0.0892"
     ]
    },
    {
     "name": "stdout",
     "output_type": "stream",
     "text": [
      "\rEpisode 1415\tAverage Score: 0.0892\rEpisode 1416\tAverage Score: 0.0882"
     ]
    },
    {
     "name": "stdout",
     "output_type": "stream",
     "text": [
      "\rEpisode 1417\tAverage Score: 0.0872"
     ]
    },
    {
     "name": "stdout",
     "output_type": "stream",
     "text": [
      "\rEpisode 1418\tAverage Score: 0.0873\rEpisode 1419\tAverage Score: 0.0864"
     ]
    },
    {
     "name": "stdout",
     "output_type": "stream",
     "text": [
      "\rEpisode 1420\tAverage Score: 0.0864"
     ]
    },
    {
     "name": "stdout",
     "output_type": "stream",
     "text": [
      "\rEpisode 1421\tAverage Score: 0.0864\rEpisode 1422\tAverage Score: 0.0854"
     ]
    },
    {
     "name": "stdout",
     "output_type": "stream",
     "text": [
      "\rEpisode 1423\tAverage Score: 0.0864\rEpisode 1424\tAverage Score: 0.0864"
     ]
    },
    {
     "name": "stdout",
     "output_type": "stream",
     "text": [
      "\rEpisode 1425\tAverage Score: 0.0854\rEpisode 1426\tAverage Score: 0.0844"
     ]
    },
    {
     "name": "stdout",
     "output_type": "stream",
     "text": [
      "\rEpisode 1427\tAverage Score: 0.0843"
     ]
    },
    {
     "name": "stdout",
     "output_type": "stream",
     "text": [
      "\rEpisode 1428\tAverage Score: 0.0844\rEpisode 1429\tAverage Score: 0.0835"
     ]
    },
    {
     "name": "stdout",
     "output_type": "stream",
     "text": [
      "\rEpisode 1430\tAverage Score: 0.0835\rEpisode 1431\tAverage Score: 0.0826"
     ]
    },
    {
     "name": "stdout",
     "output_type": "stream",
     "text": [
      "\rEpisode 1432\tAverage Score: 0.0827\rEpisode 1433\tAverage Score: 0.0818"
     ]
    },
    {
     "name": "stdout",
     "output_type": "stream",
     "text": [
      "\rEpisode 1434\tAverage Score: 0.0828"
     ]
    },
    {
     "name": "stdout",
     "output_type": "stream",
     "text": [
      "\rEpisode 1435\tAverage Score: 0.0828"
     ]
    },
    {
     "name": "stdout",
     "output_type": "stream",
     "text": [
      "\rEpisode 1436\tAverage Score: 0.0838\rEpisode 1437\tAverage Score: 0.0838"
     ]
    },
    {
     "name": "stdout",
     "output_type": "stream",
     "text": [
      "\rEpisode 1438\tAverage Score: 0.0828\rEpisode 1439\tAverage Score: 0.0818"
     ]
    },
    {
     "name": "stdout",
     "output_type": "stream",
     "text": [
      "\rEpisode 1440\tAverage Score: 0.0808\rEpisode 1441\tAverage Score: 0.0798"
     ]
    },
    {
     "name": "stdout",
     "output_type": "stream",
     "text": [
      "\rEpisode 1442\tAverage Score: 0.0798\rEpisode 1443\tAverage Score: 0.0788"
     ]
    },
    {
     "name": "stdout",
     "output_type": "stream",
     "text": [
      "\rEpisode 1444\tAverage Score: 0.0798\rEpisode 1445\tAverage Score: 0.0789"
     ]
    },
    {
     "name": "stdout",
     "output_type": "stream",
     "text": [
      "\rEpisode 1446\tAverage Score: 0.0779"
     ]
    },
    {
     "name": "stdout",
     "output_type": "stream",
     "text": [
      "\rEpisode 1447\tAverage Score: 0.0789"
     ]
    },
    {
     "name": "stdout",
     "output_type": "stream",
     "text": [
      "\rEpisode 1448\tAverage Score: 0.0789\rEpisode 1449\tAverage Score: 0.0789"
     ]
    },
    {
     "name": "stdout",
     "output_type": "stream",
     "text": [
      "\rEpisode 1450\tAverage Score: 0.0779"
     ]
    },
    {
     "name": "stdout",
     "output_type": "stream",
     "text": [
      "\rEpisode 1451\tAverage Score: 0.0779"
     ]
    },
    {
     "name": "stdout",
     "output_type": "stream",
     "text": [
      "\rEpisode 1452\tAverage Score: 0.0789"
     ]
    },
    {
     "name": "stdout",
     "output_type": "stream",
     "text": [
      "\rEpisode 1453\tAverage Score: 0.0789\rEpisode 1454\tAverage Score: 0.0780"
     ]
    },
    {
     "name": "stdout",
     "output_type": "stream",
     "text": [
      "\rEpisode 1455\tAverage Score: 0.0780"
     ]
    },
    {
     "name": "stdout",
     "output_type": "stream",
     "text": [
      "\rEpisode 1456\tAverage Score: 0.0790"
     ]
    },
    {
     "name": "stdout",
     "output_type": "stream",
     "text": [
      "\rEpisode 1457\tAverage Score: 0.0791\rEpisode 1458\tAverage Score: 0.0781"
     ]
    },
    {
     "name": "stdout",
     "output_type": "stream",
     "text": [
      "\rEpisode 1459\tAverage Score: 0.0791\rEpisode 1460\tAverage Score: 0.0781"
     ]
    },
    {
     "name": "stdout",
     "output_type": "stream",
     "text": [
      "\rEpisode 1461\tAverage Score: 0.0782"
     ]
    },
    {
     "name": "stdout",
     "output_type": "stream",
     "text": [
      "\rEpisode 1462\tAverage Score: 0.0812"
     ]
    },
    {
     "name": "stdout",
     "output_type": "stream",
     "text": [
      "\rEpisode 1463\tAverage Score: 0.0823"
     ]
    },
    {
     "name": "stdout",
     "output_type": "stream",
     "text": [
      "\rEpisode 1464\tAverage Score: 0.0823"
     ]
    },
    {
     "name": "stdout",
     "output_type": "stream",
     "text": [
      "\rEpisode 1465\tAverage Score: 0.0843\rEpisode 1466\tAverage Score: 0.0834"
     ]
    },
    {
     "name": "stdout",
     "output_type": "stream",
     "text": [
      "\rEpisode 1467\tAverage Score: 0.0834"
     ]
    },
    {
     "name": "stdout",
     "output_type": "stream",
     "text": [
      "\rEpisode 1468\tAverage Score: 0.0834"
     ]
    },
    {
     "name": "stdout",
     "output_type": "stream",
     "text": [
      "\rEpisode 1469\tAverage Score: 0.0844"
     ]
    },
    {
     "name": "stdout",
     "output_type": "stream",
     "text": [
      "\rEpisode 1470\tAverage Score: 0.0844\rEpisode 1471\tAverage Score: 0.0844"
     ]
    },
    {
     "name": "stdout",
     "output_type": "stream",
     "text": [
      "\rEpisode 1472\tAverage Score: 0.0844"
     ]
    },
    {
     "name": "stdout",
     "output_type": "stream",
     "text": [
      "\rEpisode 1473\tAverage Score: 0.0843"
     ]
    },
    {
     "name": "stdout",
     "output_type": "stream",
     "text": [
      "\rEpisode 1474\tAverage Score: 0.0853"
     ]
    },
    {
     "name": "stdout",
     "output_type": "stream",
     "text": [
      "\rEpisode 1475\tAverage Score: 0.0843"
     ]
    },
    {
     "name": "stdout",
     "output_type": "stream",
     "text": [
      "\rEpisode 1476\tAverage Score: 0.0844"
     ]
    },
    {
     "name": "stdout",
     "output_type": "stream",
     "text": [
      "\rEpisode 1477\tAverage Score: 0.0844"
     ]
    },
    {
     "name": "stdout",
     "output_type": "stream",
     "text": [
      "\rEpisode 1478\tAverage Score: 0.0844"
     ]
    },
    {
     "name": "stdout",
     "output_type": "stream",
     "text": [
      "\rEpisode 1479\tAverage Score: 0.0834"
     ]
    },
    {
     "name": "stdout",
     "output_type": "stream",
     "text": [
      "\rEpisode 1480\tAverage Score: 0.0834"
     ]
    },
    {
     "name": "stdout",
     "output_type": "stream",
     "text": [
      "\rEpisode 1481\tAverage Score: 0.0834"
     ]
    },
    {
     "name": "stdout",
     "output_type": "stream",
     "text": [
      "\rEpisode 1482\tAverage Score: 0.0854\rEpisode 1483\tAverage Score: 0.0844"
     ]
    },
    {
     "name": "stdout",
     "output_type": "stream",
     "text": [
      "\rEpisode 1484\tAverage Score: 0.0854"
     ]
    },
    {
     "name": "stdout",
     "output_type": "stream",
     "text": [
      "\rEpisode 1485\tAverage Score: 0.0864"
     ]
    },
    {
     "name": "stdout",
     "output_type": "stream",
     "text": [
      "\rEpisode 1486\tAverage Score: 0.0844\rEpisode 1487\tAverage Score: 0.0834"
     ]
    },
    {
     "name": "stdout",
     "output_type": "stream",
     "text": [
      "\rEpisode 1488\tAverage Score: 0.0844"
     ]
    },
    {
     "name": "stdout",
     "output_type": "stream",
     "text": [
      "\rEpisode 1489\tAverage Score: 0.0845"
     ]
    },
    {
     "name": "stdout",
     "output_type": "stream",
     "text": [
      "\rEpisode 1490\tAverage Score: 0.0854"
     ]
    },
    {
     "name": "stdout",
     "output_type": "stream",
     "text": [
      "\rEpisode 1491\tAverage Score: 0.0853"
     ]
    },
    {
     "name": "stdout",
     "output_type": "stream",
     "text": [
      "\rEpisode 1492\tAverage Score: 0.0853"
     ]
    },
    {
     "name": "stdout",
     "output_type": "stream",
     "text": [
      "\rEpisode 1493\tAverage Score: 0.0842"
     ]
    },
    {
     "name": "stdout",
     "output_type": "stream",
     "text": [
      "\rEpisode 1494\tAverage Score: 0.0822"
     ]
    },
    {
     "name": "stdout",
     "output_type": "stream",
     "text": [
      "\rEpisode 1495\tAverage Score: 0.0822\rEpisode 1496\tAverage Score: 0.0822"
     ]
    },
    {
     "name": "stdout",
     "output_type": "stream",
     "text": [
      "\rEpisode 1497\tAverage Score: 0.0812"
     ]
    },
    {
     "name": "stdout",
     "output_type": "stream",
     "text": [
      "\rEpisode 1498\tAverage Score: 0.0812"
     ]
    },
    {
     "name": "stdout",
     "output_type": "stream",
     "text": [
      "\rEpisode 1499\tAverage Score: 0.0811"
     ]
    },
    {
     "name": "stdout",
     "output_type": "stream",
     "text": [
      "\rEpisode 1500\tAverage Score: 0.0810\rEpisode 1500\tAverage Score: 0.0810\n"
     ]
    },
    {
     "name": "stdout",
     "output_type": "stream",
     "text": [
      "\rEpisode 1501\tAverage Score: 0.0811"
     ]
    },
    {
     "name": "stdout",
     "output_type": "stream",
     "text": [
      "\rEpisode 1502\tAverage Score: 0.0811\rEpisode 1503\tAverage Score: 0.0802"
     ]
    },
    {
     "name": "stdout",
     "output_type": "stream",
     "text": [
      "\rEpisode 1504\tAverage Score: 0.0812"
     ]
    },
    {
     "name": "stdout",
     "output_type": "stream",
     "text": [
      "\rEpisode 1505\tAverage Score: 0.0802"
     ]
    },
    {
     "name": "stdout",
     "output_type": "stream",
     "text": [
      "\rEpisode 1506\tAverage Score: 0.0802"
     ]
    },
    {
     "name": "stdout",
     "output_type": "stream",
     "text": [
      "\rEpisode 1507\tAverage Score: 0.0801"
     ]
    },
    {
     "name": "stdout",
     "output_type": "stream",
     "text": [
      "\rEpisode 1508\tAverage Score: 0.0811"
     ]
    },
    {
     "name": "stdout",
     "output_type": "stream",
     "text": [
      "\rEpisode 1509\tAverage Score: 0.0810"
     ]
    },
    {
     "name": "stdout",
     "output_type": "stream",
     "text": [
      "\rEpisode 1510\tAverage Score: 0.0800"
     ]
    },
    {
     "name": "stdout",
     "output_type": "stream",
     "text": [
      "\rEpisode 1511\tAverage Score: 0.0809"
     ]
    },
    {
     "name": "stdout",
     "output_type": "stream",
     "text": [
      "\rEpisode 1512\tAverage Score: 0.0798"
     ]
    },
    {
     "name": "stdout",
     "output_type": "stream",
     "text": [
      "\rEpisode 1513\tAverage Score: 0.0808"
     ]
    },
    {
     "name": "stdout",
     "output_type": "stream",
     "text": [
      "\rEpisode 1514\tAverage Score: 0.0809"
     ]
    },
    {
     "name": "stdout",
     "output_type": "stream",
     "text": [
      "\rEpisode 1515\tAverage Score: 0.0809"
     ]
    },
    {
     "name": "stdout",
     "output_type": "stream",
     "text": [
      "\rEpisode 1516\tAverage Score: 0.0819\rEpisode 1517\tAverage Score: 0.0819"
     ]
    },
    {
     "name": "stdout",
     "output_type": "stream",
     "text": [
      "\rEpisode 1518\tAverage Score: 0.0818"
     ]
    },
    {
     "name": "stdout",
     "output_type": "stream",
     "text": [
      "\rEpisode 1519\tAverage Score: 0.0828"
     ]
    },
    {
     "name": "stdout",
     "output_type": "stream",
     "text": [
      "\rEpisode 1520\tAverage Score: 0.0837"
     ]
    },
    {
     "name": "stdout",
     "output_type": "stream",
     "text": [
      "\rEpisode 1521\tAverage Score: 0.0837"
     ]
    },
    {
     "name": "stdout",
     "output_type": "stream",
     "text": [
      "\rEpisode 1522\tAverage Score: 0.0846\rEpisode 1523\tAverage Score: 0.0836"
     ]
    },
    {
     "name": "stdout",
     "output_type": "stream",
     "text": [
      "\rEpisode 1524\tAverage Score: 0.0846"
     ]
    },
    {
     "name": "stdout",
     "output_type": "stream",
     "text": [
      "\rEpisode 1525\tAverage Score: 0.0846\rEpisode 1526\tAverage Score: 0.0846"
     ]
    },
    {
     "name": "stdout",
     "output_type": "stream",
     "text": [
      "\rEpisode 1527\tAverage Score: 0.0837"
     ]
    },
    {
     "name": "stdout",
     "output_type": "stream",
     "text": [
      "\rEpisode 1528\tAverage Score: 0.0836"
     ]
    },
    {
     "name": "stdout",
     "output_type": "stream",
     "text": [
      "\rEpisode 1529\tAverage Score: 0.0846"
     ]
    },
    {
     "name": "stdout",
     "output_type": "stream",
     "text": [
      "\rEpisode 1530\tAverage Score: 0.0855"
     ]
    },
    {
     "name": "stdout",
     "output_type": "stream",
     "text": [
      "\rEpisode 1531\tAverage Score: 0.0865"
     ]
    },
    {
     "name": "stdout",
     "output_type": "stream",
     "text": [
      "\rEpisode 1532\tAverage Score: 0.0865"
     ]
    },
    {
     "name": "stdout",
     "output_type": "stream",
     "text": [
      "\rEpisode 1533\tAverage Score: 0.0875"
     ]
    },
    {
     "name": "stdout",
     "output_type": "stream",
     "text": [
      "\rEpisode 1534\tAverage Score: 0.0865"
     ]
    },
    {
     "name": "stdout",
     "output_type": "stream",
     "text": [
      "\rEpisode 1535\tAverage Score: 0.0874\rEpisode 1536\tAverage Score: 0.0854"
     ]
    },
    {
     "name": "stdout",
     "output_type": "stream",
     "text": [
      "\rEpisode 1537\tAverage Score: 0.0854\rEpisode 1538\tAverage Score: 0.0854"
     ]
    },
    {
     "name": "stdout",
     "output_type": "stream",
     "text": [
      "\rEpisode 1539\tAverage Score: 0.0854"
     ]
    },
    {
     "name": "stdout",
     "output_type": "stream",
     "text": [
      "\rEpisode 1540\tAverage Score: 0.0864"
     ]
    },
    {
     "name": "stdout",
     "output_type": "stream",
     "text": [
      "\rEpisode 1541\tAverage Score: 0.0874"
     ]
    },
    {
     "name": "stdout",
     "output_type": "stream",
     "text": [
      "\rEpisode 1542\tAverage Score: 0.0884"
     ]
    },
    {
     "name": "stdout",
     "output_type": "stream",
     "text": [
      "\rEpisode 1543\tAverage Score: 0.0884\rEpisode 1544\tAverage Score: 0.0874"
     ]
    },
    {
     "name": "stdout",
     "output_type": "stream",
     "text": [
      "\rEpisode 1545\tAverage Score: 0.0884\rEpisode 1546\tAverage Score: 0.0884"
     ]
    },
    {
     "name": "stdout",
     "output_type": "stream",
     "text": [
      "\rEpisode 1547\tAverage Score: 0.0894\rEpisode 1548\tAverage Score: 0.0884"
     ]
    },
    {
     "name": "stdout",
     "output_type": "stream",
     "text": [
      "\rEpisode 1549\tAverage Score: 0.0904"
     ]
    },
    {
     "name": "stdout",
     "output_type": "stream",
     "text": [
      "\rEpisode 1550\tAverage Score: 0.0914\rEpisode 1551\tAverage Score: 0.0904"
     ]
    },
    {
     "name": "stdout",
     "output_type": "stream",
     "text": [
      "\rEpisode 1552\tAverage Score: 0.0894\rEpisode 1553\tAverage Score: 0.0884"
     ]
    },
    {
     "name": "stdout",
     "output_type": "stream",
     "text": [
      "\rEpisode 1554\tAverage Score: 0.0904"
     ]
    },
    {
     "name": "stdout",
     "output_type": "stream",
     "text": [
      "\rEpisode 1555\tAverage Score: 0.0904"
     ]
    },
    {
     "name": "stdout",
     "output_type": "stream",
     "text": [
      "\rEpisode 1556\tAverage Score: 0.0894"
     ]
    },
    {
     "name": "stdout",
     "output_type": "stream",
     "text": [
      "\rEpisode 1557\tAverage Score: 0.0894"
     ]
    },
    {
     "name": "stdout",
     "output_type": "stream",
     "text": [
      "\rEpisode 1558\tAverage Score: 0.0914"
     ]
    },
    {
     "name": "stdout",
     "output_type": "stream",
     "text": [
      "\rEpisode 1559\tAverage Score: 0.0914"
     ]
    },
    {
     "name": "stdout",
     "output_type": "stream",
     "text": [
      "\rEpisode 1560\tAverage Score: 0.0944"
     ]
    },
    {
     "name": "stdout",
     "output_type": "stream",
     "text": [
      "\rEpisode 1561\tAverage Score: 0.0944"
     ]
    },
    {
     "name": "stdout",
     "output_type": "stream",
     "text": [
      "\rEpisode 1562\tAverage Score: 0.0914"
     ]
    },
    {
     "name": "stdout",
     "output_type": "stream",
     "text": [
      "\rEpisode 1563\tAverage Score: 0.0904"
     ]
    },
    {
     "name": "stdout",
     "output_type": "stream",
     "text": [
      "\rEpisode 1564\tAverage Score: 0.0904\rEpisode 1565\tAverage Score: 0.0884"
     ]
    },
    {
     "name": "stdout",
     "output_type": "stream",
     "text": [
      "\rEpisode 1566\tAverage Score: 0.0884"
     ]
    },
    {
     "name": "stdout",
     "output_type": "stream",
     "text": [
      "\rEpisode 1567\tAverage Score: 0.0884\rEpisode 1568\tAverage Score: 0.0874"
     ]
    },
    {
     "name": "stdout",
     "output_type": "stream",
     "text": [
      "\rEpisode 1569\tAverage Score: 0.0864\rEpisode 1570\tAverage Score: 0.0854"
     ]
    },
    {
     "name": "stdout",
     "output_type": "stream",
     "text": [
      "\rEpisode 1571\tAverage Score: 0.0854\rEpisode 1572\tAverage Score: 0.0844"
     ]
    },
    {
     "name": "stdout",
     "output_type": "stream",
     "text": [
      "\rEpisode 1573\tAverage Score: 0.0835\rEpisode 1574\tAverage Score: 0.0815"
     ]
    },
    {
     "name": "stdout",
     "output_type": "stream",
     "text": [
      "\rEpisode 1575\tAverage Score: 0.0805\rEpisode 1576\tAverage Score: 0.0795"
     ]
    },
    {
     "name": "stdout",
     "output_type": "stream",
     "text": [
      "\rEpisode 1577\tAverage Score: 0.0785"
     ]
    },
    {
     "name": "stdout",
     "output_type": "stream",
     "text": [
      "\rEpisode 1578\tAverage Score: 0.0785"
     ]
    },
    {
     "name": "stdout",
     "output_type": "stream",
     "text": [
      "\rEpisode 1579\tAverage Score: 0.0795"
     ]
    },
    {
     "name": "stdout",
     "output_type": "stream",
     "text": [
      "\rEpisode 1580\tAverage Score: 0.0825"
     ]
    },
    {
     "name": "stdout",
     "output_type": "stream",
     "text": [
      "\rEpisode 1581\tAverage Score: 0.0825"
     ]
    },
    {
     "name": "stdout",
     "output_type": "stream",
     "text": [
      "\rEpisode 1582\tAverage Score: 0.0815"
     ]
    },
    {
     "name": "stdout",
     "output_type": "stream",
     "text": [
      "\rEpisode 1583\tAverage Score: 0.0835"
     ]
    },
    {
     "name": "stdout",
     "output_type": "stream",
     "text": [
      "\rEpisode 1584\tAverage Score: 0.0825\rEpisode 1585\tAverage Score: 0.0815"
     ]
    },
    {
     "name": "stdout",
     "output_type": "stream",
     "text": [
      "\rEpisode 1586\tAverage Score: 0.0815"
     ]
    },
    {
     "name": "stdout",
     "output_type": "stream",
     "text": [
      "\rEpisode 1587\tAverage Score: 0.0824"
     ]
    },
    {
     "name": "stdout",
     "output_type": "stream",
     "text": [
      "\rEpisode 1588\tAverage Score: 0.0814"
     ]
    },
    {
     "name": "stdout",
     "output_type": "stream",
     "text": [
      "\rEpisode 1589\tAverage Score: 0.0814"
     ]
    },
    {
     "name": "stdout",
     "output_type": "stream",
     "text": [
      "\rEpisode 1590\tAverage Score: 0.0804"
     ]
    },
    {
     "name": "stdout",
     "output_type": "stream",
     "text": [
      "\rEpisode 1591\tAverage Score: 0.0804\rEpisode 1592\tAverage Score: 0.0794"
     ]
    },
    {
     "name": "stdout",
     "output_type": "stream",
     "text": [
      "\rEpisode 1593\tAverage Score: 0.0785"
     ]
    },
    {
     "name": "stdout",
     "output_type": "stream",
     "text": [
      "\rEpisode 1594\tAverage Score: 0.0795\rEpisode 1595\tAverage Score: 0.0785"
     ]
    },
    {
     "name": "stdout",
     "output_type": "stream",
     "text": [
      "\rEpisode 1596\tAverage Score: 0.0795"
     ]
    },
    {
     "name": "stdout",
     "output_type": "stream",
     "text": [
      "\rEpisode 1597\tAverage Score: 0.0805\rEpisode 1598\tAverage Score: 0.0795"
     ]
    },
    {
     "name": "stdout",
     "output_type": "stream",
     "text": [
      "\rEpisode 1599\tAverage Score: 0.0786\rEpisode 1600\tAverage Score: 0.0777\rEpisode 1600\tAverage Score: 0.0777\n"
     ]
    },
    {
     "name": "stdout",
     "output_type": "stream",
     "text": [
      "\rEpisode 1601\tAverage Score: 0.0767\rEpisode 1602\tAverage Score: 0.0757"
     ]
    },
    {
     "name": "stdout",
     "output_type": "stream",
     "text": [
      "\rEpisode 1603\tAverage Score: 0.0757"
     ]
    },
    {
     "name": "stdout",
     "output_type": "stream",
     "text": [
      "\rEpisode 1604\tAverage Score: 0.0757"
     ]
    },
    {
     "name": "stdout",
     "output_type": "stream",
     "text": [
      "\rEpisode 1605\tAverage Score: 0.0757"
     ]
    },
    {
     "name": "stdout",
     "output_type": "stream",
     "text": [
      "\rEpisode 1606\tAverage Score: 0.0757"
     ]
    },
    {
     "name": "stdout",
     "output_type": "stream",
     "text": [
      "\rEpisode 1607\tAverage Score: 0.0768"
     ]
    },
    {
     "name": "stdout",
     "output_type": "stream",
     "text": [
      "\rEpisode 1608\tAverage Score: 0.0768\rEpisode 1609\tAverage Score: 0.0759"
     ]
    },
    {
     "name": "stdout",
     "output_type": "stream",
     "text": [
      "\rEpisode 1610\tAverage Score: 0.0759\rEpisode 1611\tAverage Score: 0.0750"
     ]
    },
    {
     "name": "stdout",
     "output_type": "stream",
     "text": [
      "\rEpisode 1612\tAverage Score: 0.0741"
     ]
    },
    {
     "name": "stdout",
     "output_type": "stream",
     "text": [
      "\rEpisode 1613\tAverage Score: 0.0740"
     ]
    },
    {
     "name": "stdout",
     "output_type": "stream",
     "text": [
      "\rEpisode 1614\tAverage Score: 0.0739"
     ]
    },
    {
     "name": "stdout",
     "output_type": "stream",
     "text": [
      "\rEpisode 1615\tAverage Score: 0.0739"
     ]
    },
    {
     "name": "stdout",
     "output_type": "stream",
     "text": [
      "\rEpisode 1616\tAverage Score: 0.0739\rEpisode 1617\tAverage Score: 0.0739"
     ]
    },
    {
     "name": "stdout",
     "output_type": "stream",
     "text": [
      "\rEpisode 1618\tAverage Score: 0.0730\rEpisode 1619\tAverage Score: 0.0720"
     ]
    },
    {
     "name": "stdout",
     "output_type": "stream",
     "text": [
      "\rEpisode 1620\tAverage Score: 0.0711"
     ]
    },
    {
     "name": "stdout",
     "output_type": "stream",
     "text": [
      "\rEpisode 1621\tAverage Score: 0.0710"
     ]
    },
    {
     "name": "stdout",
     "output_type": "stream",
     "text": [
      "\rEpisode 1622\tAverage Score: 0.0711"
     ]
    },
    {
     "name": "stdout",
     "output_type": "stream",
     "text": [
      "\rEpisode 1623\tAverage Score: 0.0721\rEpisode 1624\tAverage Score: 0.0711"
     ]
    },
    {
     "name": "stdout",
     "output_type": "stream",
     "text": [
      "\rEpisode 1625\tAverage Score: 0.0720"
     ]
    },
    {
     "name": "stdout",
     "output_type": "stream",
     "text": [
      "\rEpisode 1626\tAverage Score: 0.0730"
     ]
    },
    {
     "name": "stdout",
     "output_type": "stream",
     "text": [
      "\rEpisode 1627\tAverage Score: 0.0740"
     ]
    },
    {
     "name": "stdout",
     "output_type": "stream",
     "text": [
      "\rEpisode 1628\tAverage Score: 0.0741"
     ]
    },
    {
     "name": "stdout",
     "output_type": "stream",
     "text": [
      "\rEpisode 1629\tAverage Score: 0.0740\rEpisode 1630\tAverage Score: 0.0731"
     ]
    },
    {
     "name": "stdout",
     "output_type": "stream",
     "text": [
      "\rEpisode 1631\tAverage Score: 0.0721\rEpisode 1632\tAverage Score: 0.0711"
     ]
    },
    {
     "name": "stdout",
     "output_type": "stream",
     "text": [
      "\rEpisode 1633\tAverage Score: 0.0710"
     ]
    },
    {
     "name": "stdout",
     "output_type": "stream",
     "text": [
      "\rEpisode 1634\tAverage Score: 0.0710"
     ]
    },
    {
     "name": "stdout",
     "output_type": "stream",
     "text": [
      "\rEpisode 1635\tAverage Score: 0.0711"
     ]
    },
    {
     "name": "stdout",
     "output_type": "stream",
     "text": [
      "\rEpisode 1636\tAverage Score: 0.0721\rEpisode 1637\tAverage Score: 0.0721"
     ]
    },
    {
     "name": "stdout",
     "output_type": "stream",
     "text": [
      "\rEpisode 1638\tAverage Score: 0.0731"
     ]
    },
    {
     "name": "stdout",
     "output_type": "stream",
     "text": [
      "\rEpisode 1639\tAverage Score: 0.0741\rEpisode 1640\tAverage Score: 0.0731"
     ]
    },
    {
     "name": "stdout",
     "output_type": "stream",
     "text": [
      "\rEpisode 1641\tAverage Score: 0.0721\rEpisode 1642\tAverage Score: 0.0711"
     ]
    },
    {
     "name": "stdout",
     "output_type": "stream",
     "text": [
      "\rEpisode 1643\tAverage Score: 0.0721\rEpisode 1644\tAverage Score: 0.0721"
     ]
    },
    {
     "name": "stdout",
     "output_type": "stream",
     "text": [
      "\rEpisode 1645\tAverage Score: 0.0711"
     ]
    },
    {
     "name": "stdout",
     "output_type": "stream",
     "text": [
      "\rEpisode 1646\tAverage Score: 0.0730"
     ]
    },
    {
     "name": "stdout",
     "output_type": "stream",
     "text": [
      "\rEpisode 1647\tAverage Score: 0.0709"
     ]
    },
    {
     "name": "stdout",
     "output_type": "stream",
     "text": [
      "\rEpisode 1648\tAverage Score: 0.0719\rEpisode 1649\tAverage Score: 0.0699"
     ]
    },
    {
     "name": "stdout",
     "output_type": "stream",
     "text": [
      "\rEpisode 1650\tAverage Score: 0.0689"
     ]
    },
    {
     "name": "stdout",
     "output_type": "stream",
     "text": [
      "\rEpisode 1651\tAverage Score: 0.0699\rEpisode 1652\tAverage Score: 0.0689"
     ]
    },
    {
     "name": "stdout",
     "output_type": "stream",
     "text": [
      "\rEpisode 1653\tAverage Score: 0.0689\rEpisode 1654\tAverage Score: 0.0669"
     ]
    },
    {
     "name": "stdout",
     "output_type": "stream",
     "text": [
      "\rEpisode 1655\tAverage Score: 0.0659\rEpisode 1656\tAverage Score: 0.0649"
     ]
    },
    {
     "name": "stdout",
     "output_type": "stream",
     "text": [
      "\rEpisode 1657\tAverage Score: 0.0649\rEpisode 1658\tAverage Score: 0.0629"
     ]
    },
    {
     "name": "stdout",
     "output_type": "stream",
     "text": [
      "\rEpisode 1659\tAverage Score: 0.0619\rEpisode 1660\tAverage Score: 0.0589"
     ]
    },
    {
     "name": "stdout",
     "output_type": "stream",
     "text": [
      "\rEpisode 1661\tAverage Score: 0.0579"
     ]
    },
    {
     "name": "stdout",
     "output_type": "stream",
     "text": [
      "\rEpisode 1662\tAverage Score: 0.0579"
     ]
    },
    {
     "name": "stdout",
     "output_type": "stream",
     "text": [
      "\rEpisode 1663\tAverage Score: 0.0579"
     ]
    },
    {
     "name": "stdout",
     "output_type": "stream",
     "text": [
      "\rEpisode 1664\tAverage Score: 0.0579"
     ]
    },
    {
     "name": "stdout",
     "output_type": "stream",
     "text": [
      "\rEpisode 1665\tAverage Score: 0.0589\rEpisode 1666\tAverage Score: 0.0589"
     ]
    },
    {
     "name": "stdout",
     "output_type": "stream",
     "text": [
      "\rEpisode 1667\tAverage Score: 0.0589\rEpisode 1668\tAverage Score: 0.0589"
     ]
    },
    {
     "name": "stdout",
     "output_type": "stream",
     "text": [
      "\rEpisode 1669\tAverage Score: 0.0579"
     ]
    },
    {
     "name": "stdout",
     "output_type": "stream",
     "text": [
      "\rEpisode 1670\tAverage Score: 0.0589\rEpisode 1671\tAverage Score: 0.0589"
     ]
    },
    {
     "name": "stdout",
     "output_type": "stream",
     "text": [
      "\rEpisode 1672\tAverage Score: 0.0589\rEpisode 1673\tAverage Score: 0.0589"
     ]
    },
    {
     "name": "stdout",
     "output_type": "stream",
     "text": [
      "\rEpisode 1674\tAverage Score: 0.0599\rEpisode 1675\tAverage Score: 0.0599"
     ]
    },
    {
     "name": "stdout",
     "output_type": "stream",
     "text": [
      "\rEpisode 1676\tAverage Score: 0.0609\rEpisode 1677\tAverage Score: 0.0609"
     ]
    },
    {
     "name": "stdout",
     "output_type": "stream",
     "text": [
      "\rEpisode 1678\tAverage Score: 0.0609\rEpisode 1679\tAverage Score: 0.0599"
     ]
    },
    {
     "name": "stdout",
     "output_type": "stream",
     "text": [
      "\rEpisode 1680\tAverage Score: 0.0569\rEpisode 1681\tAverage Score: 0.0559"
     ]
    },
    {
     "name": "stdout",
     "output_type": "stream",
     "text": [
      "\rEpisode 1682\tAverage Score: 0.0559\rEpisode 1683\tAverage Score: 0.0539"
     ]
    },
    {
     "name": "stdout",
     "output_type": "stream",
     "text": [
      "\rEpisode 1684\tAverage Score: 0.0529\rEpisode 1685\tAverage Score: 0.0529"
     ]
    },
    {
     "name": "stdout",
     "output_type": "stream",
     "text": [
      "\rEpisode 1686\tAverage Score: 0.0519\rEpisode 1687\tAverage Score: 0.0510"
     ]
    },
    {
     "name": "stdout",
     "output_type": "stream",
     "text": [
      "\rEpisode 1688\tAverage Score: 0.0500\rEpisode 1689\tAverage Score: 0.0490"
     ]
    },
    {
     "name": "stdout",
     "output_type": "stream",
     "text": [
      "\rEpisode 1690\tAverage Score: 0.0481"
     ]
    },
    {
     "name": "stdout",
     "output_type": "stream",
     "text": [
      "\rEpisode 1691\tAverage Score: 0.0482\rEpisode 1692\tAverage Score: 0.0482"
     ]
    },
    {
     "name": "stdout",
     "output_type": "stream",
     "text": [
      "\rEpisode 1693\tAverage Score: 0.0482\rEpisode 1694\tAverage Score: 0.0472"
     ]
    },
    {
     "name": "stdout",
     "output_type": "stream",
     "text": [
      "\rEpisode 1695\tAverage Score: 0.0472"
     ]
    },
    {
     "name": "stdout",
     "output_type": "stream",
     "text": [
      "\rEpisode 1696\tAverage Score: 0.0472"
     ]
    },
    {
     "name": "stdout",
     "output_type": "stream",
     "text": [
      "\rEpisode 1697\tAverage Score: 0.0472"
     ]
    },
    {
     "name": "stdout",
     "output_type": "stream",
     "text": [
      "\rEpisode 1698\tAverage Score: 0.0482"
     ]
    },
    {
     "name": "stdout",
     "output_type": "stream",
     "text": [
      "\rEpisode 1699\tAverage Score: 0.0492\rEpisode 1700\tAverage Score: 0.0492\rEpisode 1700\tAverage Score: 0.0492\n"
     ]
    },
    {
     "name": "stdout",
     "output_type": "stream",
     "text": [
      "\rEpisode 1701\tAverage Score: 0.0502\rEpisode 1702\tAverage Score: 0.0502"
     ]
    },
    {
     "name": "stdout",
     "output_type": "stream",
     "text": [
      "\rEpisode 1703\tAverage Score: 0.0512"
     ]
    },
    {
     "name": "stdout",
     "output_type": "stream",
     "text": [
      "\rEpisode 1704\tAverage Score: 0.0512"
     ]
    },
    {
     "name": "stdout",
     "output_type": "stream",
     "text": [
      "\rEpisode 1705\tAverage Score: 0.0512\rEpisode 1706\tAverage Score: 0.0502"
     ]
    },
    {
     "name": "stdout",
     "output_type": "stream",
     "text": [
      "\rEpisode 1707\tAverage Score: 0.0492"
     ]
    },
    {
     "name": "stdout",
     "output_type": "stream",
     "text": [
      "\rEpisode 1708\tAverage Score: 0.0492"
     ]
    },
    {
     "name": "stdout",
     "output_type": "stream",
     "text": [
      "\rEpisode 1709\tAverage Score: 0.0502"
     ]
    },
    {
     "name": "stdout",
     "output_type": "stream",
     "text": [
      "\rEpisode 1710\tAverage Score: 0.0502"
     ]
    },
    {
     "name": "stdout",
     "output_type": "stream",
     "text": [
      "\rEpisode 1711\tAverage Score: 0.0512"
     ]
    },
    {
     "name": "stdout",
     "output_type": "stream",
     "text": [
      "\rEpisode 1712\tAverage Score: 0.0522"
     ]
    },
    {
     "name": "stdout",
     "output_type": "stream",
     "text": [
      "\rEpisode 1713\tAverage Score: 0.0523\rEpisode 1714\tAverage Score: 0.0514"
     ]
    },
    {
     "name": "stdout",
     "output_type": "stream",
     "text": [
      "\rEpisode 1715\tAverage Score: 0.0514\rEpisode 1716\tAverage Score: 0.0504"
     ]
    },
    {
     "name": "stdout",
     "output_type": "stream",
     "text": [
      "\rEpisode 1717\tAverage Score: 0.0513\rEpisode 1718\tAverage Score: 0.0513"
     ]
    },
    {
     "name": "stdout",
     "output_type": "stream",
     "text": [
      "\rEpisode 1719\tAverage Score: 0.0513\rEpisode 1720\tAverage Score: 0.0513"
     ]
    },
    {
     "name": "stdout",
     "output_type": "stream",
     "text": [
      "\rEpisode 1721\tAverage Score: 0.0504\rEpisode 1722\tAverage Score: 0.0494"
     ]
    },
    {
     "name": "stdout",
     "output_type": "stream",
     "text": [
      "\rEpisode 1723\tAverage Score: 0.0484"
     ]
    },
    {
     "name": "stdout",
     "output_type": "stream",
     "text": [
      "\rEpisode 1724\tAverage Score: 0.0494\rEpisode 1725\tAverage Score: 0.0485"
     ]
    },
    {
     "name": "stdout",
     "output_type": "stream",
     "text": [
      "\rEpisode 1726\tAverage Score: 0.0485"
     ]
    },
    {
     "name": "stdout",
     "output_type": "stream",
     "text": [
      "\rEpisode 1727\tAverage Score: 0.0485\rEpisode 1728\tAverage Score: 0.0475"
     ]
    },
    {
     "name": "stdout",
     "output_type": "stream",
     "text": [
      "\rEpisode 1729\tAverage Score: 0.0476"
     ]
    },
    {
     "name": "stdout",
     "output_type": "stream",
     "text": [
      "\rEpisode 1730\tAverage Score: 0.0486"
     ]
    },
    {
     "name": "stdout",
     "output_type": "stream",
     "text": [
      "\rEpisode 1731\tAverage Score: 0.0496"
     ]
    },
    {
     "name": "stdout",
     "output_type": "stream",
     "text": [
      "\rEpisode 1732\tAverage Score: 0.0506"
     ]
    },
    {
     "name": "stdout",
     "output_type": "stream",
     "text": [
      "\rEpisode 1733\tAverage Score: 0.0507\rEpisode 1734\tAverage Score: 0.0497"
     ]
    },
    {
     "name": "stdout",
     "output_type": "stream",
     "text": [
      "\rEpisode 1735\tAverage Score: 0.0487"
     ]
    },
    {
     "name": "stdout",
     "output_type": "stream",
     "text": [
      "\rEpisode 1736\tAverage Score: 0.0486"
     ]
    },
    {
     "name": "stdout",
     "output_type": "stream",
     "text": [
      "\rEpisode 1737\tAverage Score: 0.0496"
     ]
    },
    {
     "name": "stdout",
     "output_type": "stream",
     "text": [
      "\rEpisode 1738\tAverage Score: 0.0496"
     ]
    },
    {
     "name": "stdout",
     "output_type": "stream",
     "text": [
      "\rEpisode 1739\tAverage Score: 0.0495\rEpisode 1740\tAverage Score: 0.0495"
     ]
    },
    {
     "name": "stdout",
     "output_type": "stream",
     "text": [
      "\rEpisode 1741\tAverage Score: 0.0505"
     ]
    },
    {
     "name": "stdout",
     "output_type": "stream",
     "text": [
      "\rEpisode 1742\tAverage Score: 0.0514\rEpisode 1743\tAverage Score: 0.0504"
     ]
    },
    {
     "name": "stdout",
     "output_type": "stream",
     "text": [
      "\rEpisode 1744\tAverage Score: 0.0504"
     ]
    },
    {
     "name": "stdout",
     "output_type": "stream",
     "text": [
      "\rEpisode 1745\tAverage Score: 0.0514"
     ]
    },
    {
     "name": "stdout",
     "output_type": "stream",
     "text": [
      "\rEpisode 1746\tAverage Score: 0.0505\rEpisode 1747\tAverage Score: 0.0496"
     ]
    },
    {
     "name": "stdout",
     "output_type": "stream",
     "text": [
      "\rEpisode 1748\tAverage Score: 0.0496"
     ]
    },
    {
     "name": "stdout",
     "output_type": "stream",
     "text": [
      "\rEpisode 1749\tAverage Score: 0.0506"
     ]
    },
    {
     "name": "stdout",
     "output_type": "stream",
     "text": [
      "\rEpisode 1750\tAverage Score: 0.0516"
     ]
    },
    {
     "name": "stdout",
     "output_type": "stream",
     "text": [
      "\rEpisode 1751\tAverage Score: 0.0515\rEpisode 1752\tAverage Score: 0.0515"
     ]
    },
    {
     "name": "stdout",
     "output_type": "stream",
     "text": [
      "\rEpisode 1753\tAverage Score: 0.0525"
     ]
    },
    {
     "name": "stdout",
     "output_type": "stream",
     "text": [
      "\rEpisode 1754\tAverage Score: 0.0535"
     ]
    },
    {
     "name": "stdout",
     "output_type": "stream",
     "text": [
      "\rEpisode 1755\tAverage Score: 0.0545"
     ]
    },
    {
     "name": "stdout",
     "output_type": "stream",
     "text": [
      "\rEpisode 1756\tAverage Score: 0.0555"
     ]
    },
    {
     "name": "stdout",
     "output_type": "stream",
     "text": [
      "\rEpisode 1757\tAverage Score: 0.0555"
     ]
    },
    {
     "name": "stdout",
     "output_type": "stream",
     "text": [
      "\rEpisode 1758\tAverage Score: 0.0565"
     ]
    },
    {
     "name": "stdout",
     "output_type": "stream",
     "text": [
      "\rEpisode 1759\tAverage Score: 0.0575"
     ]
    },
    {
     "name": "stdout",
     "output_type": "stream",
     "text": [
      "\rEpisode 1760\tAverage Score: 0.0575\rEpisode 1761\tAverage Score: 0.0575"
     ]
    },
    {
     "name": "stdout",
     "output_type": "stream",
     "text": [
      "\rEpisode 1762\tAverage Score: 0.0575"
     ]
    },
    {
     "name": "stdout",
     "output_type": "stream",
     "text": [
      "\rEpisode 1763\tAverage Score: 0.0574\rEpisode 1764\tAverage Score: 0.0564"
     ]
    },
    {
     "name": "stdout",
     "output_type": "stream",
     "text": [
      "\rEpisode 1765\tAverage Score: 0.0554\rEpisode 1766\tAverage Score: 0.0554"
     ]
    },
    {
     "name": "stdout",
     "output_type": "stream",
     "text": [
      "\rEpisode 1767\tAverage Score: 0.0554\rEpisode 1768\tAverage Score: 0.0554"
     ]
    },
    {
     "name": "stdout",
     "output_type": "stream",
     "text": [
      "\rEpisode 1769\tAverage Score: 0.0564\rEpisode 1770\tAverage Score: 0.0554"
     ]
    },
    {
     "name": "stdout",
     "output_type": "stream",
     "text": [
      "\rEpisode 1771\tAverage Score: 0.0564"
     ]
    },
    {
     "name": "stdout",
     "output_type": "stream",
     "text": [
      "\rEpisode 1772\tAverage Score: 0.0574"
     ]
    },
    {
     "name": "stdout",
     "output_type": "stream",
     "text": [
      "\rEpisode 1773\tAverage Score: 0.0584"
     ]
    },
    {
     "name": "stdout",
     "output_type": "stream",
     "text": [
      "\rEpisode 1774\tAverage Score: 0.0584"
     ]
    },
    {
     "name": "stdout",
     "output_type": "stream",
     "text": [
      "\rEpisode 1775\tAverage Score: 0.0593"
     ]
    },
    {
     "name": "stdout",
     "output_type": "stream",
     "text": [
      "\rEpisode 1776\tAverage Score: 0.0593"
     ]
    },
    {
     "name": "stdout",
     "output_type": "stream",
     "text": [
      "\rEpisode 1777\tAverage Score: 0.0603"
     ]
    },
    {
     "name": "stdout",
     "output_type": "stream",
     "text": [
      "\rEpisode 1778\tAverage Score: 0.0603"
     ]
    },
    {
     "name": "stdout",
     "output_type": "stream",
     "text": [
      "\rEpisode 1779\tAverage Score: 0.0613"
     ]
    },
    {
     "name": "stdout",
     "output_type": "stream",
     "text": [
      "\rEpisode 1780\tAverage Score: 0.0603"
     ]
    },
    {
     "name": "stdout",
     "output_type": "stream",
     "text": [
      "\rEpisode 1781\tAverage Score: 0.0613"
     ]
    },
    {
     "name": "stdout",
     "output_type": "stream",
     "text": [
      "\rEpisode 1782\tAverage Score: 0.0613"
     ]
    },
    {
     "name": "stdout",
     "output_type": "stream",
     "text": [
      "\rEpisode 1783\tAverage Score: 0.0633"
     ]
    },
    {
     "name": "stdout",
     "output_type": "stream",
     "text": [
      "\rEpisode 1784\tAverage Score: 0.0633"
     ]
    },
    {
     "name": "stdout",
     "output_type": "stream",
     "text": [
      "\rEpisode 1785\tAverage Score: 0.0643"
     ]
    },
    {
     "name": "stdout",
     "output_type": "stream",
     "text": [
      "\rEpisode 1786\tAverage Score: 0.0652"
     ]
    },
    {
     "name": "stdout",
     "output_type": "stream",
     "text": [
      "\rEpisode 1787\tAverage Score: 0.0672"
     ]
    },
    {
     "name": "stdout",
     "output_type": "stream",
     "text": [
      "\rEpisode 1788\tAverage Score: 0.0682"
     ]
    },
    {
     "name": "stdout",
     "output_type": "stream",
     "text": [
      "\rEpisode 1789\tAverage Score: 0.0692"
     ]
    },
    {
     "name": "stdout",
     "output_type": "stream",
     "text": [
      "\rEpisode 1790\tAverage Score: 0.0702"
     ]
    },
    {
     "name": "stdout",
     "output_type": "stream",
     "text": [
      "\rEpisode 1791\tAverage Score: 0.0702\rEpisode 1792\tAverage Score: 0.0702"
     ]
    },
    {
     "name": "stdout",
     "output_type": "stream",
     "text": [
      "\rEpisode 1793\tAverage Score: 0.0702"
     ]
    },
    {
     "name": "stdout",
     "output_type": "stream",
     "text": [
      "\rEpisode 1794\tAverage Score: 0.0712"
     ]
    },
    {
     "name": "stdout",
     "output_type": "stream",
     "text": [
      "\rEpisode 1795\tAverage Score: 0.0722"
     ]
    },
    {
     "name": "stdout",
     "output_type": "stream",
     "text": [
      "\rEpisode 1796\tAverage Score: 0.0722\rEpisode 1797\tAverage Score: 0.0712"
     ]
    },
    {
     "name": "stdout",
     "output_type": "stream",
     "text": [
      "\rEpisode 1798\tAverage Score: 0.0712"
     ]
    },
    {
     "name": "stdout",
     "output_type": "stream",
     "text": [
      "\rEpisode 1799\tAverage Score: 0.0711"
     ]
    },
    {
     "name": "stdout",
     "output_type": "stream",
     "text": [
      "\rEpisode 1800\tAverage Score: 0.0720\rEpisode 1800\tAverage Score: 0.0720\n"
     ]
    },
    {
     "name": "stdout",
     "output_type": "stream",
     "text": [
      "\rEpisode 1801\tAverage Score: 0.0719"
     ]
    },
    {
     "name": "stdout",
     "output_type": "stream",
     "text": [
      "\rEpisode 1802\tAverage Score: 0.0728\rEpisode 1803\tAverage Score: 0.0718"
     ]
    },
    {
     "name": "stdout",
     "output_type": "stream",
     "text": [
      "\rEpisode 1804\tAverage Score: 0.0717\rEpisode 1805\tAverage Score: 0.0707"
     ]
    },
    {
     "name": "stdout",
     "output_type": "stream",
     "text": [
      "\rEpisode 1806\tAverage Score: 0.0717\rEpisode 1807\tAverage Score: 0.0707"
     ]
    },
    {
     "name": "stdout",
     "output_type": "stream",
     "text": [
      "\rEpisode 1808\tAverage Score: 0.0697"
     ]
    },
    {
     "name": "stdout",
     "output_type": "stream",
     "text": [
      "\rEpisode 1809\tAverage Score: 0.0697"
     ]
    },
    {
     "name": "stdout",
     "output_type": "stream",
     "text": [
      "\rEpisode 1810\tAverage Score: 0.0697\rEpisode 1811\tAverage Score: 0.0687"
     ]
    },
    {
     "name": "stdout",
     "output_type": "stream",
     "text": [
      "\rEpisode 1812\tAverage Score: 0.0707\rEpisode 1813\tAverage Score: 0.0697"
     ]
    },
    {
     "name": "stdout",
     "output_type": "stream",
     "text": [
      "\rEpisode 1814\tAverage Score: 0.0697"
     ]
    },
    {
     "name": "stdout",
     "output_type": "stream",
     "text": [
      "\rEpisode 1815\tAverage Score: 0.0697"
     ]
    },
    {
     "name": "stdout",
     "output_type": "stream",
     "text": [
      "\rEpisode 1816\tAverage Score: 0.0707"
     ]
    },
    {
     "name": "stdout",
     "output_type": "stream",
     "text": [
      "\rEpisode 1817\tAverage Score: 0.0708"
     ]
    },
    {
     "name": "stdout",
     "output_type": "stream",
     "text": [
      "\rEpisode 1818\tAverage Score: 0.0718\rEpisode 1819\tAverage Score: 0.0718"
     ]
    },
    {
     "name": "stdout",
     "output_type": "stream",
     "text": [
      "\rEpisode 1820\tAverage Score: 0.0718"
     ]
    },
    {
     "name": "stdout",
     "output_type": "stream",
     "text": [
      "\rEpisode 1821\tAverage Score: 0.0728\rEpisode 1822\tAverage Score: 0.0728"
     ]
    },
    {
     "name": "stdout",
     "output_type": "stream",
     "text": [
      "\rEpisode 1823\tAverage Score: 0.0738"
     ]
    },
    {
     "name": "stdout",
     "output_type": "stream",
     "text": [
      "\rEpisode 1824\tAverage Score: 0.0748\rEpisode 1825\tAverage Score: 0.0748"
     ]
    },
    {
     "name": "stdout",
     "output_type": "stream",
     "text": [
      "\rEpisode 1826\tAverage Score: 0.0748"
     ]
    },
    {
     "name": "stdout",
     "output_type": "stream",
     "text": [
      "\rEpisode 1827\tAverage Score: 0.0748\rEpisode 1828\tAverage Score: 0.0748"
     ]
    },
    {
     "name": "stdout",
     "output_type": "stream",
     "text": [
      "\rEpisode 1829\tAverage Score: 0.0748\rEpisode 1830\tAverage Score: 0.0738"
     ]
    },
    {
     "name": "stdout",
     "output_type": "stream",
     "text": [
      "\rEpisode 1831\tAverage Score: 0.0738"
     ]
    },
    {
     "name": "stdout",
     "output_type": "stream",
     "text": [
      "\rEpisode 1832\tAverage Score: 0.0738"
     ]
    },
    {
     "name": "stdout",
     "output_type": "stream",
     "text": [
      "\rEpisode 1833\tAverage Score: 0.0738"
     ]
    },
    {
     "name": "stdout",
     "output_type": "stream",
     "text": [
      "\rEpisode 1834\tAverage Score: 0.0748"
     ]
    },
    {
     "name": "stdout",
     "output_type": "stream",
     "text": [
      "\rEpisode 1835\tAverage Score: 0.0748\rEpisode 1836\tAverage Score: 0.0739"
     ]
    },
    {
     "name": "stdout",
     "output_type": "stream",
     "text": [
      "\rEpisode 1837\tAverage Score: 0.0739\rEpisode 1838\tAverage Score: 0.0729"
     ]
    },
    {
     "name": "stdout",
     "output_type": "stream",
     "text": [
      "\rEpisode 1839\tAverage Score: 0.0720"
     ]
    },
    {
     "name": "stdout",
     "output_type": "stream",
     "text": [
      "\rEpisode 1840\tAverage Score: 0.0720\rEpisode 1841\tAverage Score: 0.0710"
     ]
    },
    {
     "name": "stdout",
     "output_type": "stream",
     "text": [
      "\rEpisode 1842\tAverage Score: 0.0711\rEpisode 1843\tAverage Score: 0.0711"
     ]
    },
    {
     "name": "stdout",
     "output_type": "stream",
     "text": [
      "\rEpisode 1844\tAverage Score: 0.0711"
     ]
    },
    {
     "name": "stdout",
     "output_type": "stream",
     "text": [
      "\rEpisode 1845\tAverage Score: 0.0721"
     ]
    },
    {
     "name": "stdout",
     "output_type": "stream",
     "text": [
      "\rEpisode 1846\tAverage Score: 0.0721"
     ]
    },
    {
     "name": "stdout",
     "output_type": "stream",
     "text": [
      "\rEpisode 1847\tAverage Score: 0.0731"
     ]
    },
    {
     "name": "stdout",
     "output_type": "stream",
     "text": [
      "\rEpisode 1848\tAverage Score: 0.0731"
     ]
    },
    {
     "name": "stdout",
     "output_type": "stream",
     "text": [
      "\rEpisode 1849\tAverage Score: 0.0731\rEpisode 1850\tAverage Score: 0.0721"
     ]
    },
    {
     "name": "stdout",
     "output_type": "stream",
     "text": [
      "\rEpisode 1851\tAverage Score: 0.0712\rEpisode 1852\tAverage Score: 0.0712"
     ]
    },
    {
     "name": "stdout",
     "output_type": "stream",
     "text": [
      "\rEpisode 1853\tAverage Score: 0.0712\rEpisode 1854\tAverage Score: 0.0702"
     ]
    },
    {
     "name": "stdout",
     "output_type": "stream",
     "text": [
      "\rEpisode 1855\tAverage Score: 0.0702"
     ]
    },
    {
     "name": "stdout",
     "output_type": "stream",
     "text": [
      "\rEpisode 1856\tAverage Score: 0.0702"
     ]
    },
    {
     "name": "stdout",
     "output_type": "stream",
     "text": [
      "\rEpisode 1857\tAverage Score: 0.0701\rEpisode 1858\tAverage Score: 0.0691"
     ]
    },
    {
     "name": "stdout",
     "output_type": "stream",
     "text": [
      "\rEpisode 1859\tAverage Score: 0.0691\rEpisode 1860\tAverage Score: 0.0691"
     ]
    },
    {
     "name": "stdout",
     "output_type": "stream",
     "text": [
      "\rEpisode 1861\tAverage Score: 0.0691"
     ]
    },
    {
     "name": "stdout",
     "output_type": "stream",
     "text": [
      "\rEpisode 1862\tAverage Score: 0.0691"
     ]
    },
    {
     "name": "stdout",
     "output_type": "stream",
     "text": [
      "\rEpisode 1863\tAverage Score: 0.0691"
     ]
    },
    {
     "name": "stdout",
     "output_type": "stream",
     "text": [
      "\rEpisode 1864\tAverage Score: 0.0701"
     ]
    },
    {
     "name": "stdout",
     "output_type": "stream",
     "text": [
      "\rEpisode 1865\tAverage Score: 0.0711"
     ]
    },
    {
     "name": "stdout",
     "output_type": "stream",
     "text": [
      "\rEpisode 1866\tAverage Score: 0.0721"
     ]
    },
    {
     "name": "stdout",
     "output_type": "stream",
     "text": [
      "\rEpisode 1867\tAverage Score: 0.0731"
     ]
    },
    {
     "name": "stdout",
     "output_type": "stream",
     "text": [
      "\rEpisode 1868\tAverage Score: 0.0740\rEpisode 1869\tAverage Score: 0.0730"
     ]
    },
    {
     "name": "stdout",
     "output_type": "stream",
     "text": [
      "\rEpisode 1870\tAverage Score: 0.0730\rEpisode 1871\tAverage Score: 0.0720"
     ]
    },
    {
     "name": "stdout",
     "output_type": "stream",
     "text": [
      "\rEpisode 1872\tAverage Score: 0.0720\rEpisode 1873\tAverage Score: 0.0710"
     ]
    },
    {
     "name": "stdout",
     "output_type": "stream",
     "text": [
      "\rEpisode 1874\tAverage Score: 0.0710\rEpisode 1875\tAverage Score: 0.0701"
     ]
    },
    {
     "name": "stdout",
     "output_type": "stream",
     "text": [
      "\rEpisode 1876\tAverage Score: 0.0691"
     ]
    },
    {
     "name": "stdout",
     "output_type": "stream",
     "text": [
      "\rEpisode 1877\tAverage Score: 0.0691"
     ]
    },
    {
     "name": "stdout",
     "output_type": "stream",
     "text": [
      "\rEpisode 1878\tAverage Score: 0.0701"
     ]
    },
    {
     "name": "stdout",
     "output_type": "stream",
     "text": [
      "\rEpisode 1879\tAverage Score: 0.0701\rEpisode 1880\tAverage Score: 0.0701"
     ]
    },
    {
     "name": "stdout",
     "output_type": "stream",
     "text": [
      "\rEpisode 1881\tAverage Score: 0.0701"
     ]
    },
    {
     "name": "stdout",
     "output_type": "stream",
     "text": [
      "\rEpisode 1882\tAverage Score: 0.0701\rEpisode 1883\tAverage Score: 0.0681"
     ]
    },
    {
     "name": "stdout",
     "output_type": "stream",
     "text": [
      "\rEpisode 1884\tAverage Score: 0.0681"
     ]
    },
    {
     "name": "stdout",
     "output_type": "stream",
     "text": [
      "\rEpisode 1885\tAverage Score: 0.0681"
     ]
    },
    {
     "name": "stdout",
     "output_type": "stream",
     "text": [
      "\rEpisode 1886\tAverage Score: 0.0682"
     ]
    },
    {
     "name": "stdout",
     "output_type": "stream",
     "text": [
      "\rEpisode 1887\tAverage Score: 0.0672"
     ]
    },
    {
     "name": "stdout",
     "output_type": "stream",
     "text": [
      "\rEpisode 1888\tAverage Score: 0.0672"
     ]
    },
    {
     "name": "stdout",
     "output_type": "stream",
     "text": [
      "\rEpisode 1889\tAverage Score: 0.0702"
     ]
    },
    {
     "name": "stdout",
     "output_type": "stream",
     "text": [
      "\rEpisode 1890\tAverage Score: 0.0702"
     ]
    },
    {
     "name": "stdout",
     "output_type": "stream",
     "text": [
      "\rEpisode 1891\tAverage Score: 0.0702"
     ]
    },
    {
     "name": "stdout",
     "output_type": "stream",
     "text": [
      "\rEpisode 1892\tAverage Score: 0.0712"
     ]
    },
    {
     "name": "stdout",
     "output_type": "stream",
     "text": [
      "\rEpisode 1893\tAverage Score: 0.0722\rEpisode 1894\tAverage Score: 0.0712"
     ]
    },
    {
     "name": "stdout",
     "output_type": "stream",
     "text": [
      "\rEpisode 1895\tAverage Score: 0.0712"
     ]
    },
    {
     "name": "stdout",
     "output_type": "stream",
     "text": [
      "\rEpisode 1896\tAverage Score: 0.0712"
     ]
    },
    {
     "name": "stdout",
     "output_type": "stream",
     "text": [
      "\rEpisode 1897\tAverage Score: 0.0722"
     ]
    },
    {
     "name": "stdout",
     "output_type": "stream",
     "text": [
      "\rEpisode 1898\tAverage Score: 0.0722"
     ]
    },
    {
     "name": "stdout",
     "output_type": "stream",
     "text": [
      "\rEpisode 1899\tAverage Score: 0.0723"
     ]
    },
    {
     "name": "stdout",
     "output_type": "stream",
     "text": [
      "\rEpisode 1900\tAverage Score: 0.0724\rEpisode 1900\tAverage Score: 0.0724\n"
     ]
    },
    {
     "name": "stdout",
     "output_type": "stream",
     "text": [
      "\rEpisode 1901\tAverage Score: 0.0725"
     ]
    },
    {
     "name": "stdout",
     "output_type": "stream",
     "text": [
      "\rEpisode 1902\tAverage Score: 0.0725"
     ]
    },
    {
     "name": "stdout",
     "output_type": "stream",
     "text": [
      "\rEpisode 1903\tAverage Score: 0.0744"
     ]
    },
    {
     "name": "stdout",
     "output_type": "stream",
     "text": [
      "\rEpisode 1904\tAverage Score: 0.0745"
     ]
    },
    {
     "name": "stdout",
     "output_type": "stream",
     "text": [
      "\rEpisode 1905\tAverage Score: 0.0755"
     ]
    },
    {
     "name": "stdout",
     "output_type": "stream",
     "text": [
      "\rEpisode 1906\tAverage Score: 0.0755"
     ]
    },
    {
     "name": "stdout",
     "output_type": "stream",
     "text": [
      "\rEpisode 1907\tAverage Score: 0.0765"
     ]
    },
    {
     "name": "stdout",
     "output_type": "stream",
     "text": [
      "\rEpisode 1908\tAverage Score: 0.0795"
     ]
    },
    {
     "name": "stdout",
     "output_type": "stream",
     "text": [
      "\rEpisode 1909\tAverage Score: 0.0794"
     ]
    },
    {
     "name": "stdout",
     "output_type": "stream",
     "text": [
      "\rEpisode 1910\tAverage Score: 0.0794"
     ]
    },
    {
     "name": "stdout",
     "output_type": "stream",
     "text": [
      "\rEpisode 1911\tAverage Score: 0.0804"
     ]
    },
    {
     "name": "stdout",
     "output_type": "stream",
     "text": [
      "\rEpisode 1912\tAverage Score: 0.0814"
     ]
    },
    {
     "name": "stdout",
     "output_type": "stream",
     "text": [
      "\rEpisode 1913\tAverage Score: 0.0824"
     ]
    },
    {
     "name": "stdout",
     "output_type": "stream",
     "text": [
      "\rEpisode 1914\tAverage Score: 0.0834"
     ]
    },
    {
     "name": "stdout",
     "output_type": "stream",
     "text": [
      "\rEpisode 1915\tAverage Score: 0.0834"
     ]
    },
    {
     "name": "stdout",
     "output_type": "stream",
     "text": [
      "\rEpisode 1916\tAverage Score: 0.0834"
     ]
    },
    {
     "name": "stdout",
     "output_type": "stream",
     "text": [
      "\rEpisode 1917\tAverage Score: 0.0833"
     ]
    },
    {
     "name": "stdout",
     "output_type": "stream",
     "text": [
      "\rEpisode 1918\tAverage Score: 0.0843"
     ]
    },
    {
     "name": "stdout",
     "output_type": "stream",
     "text": [
      "\rEpisode 1919\tAverage Score: 0.0853\rEpisode 1920\tAverage Score: 0.0853"
     ]
    },
    {
     "name": "stdout",
     "output_type": "stream",
     "text": [
      "\rEpisode 1921\tAverage Score: 0.0853"
     ]
    },
    {
     "name": "stdout",
     "output_type": "stream",
     "text": [
      "\rEpisode 1922\tAverage Score: 0.0863"
     ]
    },
    {
     "name": "stdout",
     "output_type": "stream",
     "text": [
      "\rEpisode 1923\tAverage Score: 0.0863"
     ]
    },
    {
     "name": "stdout",
     "output_type": "stream",
     "text": [
      "\rEpisode 1924\tAverage Score: 0.0853"
     ]
    },
    {
     "name": "stdout",
     "output_type": "stream",
     "text": [
      "\rEpisode 1925\tAverage Score: 0.0863"
     ]
    },
    {
     "name": "stdout",
     "output_type": "stream",
     "text": [
      "\rEpisode 1926\tAverage Score: 0.0863"
     ]
    },
    {
     "name": "stdout",
     "output_type": "stream",
     "text": [
      "\rEpisode 1927\tAverage Score: 0.0883"
     ]
    },
    {
     "name": "stdout",
     "output_type": "stream",
     "text": [
      "\rEpisode 1928\tAverage Score: 0.0893"
     ]
    },
    {
     "name": "stdout",
     "output_type": "stream",
     "text": [
      "\rEpisode 1929\tAverage Score: 0.0902"
     ]
    },
    {
     "name": "stdout",
     "output_type": "stream",
     "text": [
      "\rEpisode 1930\tAverage Score: 0.0912"
     ]
    },
    {
     "name": "stdout",
     "output_type": "stream",
     "text": [
      "\rEpisode 1931\tAverage Score: 0.0912"
     ]
    },
    {
     "name": "stdout",
     "output_type": "stream",
     "text": [
      "\rEpisode 1932\tAverage Score: 0.0912"
     ]
    },
    {
     "name": "stdout",
     "output_type": "stream",
     "text": [
      "\rEpisode 1933\tAverage Score: 0.0922"
     ]
    },
    {
     "name": "stdout",
     "output_type": "stream",
     "text": [
      "\rEpisode 1934\tAverage Score: 0.0932"
     ]
    },
    {
     "name": "stdout",
     "output_type": "stream",
     "text": [
      "\rEpisode 1935\tAverage Score: 0.0932"
     ]
    },
    {
     "name": "stdout",
     "output_type": "stream",
     "text": [
      "\rEpisode 1936\tAverage Score: 0.0942\rEpisode 1937\tAverage Score: 0.0932"
     ]
    },
    {
     "name": "stdout",
     "output_type": "stream",
     "text": [
      "\rEpisode 1938\tAverage Score: 0.0932"
     ]
    },
    {
     "name": "stdout",
     "output_type": "stream",
     "text": [
      "\rEpisode 1939\tAverage Score: 0.0942"
     ]
    },
    {
     "name": "stdout",
     "output_type": "stream",
     "text": [
      "\rEpisode 1940\tAverage Score: 0.0952"
     ]
    },
    {
     "name": "stdout",
     "output_type": "stream",
     "text": [
      "\rEpisode 1941\tAverage Score: 0.0962"
     ]
    },
    {
     "name": "stdout",
     "output_type": "stream",
     "text": [
      "\rEpisode 1942\tAverage Score: 0.0962"
     ]
    },
    {
     "name": "stdout",
     "output_type": "stream",
     "text": [
      "\rEpisode 1943\tAverage Score: 0.0972"
     ]
    },
    {
     "name": "stdout",
     "output_type": "stream",
     "text": [
      "\rEpisode 1944\tAverage Score: 0.0981"
     ]
    },
    {
     "name": "stdout",
     "output_type": "stream",
     "text": [
      "\rEpisode 1945\tAverage Score: 0.0971"
     ]
    },
    {
     "name": "stdout",
     "output_type": "stream",
     "text": [
      "\rEpisode 1946\tAverage Score: 0.0981\rEpisode 1947\tAverage Score: 0.0971"
     ]
    },
    {
     "name": "stdout",
     "output_type": "stream",
     "text": [
      "\rEpisode 1948\tAverage Score: 0.0971"
     ]
    },
    {
     "name": "stdout",
     "output_type": "stream",
     "text": [
      "\rEpisode 1949\tAverage Score: 0.0971\rEpisode 1950\tAverage Score: 0.0971"
     ]
    },
    {
     "name": "stdout",
     "output_type": "stream",
     "text": [
      "\rEpisode 1951\tAverage Score: 0.0981"
     ]
    },
    {
     "name": "stdout",
     "output_type": "stream",
     "text": [
      "\rEpisode 1952\tAverage Score: 0.0990"
     ]
    },
    {
     "name": "stdout",
     "output_type": "stream",
     "text": [
      "\rEpisode 1953\tAverage Score: 0.0990"
     ]
    },
    {
     "name": "stdout",
     "output_type": "stream",
     "text": [
      "\rEpisode 1954\tAverage Score: 0.0999"
     ]
    },
    {
     "name": "stdout",
     "output_type": "stream",
     "text": [
      "\rEpisode 1955\tAverage Score: 0.0999"
     ]
    },
    {
     "name": "stdout",
     "output_type": "stream",
     "text": [
      "\rEpisode 1956\tAverage Score: 0.0998"
     ]
    },
    {
     "name": "stdout",
     "output_type": "stream",
     "text": [
      "\rEpisode 1957\tAverage Score: 0.0999\rEpisode 1958\tAverage Score: 0.0999"
     ]
    },
    {
     "name": "stdout",
     "output_type": "stream",
     "text": [
      "\rEpisode 1959\tAverage Score: 0.0999"
     ]
    },
    {
     "name": "stdout",
     "output_type": "stream",
     "text": [
      "\rEpisode 1960\tAverage Score: 0.1009"
     ]
    },
    {
     "name": "stdout",
     "output_type": "stream",
     "text": [
      "\rEpisode 1961\tAverage Score: 0.1018"
     ]
    },
    {
     "name": "stdout",
     "output_type": "stream",
     "text": [
      "\rEpisode 1962\tAverage Score: 0.1018"
     ]
    },
    {
     "name": "stdout",
     "output_type": "stream",
     "text": [
      "\rEpisode 1963\tAverage Score: 0.1019"
     ]
    },
    {
     "name": "stdout",
     "output_type": "stream",
     "text": [
      "\rEpisode 1964\tAverage Score: 0.1019"
     ]
    },
    {
     "name": "stdout",
     "output_type": "stream",
     "text": [
      "\rEpisode 1965\tAverage Score: 0.1019"
     ]
    },
    {
     "name": "stdout",
     "output_type": "stream",
     "text": [
      "\rEpisode 1966\tAverage Score: 0.1019"
     ]
    },
    {
     "name": "stdout",
     "output_type": "stream",
     "text": [
      "\rEpisode 1967\tAverage Score: 0.1008"
     ]
    },
    {
     "name": "stdout",
     "output_type": "stream",
     "text": [
      "\rEpisode 1968\tAverage Score: 0.1009"
     ]
    },
    {
     "name": "stdout",
     "output_type": "stream",
     "text": [
      "\rEpisode 1969\tAverage Score: 0.1018"
     ]
    },
    {
     "name": "stdout",
     "output_type": "stream",
     "text": [
      "\rEpisode 1970\tAverage Score: 0.1028"
     ]
    },
    {
     "name": "stdout",
     "output_type": "stream",
     "text": [
      "\rEpisode 1971\tAverage Score: 0.1038"
     ]
    },
    {
     "name": "stdout",
     "output_type": "stream",
     "text": [
      "\rEpisode 1972\tAverage Score: 0.1048"
     ]
    },
    {
     "name": "stdout",
     "output_type": "stream",
     "text": [
      "\rEpisode 1973\tAverage Score: 0.1058"
     ]
    },
    {
     "name": "stdout",
     "output_type": "stream",
     "text": [
      "\rEpisode 1974\tAverage Score: 0.1058"
     ]
    },
    {
     "name": "stdout",
     "output_type": "stream",
     "text": [
      "\rEpisode 1975\tAverage Score: 0.1068"
     ]
    },
    {
     "name": "stdout",
     "output_type": "stream",
     "text": [
      "\rEpisode 1976\tAverage Score: 0.1078"
     ]
    },
    {
     "name": "stdout",
     "output_type": "stream",
     "text": [
      "\rEpisode 1977\tAverage Score: 0.1077"
     ]
    },
    {
     "name": "stdout",
     "output_type": "stream",
     "text": [
      "\rEpisode 1978\tAverage Score: 0.1077"
     ]
    },
    {
     "name": "stdout",
     "output_type": "stream",
     "text": [
      "\rEpisode 1979\tAverage Score: 0.1077"
     ]
    },
    {
     "name": "stdout",
     "output_type": "stream",
     "text": [
      "\rEpisode 1980\tAverage Score: 0.1097"
     ]
    },
    {
     "name": "stdout",
     "output_type": "stream",
     "text": [
      "\rEpisode 1981\tAverage Score: 0.1097"
     ]
    },
    {
     "name": "stdout",
     "output_type": "stream",
     "text": [
      "\rEpisode 1982\tAverage Score: 0.1107"
     ]
    },
    {
     "name": "stdout",
     "output_type": "stream",
     "text": [
      "\rEpisode 1983\tAverage Score: 0.1117\rEpisode 1984\tAverage Score: 0.1107"
     ]
    },
    {
     "name": "stdout",
     "output_type": "stream",
     "text": [
      "\rEpisode 1985\tAverage Score: 0.1097"
     ]
    },
    {
     "name": "stdout",
     "output_type": "stream",
     "text": [
      "\rEpisode 1986\tAverage Score: 0.1097"
     ]
    },
    {
     "name": "stdout",
     "output_type": "stream",
     "text": [
      "\rEpisode 1987\tAverage Score: 0.1107"
     ]
    },
    {
     "name": "stdout",
     "output_type": "stream",
     "text": [
      "\rEpisode 1988\tAverage Score: 0.1107"
     ]
    },
    {
     "name": "stdout",
     "output_type": "stream",
     "text": [
      "\rEpisode 1989\tAverage Score: 0.1077\rEpisode 1990\tAverage Score: 0.1067"
     ]
    },
    {
     "name": "stdout",
     "output_type": "stream",
     "text": [
      "\rEpisode 1991\tAverage Score: 0.1067\rEpisode 1992\tAverage Score: 0.1057"
     ]
    },
    {
     "name": "stdout",
     "output_type": "stream",
     "text": [
      "\rEpisode 1993\tAverage Score: 0.1057"
     ]
    },
    {
     "name": "stdout",
     "output_type": "stream",
     "text": [
      "\rEpisode 1994\tAverage Score: 0.1067"
     ]
    },
    {
     "name": "stdout",
     "output_type": "stream",
     "text": [
      "\rEpisode 1995\tAverage Score: 0.1087"
     ]
    },
    {
     "name": "stdout",
     "output_type": "stream",
     "text": [
      "\rEpisode 1996\tAverage Score: 0.1097"
     ]
    },
    {
     "name": "stdout",
     "output_type": "stream",
     "text": [
      "\rEpisode 1997\tAverage Score: 0.1107"
     ]
    },
    {
     "name": "stdout",
     "output_type": "stream",
     "text": [
      "\rEpisode 1998\tAverage Score: 0.1117"
     ]
    },
    {
     "name": "stdout",
     "output_type": "stream",
     "text": [
      "\rEpisode 1999\tAverage Score: 0.1117"
     ]
    },
    {
     "name": "stdout",
     "output_type": "stream",
     "text": [
      "\rEpisode 2000\tAverage Score: 0.1117\rEpisode 2000\tAverage Score: 0.1117\n"
     ]
    },
    {
     "name": "stdout",
     "output_type": "stream",
     "text": [
      "\rEpisode 2001\tAverage Score: 0.1127"
     ]
    },
    {
     "name": "stdout",
     "output_type": "stream",
     "text": [
      "\rEpisode 2002\tAverage Score: 0.1128"
     ]
    },
    {
     "name": "stdout",
     "output_type": "stream",
     "text": [
      "\rEpisode 2003\tAverage Score: 0.1129"
     ]
    },
    {
     "name": "stdout",
     "output_type": "stream",
     "text": [
      "\rEpisode 2004\tAverage Score: 0.1129"
     ]
    },
    {
     "name": "stdout",
     "output_type": "stream",
     "text": [
      "\rEpisode 2005\tAverage Score: 0.1129"
     ]
    },
    {
     "name": "stdout",
     "output_type": "stream",
     "text": [
      "\rEpisode 2006\tAverage Score: 0.1129"
     ]
    },
    {
     "name": "stdout",
     "output_type": "stream",
     "text": [
      "\rEpisode 2007\tAverage Score: 0.1149"
     ]
    },
    {
     "name": "stdout",
     "output_type": "stream",
     "text": [
      "\rEpisode 2008\tAverage Score: 0.1129"
     ]
    },
    {
     "name": "stdout",
     "output_type": "stream",
     "text": [
      "\rEpisode 2009\tAverage Score: 0.1130"
     ]
    },
    {
     "name": "stdout",
     "output_type": "stream",
     "text": [
      "\rEpisode 2010\tAverage Score: 0.1129"
     ]
    },
    {
     "name": "stdout",
     "output_type": "stream",
     "text": [
      "\rEpisode 2011\tAverage Score: 0.1129"
     ]
    },
    {
     "name": "stdout",
     "output_type": "stream",
     "text": [
      "\rEpisode 2012\tAverage Score: 0.1099"
     ]
    },
    {
     "name": "stdout",
     "output_type": "stream",
     "text": [
      "\rEpisode 2013\tAverage Score: 0.1099\rEpisode 2014\tAverage Score: 0.1089"
     ]
    },
    {
     "name": "stdout",
     "output_type": "stream",
     "text": [
      "\rEpisode 2015\tAverage Score: 0.1089"
     ]
    },
    {
     "name": "stdout",
     "output_type": "stream",
     "text": [
      "\rEpisode 2016\tAverage Score: 0.1089"
     ]
    },
    {
     "name": "stdout",
     "output_type": "stream",
     "text": [
      "\rEpisode 2017\tAverage Score: 0.1110"
     ]
    },
    {
     "name": "stdout",
     "output_type": "stream",
     "text": [
      "\rEpisode 2018\tAverage Score: 0.1100"
     ]
    },
    {
     "name": "stdout",
     "output_type": "stream",
     "text": [
      "\rEpisode 2019\tAverage Score: 0.1110"
     ]
    },
    {
     "name": "stdout",
     "output_type": "stream",
     "text": [
      "\rEpisode 2020\tAverage Score: 0.1130"
     ]
    },
    {
     "name": "stdout",
     "output_type": "stream",
     "text": [
      "\rEpisode 2021\tAverage Score: 0.1130"
     ]
    },
    {
     "name": "stdout",
     "output_type": "stream",
     "text": [
      "\rEpisode 2022\tAverage Score: 0.1140"
     ]
    },
    {
     "name": "stdout",
     "output_type": "stream",
     "text": [
      "\rEpisode 2023\tAverage Score: 0.1180"
     ]
    },
    {
     "name": "stdout",
     "output_type": "stream",
     "text": [
      "\rEpisode 2024\tAverage Score: 0.1180\rEpisode 2025\tAverage Score: 0.1170"
     ]
    },
    {
     "name": "stdout",
     "output_type": "stream",
     "text": [
      "\rEpisode 2026\tAverage Score: 0.1160"
     ]
    },
    {
     "name": "stdout",
     "output_type": "stream",
     "text": [
      "\rEpisode 2027\tAverage Score: 0.1140\rEpisode 2028\tAverage Score: 0.1130"
     ]
    },
    {
     "name": "stdout",
     "output_type": "stream",
     "text": [
      "\rEpisode 2029\tAverage Score: 0.1111"
     ]
    },
    {
     "name": "stdout",
     "output_type": "stream",
     "text": [
      "\rEpisode 2030\tAverage Score: 0.1131"
     ]
    },
    {
     "name": "stdout",
     "output_type": "stream",
     "text": [
      "\rEpisode 2031\tAverage Score: 0.1141"
     ]
    },
    {
     "name": "stdout",
     "output_type": "stream",
     "text": [
      "\rEpisode 2032\tAverage Score: 0.1141"
     ]
    },
    {
     "name": "stdout",
     "output_type": "stream",
     "text": [
      "\rEpisode 2033\tAverage Score: 0.1141"
     ]
    },
    {
     "name": "stdout",
     "output_type": "stream",
     "text": [
      "\rEpisode 2034\tAverage Score: 0.1151"
     ]
    },
    {
     "name": "stdout",
     "output_type": "stream",
     "text": [
      "\rEpisode 2035\tAverage Score: 0.1141"
     ]
    },
    {
     "name": "stdout",
     "output_type": "stream",
     "text": [
      "\rEpisode 2036\tAverage Score: 0.1151"
     ]
    },
    {
     "name": "stdout",
     "output_type": "stream",
     "text": [
      "\rEpisode 2037\tAverage Score: 0.1161"
     ]
    },
    {
     "name": "stdout",
     "output_type": "stream",
     "text": [
      "\rEpisode 2038\tAverage Score: 0.1171"
     ]
    },
    {
     "name": "stdout",
     "output_type": "stream",
     "text": [
      "\rEpisode 2039\tAverage Score: 0.1171\rEpisode 2040\tAverage Score: 0.1161"
     ]
    },
    {
     "name": "stdout",
     "output_type": "stream",
     "text": [
      "\rEpisode 2041\tAverage Score: 0.1160"
     ]
    },
    {
     "name": "stdout",
     "output_type": "stream",
     "text": [
      "\rEpisode 2042\tAverage Score: 0.1160"
     ]
    },
    {
     "name": "stdout",
     "output_type": "stream",
     "text": [
      "\rEpisode 2043\tAverage Score: 0.1170"
     ]
    },
    {
     "name": "stdout",
     "output_type": "stream",
     "text": [
      "\rEpisode 2044\tAverage Score: 0.1171"
     ]
    },
    {
     "name": "stdout",
     "output_type": "stream",
     "text": [
      "\rEpisode 2045\tAverage Score: 0.1171"
     ]
    },
    {
     "name": "stdout",
     "output_type": "stream",
     "text": [
      "\rEpisode 2046\tAverage Score: 0.1171"
     ]
    },
    {
     "name": "stdout",
     "output_type": "stream",
     "text": [
      "\rEpisode 2047\tAverage Score: 0.1190"
     ]
    },
    {
     "name": "stdout",
     "output_type": "stream",
     "text": [
      "\rEpisode 2048\tAverage Score: 0.1190"
     ]
    },
    {
     "name": "stdout",
     "output_type": "stream",
     "text": [
      "\rEpisode 2049\tAverage Score: 0.1190"
     ]
    },
    {
     "name": "stdout",
     "output_type": "stream",
     "text": [
      "\rEpisode 2050\tAverage Score: 0.1200"
     ]
    },
    {
     "name": "stdout",
     "output_type": "stream",
     "text": [
      "\rEpisode 2051\tAverage Score: 0.1210"
     ]
    },
    {
     "name": "stdout",
     "output_type": "stream",
     "text": [
      "\rEpisode 2052\tAverage Score: 0.1211"
     ]
    },
    {
     "name": "stdout",
     "output_type": "stream",
     "text": [
      "\rEpisode 2053\tAverage Score: 0.1211"
     ]
    },
    {
     "name": "stdout",
     "output_type": "stream",
     "text": [
      "\rEpisode 2054\tAverage Score: 0.1232"
     ]
    },
    {
     "name": "stdout",
     "output_type": "stream",
     "text": [
      "\rEpisode 2055\tAverage Score: 0.1242"
     ]
    },
    {
     "name": "stdout",
     "output_type": "stream",
     "text": [
      "\rEpisode 2056\tAverage Score: 0.1243"
     ]
    },
    {
     "name": "stdout",
     "output_type": "stream",
     "text": [
      "\rEpisode 2057\tAverage Score: 0.1243"
     ]
    },
    {
     "name": "stdout",
     "output_type": "stream",
     "text": [
      "\rEpisode 2058\tAverage Score: 0.1263"
     ]
    },
    {
     "name": "stdout",
     "output_type": "stream",
     "text": [
      "\rEpisode 2059\tAverage Score: 0.1263"
     ]
    },
    {
     "name": "stdout",
     "output_type": "stream",
     "text": [
      "\rEpisode 2060\tAverage Score: 0.1263"
     ]
    },
    {
     "name": "stdout",
     "output_type": "stream",
     "text": [
      "\rEpisode 2061\tAverage Score: 0.1274"
     ]
    },
    {
     "name": "stdout",
     "output_type": "stream",
     "text": [
      "\rEpisode 2062\tAverage Score: 0.1284"
     ]
    },
    {
     "name": "stdout",
     "output_type": "stream",
     "text": [
      "\rEpisode 2063\tAverage Score: 0.1284"
     ]
    },
    {
     "name": "stdout",
     "output_type": "stream",
     "text": [
      "\rEpisode 2064\tAverage Score: 0.1284"
     ]
    },
    {
     "name": "stdout",
     "output_type": "stream",
     "text": [
      "\rEpisode 2065\tAverage Score: 0.1284"
     ]
    },
    {
     "name": "stdout",
     "output_type": "stream",
     "text": [
      "\rEpisode 2066\tAverage Score: 0.1294"
     ]
    },
    {
     "name": "stdout",
     "output_type": "stream",
     "text": [
      "\rEpisode 2067\tAverage Score: 0.1305"
     ]
    },
    {
     "name": "stdout",
     "output_type": "stream",
     "text": [
      "\rEpisode 2068\tAverage Score: 0.1305"
     ]
    },
    {
     "name": "stdout",
     "output_type": "stream",
     "text": [
      "\rEpisode 2069\tAverage Score: 0.1316"
     ]
    },
    {
     "name": "stdout",
     "output_type": "stream",
     "text": [
      "\rEpisode 2070\tAverage Score: 0.1316"
     ]
    },
    {
     "name": "stdout",
     "output_type": "stream",
     "text": [
      "\rEpisode 2071\tAverage Score: 0.1326"
     ]
    },
    {
     "name": "stdout",
     "output_type": "stream",
     "text": [
      "\rEpisode 2072\tAverage Score: 0.1326"
     ]
    },
    {
     "name": "stdout",
     "output_type": "stream",
     "text": [
      "\rEpisode 2073\tAverage Score: 0.1326"
     ]
    },
    {
     "name": "stdout",
     "output_type": "stream",
     "text": [
      "\rEpisode 2074\tAverage Score: 0.1326"
     ]
    },
    {
     "name": "stdout",
     "output_type": "stream",
     "text": [
      "\rEpisode 2075\tAverage Score: 0.1326"
     ]
    },
    {
     "name": "stdout",
     "output_type": "stream",
     "text": [
      "\rEpisode 2076\tAverage Score: 0.1326"
     ]
    },
    {
     "name": "stdout",
     "output_type": "stream",
     "text": [
      "\rEpisode 2077\tAverage Score: 0.1337"
     ]
    },
    {
     "name": "stdout",
     "output_type": "stream",
     "text": [
      "\rEpisode 2078\tAverage Score: 0.1337"
     ]
    },
    {
     "name": "stdout",
     "output_type": "stream",
     "text": [
      "\rEpisode 2079\tAverage Score: 0.1337"
     ]
    },
    {
     "name": "stdout",
     "output_type": "stream",
     "text": [
      "\rEpisode 2080\tAverage Score: 0.1337"
     ]
    },
    {
     "name": "stdout",
     "output_type": "stream",
     "text": [
      "\rEpisode 2081\tAverage Score: 0.1337"
     ]
    },
    {
     "name": "stdout",
     "output_type": "stream",
     "text": [
      "\rEpisode 2082\tAverage Score: 0.1326"
     ]
    },
    {
     "name": "stdout",
     "output_type": "stream",
     "text": [
      "\rEpisode 2083\tAverage Score: 0.1336"
     ]
    },
    {
     "name": "stdout",
     "output_type": "stream",
     "text": [
      "\rEpisode 2084\tAverage Score: 0.1356"
     ]
    },
    {
     "name": "stdout",
     "output_type": "stream",
     "text": [
      "\rEpisode 2085\tAverage Score: 0.1366"
     ]
    },
    {
     "name": "stdout",
     "output_type": "stream",
     "text": [
      "\rEpisode 2086\tAverage Score: 0.1376"
     ]
    },
    {
     "name": "stdout",
     "output_type": "stream",
     "text": [
      "\rEpisode 2087\tAverage Score: 0.1366"
     ]
    },
    {
     "name": "stdout",
     "output_type": "stream",
     "text": [
      "\rEpisode 2088\tAverage Score: 0.1366"
     ]
    },
    {
     "name": "stdout",
     "output_type": "stream",
     "text": [
      "\rEpisode 2089\tAverage Score: 0.1366"
     ]
    },
    {
     "name": "stdout",
     "output_type": "stream",
     "text": [
      "\rEpisode 2090\tAverage Score: 0.1366"
     ]
    },
    {
     "name": "stdout",
     "output_type": "stream",
     "text": [
      "\rEpisode 2091\tAverage Score: 0.1366"
     ]
    },
    {
     "name": "stdout",
     "output_type": "stream",
     "text": [
      "\rEpisode 2092\tAverage Score: 0.1376"
     ]
    },
    {
     "name": "stdout",
     "output_type": "stream",
     "text": [
      "\rEpisode 2093\tAverage Score: 0.1396"
     ]
    },
    {
     "name": "stdout",
     "output_type": "stream",
     "text": [
      "\rEpisode 2094\tAverage Score: 0.1396"
     ]
    },
    {
     "name": "stdout",
     "output_type": "stream",
     "text": [
      "\rEpisode 2095\tAverage Score: 0.1406"
     ]
    },
    {
     "name": "stdout",
     "output_type": "stream",
     "text": [
      "\rEpisode 2096\tAverage Score: 0.1406"
     ]
    },
    {
     "name": "stdout",
     "output_type": "stream",
     "text": [
      "\rEpisode 2097\tAverage Score: 0.1396"
     ]
    },
    {
     "name": "stdout",
     "output_type": "stream",
     "text": [
      "\rEpisode 2098\tAverage Score: 0.1386"
     ]
    },
    {
     "name": "stdout",
     "output_type": "stream",
     "text": [
      "\rEpisode 2099\tAverage Score: 0.1386"
     ]
    },
    {
     "name": "stdout",
     "output_type": "stream",
     "text": [
      "\rEpisode 2100\tAverage Score: 0.1386\rEpisode 2100\tAverage Score: 0.1386\n"
     ]
    },
    {
     "name": "stdout",
     "output_type": "stream",
     "text": [
      "\rEpisode 2101\tAverage Score: 0.1375"
     ]
    },
    {
     "name": "stdout",
     "output_type": "stream",
     "text": [
      "\rEpisode 2102\tAverage Score: 0.1375"
     ]
    },
    {
     "name": "stdout",
     "output_type": "stream",
     "text": [
      "\rEpisode 2103\tAverage Score: 0.1365"
     ]
    },
    {
     "name": "stdout",
     "output_type": "stream",
     "text": [
      "\rEpisode 2104\tAverage Score: 0.1365"
     ]
    },
    {
     "name": "stdout",
     "output_type": "stream",
     "text": [
      "\rEpisode 2105\tAverage Score: 0.1375"
     ]
    },
    {
     "name": "stdout",
     "output_type": "stream",
     "text": [
      "\rEpisode 2106\tAverage Score: 0.1395\rEpisode 2107\tAverage Score: 0.1365"
     ]
    },
    {
     "name": "stdout",
     "output_type": "stream",
     "text": [
      "\rEpisode 2108\tAverage Score: 0.1365"
     ]
    },
    {
     "name": "stdout",
     "output_type": "stream",
     "text": [
      "\rEpisode 2109\tAverage Score: 0.1375"
     ]
    },
    {
     "name": "stdout",
     "output_type": "stream",
     "text": [
      "\rEpisode 2110\tAverage Score: 0.1376"
     ]
    },
    {
     "name": "stdout",
     "output_type": "stream",
     "text": [
      "\rEpisode 2111\tAverage Score: 0.1386"
     ]
    },
    {
     "name": "stdout",
     "output_type": "stream",
     "text": [
      "\rEpisode 2112\tAverage Score: 0.1386\rEpisode 2113\tAverage Score: 0.1376"
     ]
    },
    {
     "name": "stdout",
     "output_type": "stream",
     "text": [
      "\rEpisode 2114\tAverage Score: 0.1466"
     ]
    },
    {
     "name": "stdout",
     "output_type": "stream",
     "text": [
      "\rEpisode 2115\tAverage Score: 0.1466"
     ]
    },
    {
     "name": "stdout",
     "output_type": "stream",
     "text": [
      "\rEpisode 2116\tAverage Score: 0.1466"
     ]
    },
    {
     "name": "stdout",
     "output_type": "stream",
     "text": [
      "\rEpisode 2117\tAverage Score: 0.1456\rEpisode 2118\tAverage Score: 0.1446"
     ]
    },
    {
     "name": "stdout",
     "output_type": "stream",
     "text": [
      "\rEpisode 2119\tAverage Score: 0.1446"
     ]
    },
    {
     "name": "stdout",
     "output_type": "stream",
     "text": [
      "\rEpisode 2120\tAverage Score: 0.1436"
     ]
    },
    {
     "name": "stdout",
     "output_type": "stream",
     "text": [
      "\rEpisode 2121\tAverage Score: 0.1436"
     ]
    },
    {
     "name": "stdout",
     "output_type": "stream",
     "text": [
      "\rEpisode 2122\tAverage Score: 0.1425\rEpisode 2123\tAverage Score: 0.1375"
     ]
    },
    {
     "name": "stdout",
     "output_type": "stream",
     "text": [
      "\rEpisode 2124\tAverage Score: 0.1365"
     ]
    },
    {
     "name": "stdout",
     "output_type": "stream",
     "text": [
      "\rEpisode 2125\tAverage Score: 0.1375"
     ]
    },
    {
     "name": "stdout",
     "output_type": "stream",
     "text": [
      "\rEpisode 2126\tAverage Score: 0.1395\rEpisode 2127\tAverage Score: 0.1385"
     ]
    },
    {
     "name": "stdout",
     "output_type": "stream",
     "text": [
      "\rEpisode 2128\tAverage Score: 0.1395"
     ]
    },
    {
     "name": "stdout",
     "output_type": "stream",
     "text": [
      "\rEpisode 2129\tAverage Score: 0.1405"
     ]
    },
    {
     "name": "stdout",
     "output_type": "stream",
     "text": [
      "\rEpisode 2130\tAverage Score: 0.1385\rEpisode 2131\tAverage Score: 0.1365"
     ]
    },
    {
     "name": "stdout",
     "output_type": "stream",
     "text": [
      "\rEpisode 2132\tAverage Score: 0.1365"
     ]
    },
    {
     "name": "stdout",
     "output_type": "stream",
     "text": [
      "\rEpisode 2133\tAverage Score: 0.1355"
     ]
    },
    {
     "name": "stdout",
     "output_type": "stream",
     "text": [
      "\rEpisode 2134\tAverage Score: 0.1355"
     ]
    },
    {
     "name": "stdout",
     "output_type": "stream",
     "text": [
      "\rEpisode 2135\tAverage Score: 0.1365"
     ]
    },
    {
     "name": "stdout",
     "output_type": "stream",
     "text": [
      "\rEpisode 2136\tAverage Score: 0.1365\rEpisode 2137\tAverage Score: 0.1355"
     ]
    },
    {
     "name": "stdout",
     "output_type": "stream",
     "text": [
      "\rEpisode 2138\tAverage Score: 0.1345"
     ]
    },
    {
     "name": "stdout",
     "output_type": "stream",
     "text": [
      "\rEpisode 2139\tAverage Score: 0.1355"
     ]
    },
    {
     "name": "stdout",
     "output_type": "stream",
     "text": [
      "\rEpisode 2140\tAverage Score: 0.1405"
     ]
    },
    {
     "name": "stdout",
     "output_type": "stream",
     "text": [
      "\rEpisode 2141\tAverage Score: 0.1405"
     ]
    },
    {
     "name": "stdout",
     "output_type": "stream",
     "text": [
      "\rEpisode 2142\tAverage Score: 0.1414"
     ]
    },
    {
     "name": "stdout",
     "output_type": "stream",
     "text": [
      "\rEpisode 2143\tAverage Score: 0.1424"
     ]
    },
    {
     "name": "stdout",
     "output_type": "stream",
     "text": [
      "\rEpisode 2144\tAverage Score: 0.1424"
     ]
    },
    {
     "name": "stdout",
     "output_type": "stream",
     "text": [
      "\rEpisode 2145\tAverage Score: 0.1434"
     ]
    },
    {
     "name": "stdout",
     "output_type": "stream",
     "text": [
      "\rEpisode 2146\tAverage Score: 0.1424"
     ]
    },
    {
     "name": "stdout",
     "output_type": "stream",
     "text": [
      "\rEpisode 2147\tAverage Score: 0.1415"
     ]
    },
    {
     "name": "stdout",
     "output_type": "stream",
     "text": [
      "\rEpisode 2148\tAverage Score: 0.1415"
     ]
    },
    {
     "name": "stdout",
     "output_type": "stream",
     "text": [
      "\rEpisode 2149\tAverage Score: 0.1415"
     ]
    },
    {
     "name": "stdout",
     "output_type": "stream",
     "text": [
      "\rEpisode 2150\tAverage Score: 0.1415"
     ]
    },
    {
     "name": "stdout",
     "output_type": "stream",
     "text": [
      "\rEpisode 2151\tAverage Score: 0.1405"
     ]
    },
    {
     "name": "stdout",
     "output_type": "stream",
     "text": [
      "\rEpisode 2152\tAverage Score: 0.1415"
     ]
    },
    {
     "name": "stdout",
     "output_type": "stream",
     "text": [
      "\rEpisode 2153\tAverage Score: 0.1415"
     ]
    },
    {
     "name": "stdout",
     "output_type": "stream",
     "text": [
      "\rEpisode 2154\tAverage Score: 0.1395"
     ]
    },
    {
     "name": "stdout",
     "output_type": "stream",
     "text": [
      "\rEpisode 2155\tAverage Score: 0.1385"
     ]
    },
    {
     "name": "stdout",
     "output_type": "stream",
     "text": [
      "\rEpisode 2156\tAverage Score: 0.1385"
     ]
    },
    {
     "name": "stdout",
     "output_type": "stream",
     "text": [
      "\rEpisode 2157\tAverage Score: 0.1395"
     ]
    },
    {
     "name": "stdout",
     "output_type": "stream",
     "text": [
      "\rEpisode 2158\tAverage Score: 0.1405"
     ]
    },
    {
     "name": "stdout",
     "output_type": "stream",
     "text": [
      "\rEpisode 2159\tAverage Score: 0.1405"
     ]
    },
    {
     "name": "stdout",
     "output_type": "stream",
     "text": [
      "\rEpisode 2160\tAverage Score: 0.1435"
     ]
    },
    {
     "name": "stdout",
     "output_type": "stream",
     "text": [
      "\rEpisode 2161\tAverage Score: 0.1425"
     ]
    },
    {
     "name": "stdout",
     "output_type": "stream",
     "text": [
      "\rEpisode 2162\tAverage Score: 0.1515"
     ]
    },
    {
     "name": "stdout",
     "output_type": "stream",
     "text": [
      "\rEpisode 2163\tAverage Score: 0.1515"
     ]
    },
    {
     "name": "stdout",
     "output_type": "stream",
     "text": [
      "\rEpisode 2164\tAverage Score: 0.1525"
     ]
    },
    {
     "name": "stdout",
     "output_type": "stream",
     "text": [
      "\rEpisode 2165\tAverage Score: 0.1575"
     ]
    },
    {
     "name": "stdout",
     "output_type": "stream",
     "text": [
      "\rEpisode 2166\tAverage Score: 0.1595"
     ]
    },
    {
     "name": "stdout",
     "output_type": "stream",
     "text": [
      "\rEpisode 2167\tAverage Score: 0.1595"
     ]
    },
    {
     "name": "stdout",
     "output_type": "stream",
     "text": [
      "\rEpisode 2168\tAverage Score: 0.1675"
     ]
    },
    {
     "name": "stdout",
     "output_type": "stream",
     "text": [
      "\rEpisode 2169\tAverage Score: 0.1705"
     ]
    },
    {
     "name": "stdout",
     "output_type": "stream",
     "text": [
      "\rEpisode 2170\tAverage Score: 0.1705"
     ]
    },
    {
     "name": "stdout",
     "output_type": "stream",
     "text": [
      "\rEpisode 2171\tAverage Score: 0.1795"
     ]
    },
    {
     "name": "stdout",
     "output_type": "stream",
     "text": [
      "\rEpisode 2172\tAverage Score: 0.1945"
     ]
    },
    {
     "name": "stdout",
     "output_type": "stream",
     "text": [
      "\rEpisode 2173\tAverage Score: 0.1945"
     ]
    },
    {
     "name": "stdout",
     "output_type": "stream",
     "text": [
      "\rEpisode 2174\tAverage Score: 0.1945"
     ]
    },
    {
     "name": "stdout",
     "output_type": "stream",
     "text": [
      "\rEpisode 2175\tAverage Score: 0.1965"
     ]
    },
    {
     "name": "stdout",
     "output_type": "stream",
     "text": [
      "\rEpisode 2176\tAverage Score: 0.1964"
     ]
    },
    {
     "name": "stdout",
     "output_type": "stream",
     "text": [
      "\rEpisode 2177\tAverage Score: 0.1954"
     ]
    },
    {
     "name": "stdout",
     "output_type": "stream",
     "text": [
      "\rEpisode 2178\tAverage Score: 0.1964"
     ]
    },
    {
     "name": "stdout",
     "output_type": "stream",
     "text": [
      "\rEpisode 2179\tAverage Score: 0.1964"
     ]
    },
    {
     "name": "stdout",
     "output_type": "stream",
     "text": [
      "\rEpisode 2180\tAverage Score: 0.1954"
     ]
    },
    {
     "name": "stdout",
     "output_type": "stream",
     "text": [
      "\rEpisode 2181\tAverage Score: 0.1954"
     ]
    },
    {
     "name": "stdout",
     "output_type": "stream",
     "text": [
      "\rEpisode 2182\tAverage Score: 0.1984"
     ]
    },
    {
     "name": "stdout",
     "output_type": "stream",
     "text": [
      "\rEpisode 2183\tAverage Score: 0.1974"
     ]
    },
    {
     "name": "stdout",
     "output_type": "stream",
     "text": [
      "\rEpisode 2184\tAverage Score: 0.2024"
     ]
    },
    {
     "name": "stdout",
     "output_type": "stream",
     "text": [
      "\rEpisode 2185\tAverage Score: 0.2034"
     ]
    },
    {
     "name": "stdout",
     "output_type": "stream",
     "text": [
      "\rEpisode 2186\tAverage Score: 0.2034"
     ]
    },
    {
     "name": "stdout",
     "output_type": "stream",
     "text": [
      "\rEpisode 2187\tAverage Score: 0.2054"
     ]
    },
    {
     "name": "stdout",
     "output_type": "stream",
     "text": [
      "\rEpisode 2188\tAverage Score: 0.2094"
     ]
    },
    {
     "name": "stdout",
     "output_type": "stream",
     "text": [
      "\rEpisode 2189\tAverage Score: 0.2094"
     ]
    },
    {
     "name": "stdout",
     "output_type": "stream",
     "text": [
      "\rEpisode 2190\tAverage Score: 0.2113"
     ]
    },
    {
     "name": "stdout",
     "output_type": "stream",
     "text": [
      "\rEpisode 2191\tAverage Score: 0.2113"
     ]
    },
    {
     "name": "stdout",
     "output_type": "stream",
     "text": [
      "\rEpisode 2192\tAverage Score: 0.2123"
     ]
    },
    {
     "name": "stdout",
     "output_type": "stream",
     "text": [
      "\rEpisode 2193\tAverage Score: 0.2103"
     ]
    },
    {
     "name": "stdout",
     "output_type": "stream",
     "text": [
      "\rEpisode 2194\tAverage Score: 0.2113"
     ]
    },
    {
     "name": "stdout",
     "output_type": "stream",
     "text": [
      "\rEpisode 2195\tAverage Score: 0.2083"
     ]
    },
    {
     "name": "stdout",
     "output_type": "stream",
     "text": [
      "\rEpisode 2196\tAverage Score: 0.2113"
     ]
    },
    {
     "name": "stdout",
     "output_type": "stream",
     "text": [
      "\rEpisode 2197\tAverage Score: 0.2123"
     ]
    },
    {
     "name": "stdout",
     "output_type": "stream",
     "text": [
      "\rEpisode 2198\tAverage Score: 0.2123"
     ]
    },
    {
     "name": "stdout",
     "output_type": "stream",
     "text": [
      "\rEpisode 2199\tAverage Score: 0.2162"
     ]
    },
    {
     "name": "stdout",
     "output_type": "stream",
     "text": [
      "\rEpisode 2200\tAverage Score: 0.2182\rEpisode 2200\tAverage Score: 0.2182\n"
     ]
    },
    {
     "name": "stdout",
     "output_type": "stream",
     "text": [
      "\rEpisode 2201\tAverage Score: 0.2183"
     ]
    },
    {
     "name": "stdout",
     "output_type": "stream",
     "text": [
      "\rEpisode 2202\tAverage Score: 0.2183"
     ]
    },
    {
     "name": "stdout",
     "output_type": "stream",
     "text": [
      "\rEpisode 2203\tAverage Score: 0.2182"
     ]
    },
    {
     "name": "stdout",
     "output_type": "stream",
     "text": [
      "\rEpisode 2204\tAverage Score: 0.2182"
     ]
    },
    {
     "name": "stdout",
     "output_type": "stream",
     "text": [
      "\rEpisode 2205\tAverage Score: 0.2212\rEpisode 2206\tAverage Score: 0.2182"
     ]
    },
    {
     "name": "stdout",
     "output_type": "stream",
     "text": [
      "\rEpisode 2207\tAverage Score: 0.2192\rEpisode 2208\tAverage Score: 0.2182"
     ]
    },
    {
     "name": "stdout",
     "output_type": "stream",
     "text": [
      "\rEpisode 2209\tAverage Score: 0.2172"
     ]
    },
    {
     "name": "stdout",
     "output_type": "stream",
     "text": [
      "\rEpisode 2210\tAverage Score: 0.2232"
     ]
    },
    {
     "name": "stdout",
     "output_type": "stream",
     "text": [
      "\rEpisode 2211\tAverage Score: 0.2312"
     ]
    },
    {
     "name": "stdout",
     "output_type": "stream",
     "text": [
      "\rEpisode 2212\tAverage Score: 0.2311"
     ]
    },
    {
     "name": "stdout",
     "output_type": "stream",
     "text": [
      "\rEpisode 2213\tAverage Score: 0.2481"
     ]
    },
    {
     "name": "stdout",
     "output_type": "stream",
     "text": [
      "\rEpisode 2214\tAverage Score: 0.2401"
     ]
    },
    {
     "name": "stdout",
     "output_type": "stream",
     "text": [
      "\rEpisode 2215\tAverage Score: 0.2401"
     ]
    },
    {
     "name": "stdout",
     "output_type": "stream",
     "text": [
      "\rEpisode 2216\tAverage Score: 0.2401"
     ]
    },
    {
     "name": "stdout",
     "output_type": "stream",
     "text": [
      "\rEpisode 2217\tAverage Score: 0.2471"
     ]
    },
    {
     "name": "stdout",
     "output_type": "stream",
     "text": [
      "\rEpisode 2218\tAverage Score: 0.2481"
     ]
    },
    {
     "name": "stdout",
     "output_type": "stream",
     "text": [
      "\rEpisode 2219\tAverage Score: 0.2541"
     ]
    },
    {
     "name": "stdout",
     "output_type": "stream",
     "text": [
      "\rEpisode 2220\tAverage Score: 0.2611"
     ]
    },
    {
     "name": "stdout",
     "output_type": "stream",
     "text": [
      "\rEpisode 2221\tAverage Score: 0.2611"
     ]
    },
    {
     "name": "stdout",
     "output_type": "stream",
     "text": [
      "\rEpisode 2222\tAverage Score: 0.2822"
     ]
    },
    {
     "name": "stdout",
     "output_type": "stream",
     "text": [
      "\rEpisode 2223\tAverage Score: 0.2832"
     ]
    },
    {
     "name": "stdout",
     "output_type": "stream",
     "text": [
      "\rEpisode 2224\tAverage Score: 0.2912"
     ]
    },
    {
     "name": "stdout",
     "output_type": "stream",
     "text": [
      "\rEpisode 2225\tAverage Score: 0.2972"
     ]
    },
    {
     "name": "stdout",
     "output_type": "stream",
     "text": [
      "\rEpisode 2226\tAverage Score: 0.2962"
     ]
    },
    {
     "name": "stdout",
     "output_type": "stream",
     "text": [
      "\rEpisode 2227\tAverage Score: 0.3222"
     ]
    },
    {
     "name": "stdout",
     "output_type": "stream",
     "text": [
      "\rEpisode 2228\tAverage Score: 0.3222"
     ]
    },
    {
     "name": "stdout",
     "output_type": "stream",
     "text": [
      "\rEpisode 2229\tAverage Score: 0.3302"
     ]
    },
    {
     "name": "stdout",
     "output_type": "stream",
     "text": [
      "\rEpisode 2230\tAverage Score: 0.3302"
     ]
    },
    {
     "name": "stdout",
     "output_type": "stream",
     "text": [
      "\rEpisode 2231\tAverage Score: 0.3392"
     ]
    },
    {
     "name": "stdout",
     "output_type": "stream",
     "text": [
      "\rEpisode 2232\tAverage Score: 0.3412"
     ]
    },
    {
     "name": "stdout",
     "output_type": "stream",
     "text": [
      "\rEpisode 2233\tAverage Score: 0.3542"
     ]
    },
    {
     "name": "stdout",
     "output_type": "stream",
     "text": [
      "\rEpisode 2234\tAverage Score: 0.3642"
     ]
    },
    {
     "name": "stdout",
     "output_type": "stream",
     "text": [
      "\rEpisode 2235\tAverage Score: 0.3652"
     ]
    },
    {
     "name": "stdout",
     "output_type": "stream",
     "text": [
      "\rEpisode 2236\tAverage Score: 0.3642"
     ]
    },
    {
     "name": "stdout",
     "output_type": "stream",
     "text": [
      "\rEpisode 2237\tAverage Score: 0.3652"
     ]
    },
    {
     "name": "stdout",
     "output_type": "stream",
     "text": [
      "\rEpisode 2238\tAverage Score: 0.3782"
     ]
    },
    {
     "name": "stdout",
     "output_type": "stream",
     "text": [
      "\rEpisode 2239\tAverage Score: 0.3811"
     ]
    },
    {
     "name": "stdout",
     "output_type": "stream",
     "text": [
      "\rEpisode 2240\tAverage Score: 0.3791"
     ]
    },
    {
     "name": "stdout",
     "output_type": "stream",
     "text": [
      "\rEpisode 2241\tAverage Score: 0.3842"
     ]
    },
    {
     "name": "stdout",
     "output_type": "stream",
     "text": [
      "\rEpisode 2242\tAverage Score: 0.3903"
     ]
    },
    {
     "name": "stdout",
     "output_type": "stream",
     "text": [
      "\rEpisode 2243\tAverage Score: 0.4133"
     ]
    },
    {
     "name": "stdout",
     "output_type": "stream",
     "text": [
      "\rEpisode 2244\tAverage Score: 0.4132"
     ]
    },
    {
     "name": "stdout",
     "output_type": "stream",
     "text": [
      "\rEpisode 2245\tAverage Score: 0.4372"
     ]
    },
    {
     "name": "stdout",
     "output_type": "stream",
     "text": [
      "\rEpisode 2246\tAverage Score: 0.4622\rEpisode 2247\tAverage Score: 0.4612"
     ]
    },
    {
     "name": "stdout",
     "output_type": "stream",
     "text": [
      "\rEpisode 2248\tAverage Score: 0.4862"
     ]
    },
    {
     "name": "stdout",
     "output_type": "stream",
     "text": [
      "\rEpisode 2249\tAverage Score: 0.4862"
     ]
    },
    {
     "name": "stdout",
     "output_type": "stream",
     "text": [
      "\rEpisode 2250\tAverage Score: 0.4972"
     ]
    },
    {
     "name": "stdout",
     "output_type": "stream",
     "text": [
      "\rEpisode 2251\tAverage Score: 0.5222\nEnvironment solved in 2151 episodes!\tAverage Score: 0.5222\n"
     ]
    }
   ],
   "source": [
    "agent = Agent(state_size=state_size, action_size=action_size, num_agents=num_agents, random_seed=10)\n",
    "\n",
    "\n",
    "num_episodes = 5000\n",
    "\n",
    "def ddpg(n_episodes=1000, max_t=300, print_every=100):\n",
    "    scores_deque = deque(maxlen=print_every)\n",
    "    scores = []\n",
    "    mean_scores = []                 # list containing running mean scores from 100 episodes\n",
    "    for i_episode in range(1, n_episodes+1):\n",
    "        env_info = env.reset(train_mode=True)[brain_name]\n",
    "        state = env_info.vector_observations\n",
    "        agent.reset()\n",
    "        score = np.zeros(num_agents)\n",
    "        for t in range(max_t):\n",
    "            action1 = agent.act(state[0])\n",
    "            action2 = agent.act(state[1])\n",
    "            action = np.concatenate((action1, action2), axis=0)\n",
    "            action = np.clip(action, -1, 1)\n",
    "            env_info = env.step(action)[brain_name]\n",
    "            next_state = env_info.vector_observations\n",
    "            reward = env_info.rewards\n",
    "            done = env_info.local_done\n",
    "            agent.step(state, action, reward, next_state, done)\n",
    "\n",
    "            state = next_state\n",
    "            score += reward\n",
    "            if np.any(done):\n",
    "                break\n",
    "        scores_deque.append(np.max(score))\n",
    "        scores.append(np.max(score))\n",
    "        mean_scores.append(np.mean(scores_deque))  # save running mean\n",
    "        print('\\rEpisode {}\\tAverage Score: {:.4f}'.format(i_episode, np.mean(scores_deque)), end=\"\")\n",
    "        torch.save(agent.actor_local.state_dict(), 'Tennis_actor.pth')\n",
    "        torch.save(agent.critic_local.state_dict(), 'Tennis_critic.pth')\n",
    "        if i_episode % print_every == 0:\n",
    "            print('\\rEpisode {}\\tAverage Score: {:.4f}'.format(i_episode, np.mean(scores_deque)))\n",
    "\n",
    "        if np.mean(scores_deque) > 0.5:\n",
    "            print('\\nEnvironment solved in {:d} episodes!\\tAverage Score: {:.4f}'.format(i_episode-100,\n",
    "                                                                                         np.mean(scores_deque)))\n",
    "            break\n",
    "\n",
    "    return scores, mean_scores\n",
    "\n",
    "\n",
    "scores, mean_scores = ddpg(n_episodes=num_episodes, max_t=1000)\n",
    "\n"
   ]
  },
  {
   "cell_type": "code",
   "execution_count": 10,
   "metadata": {},
   "outputs": [
    {
     "data": {
      "image/png": "[encoded data removed]",
      "text/plain": [
       "<matplotlib.figure.Figure at 0x7fb94b84fb00>"
      ]
     },
     "metadata": {},
     "output_type": "display_data"
    }
   ],
   "source": [
    "\n",
    "\n",
    "\n",
    "%matplotlib inline\n",
    "\n",
    "\n",
    "fig = plt.figure()\n",
    "ax = fig.add_subplot(111)\n",
    "plt.plot(np.arange(1, len(scores)+1), scores, label='scores')\n",
    "plt.plot(np.arange(1, len(mean_scores)+1), mean_scores, label='running mean over 100 episodes')\n",
    "plt.ylabel('Score')\n",
    "plt.xlabel('Episode #')\n",
    "plt.legend(loc='upper left')\n",
    "plt.grid()\n",
    "plt.savefig('training_scores.png', format='png', dpi=1000)\n",
    "plt.show()\n",
    "\n",
    "\n",
    "\n"
   ]
  },
  {
   "cell_type": "code",
   "execution_count": null,
   "metadata": {},
   "outputs": [],
   "source": []
  }
 ],
 "metadata": {
  "kernelspec": {
   "display_name": "Python 3",
   "language": "python",
   "name": "python3"
  },
  "language_info": {
   "codemirror_mode": {
    "name": "ipython",
    "version": 3
   },
   "file_extension": ".py",
   "mimetype": "text/x-python",
   "name": "python",
   "nbconvert_exporter": "python",
   "pygments_lexer": "ipython3",
   "version": "3.6.4"
  }
 },
 "nbformat": 4,
 "nbformat_minor": 2
}
